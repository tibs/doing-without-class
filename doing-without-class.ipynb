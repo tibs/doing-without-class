{
 "cells": [
  {
   "cell_type": "markdown",
   "id": "f5f63916",
   "metadata": {},
   "source": [
    "A simple class"
   ]
  },
  {
   "cell_type": "code",
   "execution_count": 2,
   "id": "96081991",
   "metadata": {},
   "outputs": [],
   "source": [
    "class Example:\n",
    "    a = 3\n",
    "    def f(self, p):\n",
    "        \"\"\"A function that takes a single argument\"\"\"\n",
    "        return f'The parameters were {self} and {p}'"
   ]
  },
  {
   "cell_type": "markdown",
   "id": "3b4e58d0",
   "metadata": {},
   "source": []
  },
  {
   "cell_type": "markdown",
   "id": "8e15328b",
   "metadata": {},
   "source": [
    "Which we can use in the expected manner"
   ]
  },
  {
   "cell_type": "code",
   "execution_count": 164,
   "id": "5acee455",
   "metadata": {},
   "outputs": [
    {
     "name": "stdout",
     "output_type": "stream",
     "text": [
      "Class <class '__main__.Example'>\n",
      "Instance <__main__.Example object at 0x1031dde50>\n",
      "Value    3\n",
      "Method   <bound method Example.f of <__main__.Example object at 0x1031dde50>>\n",
      "Calling the method with 3 returns 'The parameters were <__main__.Example object at 0x1031dde50> and 3'\n"
     ]
    }
   ],
   "source": [
    "e = Example()\n",
    "print(f'Class {Example}')\n",
    "print(f'Instance {e}')\n",
    "print(f'Value    {e.a}')\n",
    "print(f'Method   {e.f}')\n",
    "print(f'Calling the method with 3 returns {repr(e.f(3))}')"
   ]
  },
  {
   "cell_type": "markdown",
   "id": "facf755e",
   "metadata": {},
   "source": [
    "`dir` shows us the most useful members of an object"
   ]
  },
  {
   "cell_type": "code",
   "execution_count": 165,
   "id": "4be202de",
   "metadata": {},
   "outputs": [
    {
     "name": "stdout",
     "output_type": "stream",
     "text": [
      "['__class__', '__delattr__', '__dict__', '__dir__', '__doc__', '__eq__', '__format__', '__ge__', '__getattribute__', '__gt__', '__hash__', '__init__', '__init_subclass__', '__le__', '__lt__', '__module__', '__ne__', '__new__', '__reduce__', '__reduce_ex__', '__repr__', '__setattr__', '__sizeof__', '__str__', '__subclasshook__', '__weakref__', 'a', 'f']\n"
     ]
    }
   ],
   "source": [
    "print(dir(Example))"
   ]
  },
  {
   "cell_type": "code",
   "execution_count": 166,
   "id": "2054d6d5",
   "metadata": {},
   "outputs": [
    {
     "name": "stdout",
     "output_type": "stream",
     "text": [
      "['__class__', '__delattr__', '__dict__', '__dir__', '__doc__', '__eq__', '__format__', '__ge__', '__getattribute__', '__gt__', '__hash__', '__init__', '__init_subclass__', '__le__', '__lt__', '__module__', '__ne__', '__new__', '__reduce__', '__reduce_ex__', '__repr__', '__setattr__', '__sizeof__', '__str__', '__subclasshook__', '__weakref__', 'a', 'f']\n"
     ]
    }
   ],
   "source": [
    "print(dir(e))"
   ]
  },
  {
   "cell_type": "markdown",
   "id": "92ee58e3",
   "metadata": {},
   "source": [
    "Classes and instances are both very similar in \"shape\""
   ]
  },
  {
   "cell_type": "code",
   "execution_count": 167,
   "id": "6bc2fa1e",
   "metadata": {},
   "outputs": [
    {
     "data": {
      "text/plain": [
       "True"
      ]
     },
     "execution_count": 167,
     "metadata": {},
     "output_type": "execute_result"
    }
   ],
   "source": [
    "dir(Example) == dir(e)"
   ]
  },
  {
   "cell_type": "markdown",
   "id": "762f49dc",
   "metadata": {},
   "source": [
    "We can update the `a` on the instance"
   ]
  },
  {
   "cell_type": "code",
   "execution_count": 168,
   "id": "add4280f",
   "metadata": {},
   "outputs": [
    {
     "name": "stdout",
     "output_type": "stream",
     "text": [
      "3\n",
      "4\n"
     ]
    }
   ],
   "source": [
    "print(e.a)\n",
    "e.a += 1\n",
    "print(e.a)"
   ]
  },
  {
   "cell_type": "markdown",
   "id": "a74ed82f",
   "metadata": {},
   "source": [
    "And it doesn't change `a` on the class"
   ]
  },
  {
   "cell_type": "code",
   "execution_count": 169,
   "id": "2e66f96a",
   "metadata": {},
   "outputs": [
    {
     "name": "stdout",
     "output_type": "stream",
     "text": [
      "3\n"
     ]
    }
   ],
   "source": [
    "print(Example.a)"
   ]
  },
  {
   "cell_type": "markdown",
   "id": "188e891b",
   "metadata": {},
   "source": [
    "And vice-versa"
   ]
  },
  {
   "cell_type": "code",
   "execution_count": 170,
   "id": "6f2b16b3",
   "metadata": {},
   "outputs": [
    {
     "name": "stdout",
     "output_type": "stream",
     "text": [
      "Class    \"a\" 99\n",
      "Instance \"a\" 4\n"
     ]
    }
   ],
   "source": [
    "Example.a = 99\n",
    "print(f'Class    \"a\" {Example.a}')\n",
    "print(f'Instance \"a\" {e.a}')"
   ]
  },
  {
   "cell_type": "markdown",
   "id": "39c0e4bb",
   "metadata": {},
   "source": [
    "If we add a new value to the class, the instance will get it"
   ]
  },
  {
   "cell_type": "code",
   "execution_count": 171,
   "id": "70b3728c",
   "metadata": {},
   "outputs": [
    {
     "name": "stdout",
     "output_type": "stream",
     "text": [
      "Class    \"b\" 12\n",
      "Instance \"b\" 12\n"
     ]
    }
   ],
   "source": [
    "Example.b = 12\n",
    "print(f'Class    \"b\" {Example.b}')\n",
    "print(f'Instance \"b\" {e.b}')"
   ]
  },
  {
   "cell_type": "markdown",
   "id": "fbd2177f",
   "metadata": {},
   "source": [
    "But not the other way round"
   ]
  },
  {
   "cell_type": "code",
   "execution_count": 194,
   "id": "5dd8c57a",
   "metadata": {},
   "outputs": [
    {
     "name": "stdout",
     "output_type": "stream",
     "text": [
      "Instance has \"c\" True\n",
      "Instance \"c\" -1\n",
      "Class has \"c\" False\n"
     ]
    },
    {
     "ename": "AttributeError",
     "evalue": "type object 'Example' has no attribute 'c'",
     "output_type": "error",
     "traceback": [
      "\u001b[0;31m---------------------------------------------------------------------------\u001b[0m",
      "\u001b[0;31mAttributeError\u001b[0m                            Traceback (most recent call last)",
      "\u001b[0;32m/var/folders/3c/74720f_907b07qy3vwcklsg00000gp/T/ipykernel_24937/545715870.py\u001b[0m in \u001b[0;36m<module>\u001b[0;34m\u001b[0m\n\u001b[1;32m      3\u001b[0m \u001b[0mprint\u001b[0m\u001b[0;34m(\u001b[0m\u001b[0;34mf'Instance \"c\" {e.c}'\u001b[0m\u001b[0;34m)\u001b[0m\u001b[0;34m\u001b[0m\u001b[0;34m\u001b[0m\u001b[0m\n\u001b[1;32m      4\u001b[0m \u001b[0mprint\u001b[0m\u001b[0;34m(\u001b[0m\u001b[0;34mf'Class has \"c\" {hasattr(Example, \"c\")}'\u001b[0m\u001b[0;34m)\u001b[0m\u001b[0;34m\u001b[0m\u001b[0;34m\u001b[0m\u001b[0m\n\u001b[0;32m----> 5\u001b[0;31m \u001b[0mprint\u001b[0m\u001b[0;34m(\u001b[0m\u001b[0;34mf'Class    \"c\" {Example.c}'\u001b[0m\u001b[0;34m)\u001b[0m\u001b[0;34m\u001b[0m\u001b[0;34m\u001b[0m\u001b[0m\n\u001b[0m",
      "\u001b[0;31mAttributeError\u001b[0m: type object 'Example' has no attribute 'c'"
     ]
    }
   ],
   "source": [
    "e.c = -1\n",
    "print(f'Instance has \"c\" {hasattr(e, \"c\")}')\n",
    "print(f'Instance \"c\" {e.c}')\n",
    "print(f'Class has \"c\" {hasattr(Example, \"c\")}')\n",
    "print(f'Class    \"c\" {Example.c}')"
   ]
  },
  {
   "cell_type": "markdown",
   "id": "a621a356",
   "metadata": {},
   "source": [
    "We can call the method on the instance:"
   ]
  },
  {
   "cell_type": "code",
   "execution_count": 173,
   "id": "82181464",
   "metadata": {},
   "outputs": [
    {
     "data": {
      "text/plain": [
       "'The parameters were <__main__.Example object at 0x1031dde50> and 4'"
      ]
     },
     "execution_count": 173,
     "metadata": {},
     "output_type": "execute_result"
    }
   ],
   "source": [
    "e.f(4)"
   ]
  },
  {
   "cell_type": "markdown",
   "id": "8dc3fffa",
   "metadata": {},
   "source": [
    "Or via the class"
   ]
  },
  {
   "cell_type": "code",
   "execution_count": 174,
   "id": "4a37bd59",
   "metadata": {},
   "outputs": [
    {
     "data": {
      "text/plain": [
       "'The parameters were <__main__.Example object at 0x1031dde50> and 4'"
      ]
     },
     "execution_count": 174,
     "metadata": {},
     "output_type": "execute_result"
    }
   ],
   "source": [
    "Example.f(e, 4)"
   ]
  },
  {
   "cell_type": "markdown",
   "id": "8d44298e",
   "metadata": {},
   "source": [
    "and even"
   ]
  },
  {
   "cell_type": "code",
   "execution_count": 175,
   "id": "6325b528",
   "metadata": {},
   "outputs": [
    {
     "data": {
      "text/plain": [
       "'The parameters were not an instance and 4'"
      ]
     },
     "execution_count": 175,
     "metadata": {},
     "output_type": "execute_result"
    }
   ],
   "source": [
    "Example.f('not an instance', 4)"
   ]
  },
  {
   "cell_type": "markdown",
   "id": "28e004ea",
   "metadata": {},
   "source": [
    "So we shouldn't be surprised that on the class it's a function, but on the instance it's a method - it gets passed the instance as its first argument"
   ]
  },
  {
   "cell_type": "code",
   "execution_count": 177,
   "id": "45907380",
   "metadata": {},
   "outputs": [
    {
     "name": "stdout",
     "output_type": "stream",
     "text": [
      "Example.f is a <class 'function'>\n",
      "e.f is a <class 'method'>\n"
     ]
    }
   ],
   "source": [
    "print(f'Example.f is a {type(Example.f)}')\n",
    "print(f'e.f is a {type(e.f)}')"
   ]
  },
  {
   "cell_type": "markdown",
   "id": "7e70f520",
   "metadata": {},
   "source": [
    "**Aside** In Python, all methods are functions, and there's nothing special about the name `self`."
   ]
  },
  {
   "cell_type": "code",
   "execution_count": 24,
   "id": "e61efd27",
   "metadata": {},
   "outputs": [
    {
     "name": "stdout",
     "output_type": "stream",
     "text": [
      "Class has \"double\" True\n"
     ]
    },
    {
     "ename": "NameError",
     "evalue": "name 'e' is not defined",
     "output_type": "error",
     "traceback": [
      "\u001b[0;31m---------------------------------------------------------------------------\u001b[0m",
      "\u001b[0;31mNameError\u001b[0m                                 Traceback (most recent call last)",
      "\u001b[0;32m/var/folders/3c/74720f_907b07qy3vwcklsg00000gp/T/ipykernel_39094/427419161.py\u001b[0m in \u001b[0;36m<module>\u001b[0;34m\u001b[0m\n\u001b[1;32m      4\u001b[0m \u001b[0mExample\u001b[0m\u001b[0;34m.\u001b[0m\u001b[0mdouble\u001b[0m \u001b[0;34m=\u001b[0m \u001b[0mdouble\u001b[0m\u001b[0;34m\u001b[0m\u001b[0;34m\u001b[0m\u001b[0m\n\u001b[1;32m      5\u001b[0m \u001b[0mprint\u001b[0m\u001b[0;34m(\u001b[0m\u001b[0;34mf'Class has \"double\" {hasattr(Example, \"double\")}'\u001b[0m\u001b[0;34m)\u001b[0m\u001b[0;34m\u001b[0m\u001b[0;34m\u001b[0m\u001b[0m\n\u001b[0;32m----> 6\u001b[0;31m \u001b[0mprint\u001b[0m\u001b[0;34m(\u001b[0m\u001b[0;34mf'Instance has \"double\" {hasattr(e, \"double\")}'\u001b[0m\u001b[0;34m)\u001b[0m\u001b[0;34m\u001b[0m\u001b[0;34m\u001b[0m\u001b[0m\n\u001b[0m\u001b[1;32m      7\u001b[0m \u001b[0mprint\u001b[0m\u001b[0;34m(\u001b[0m\u001b[0;34mf'Example.double is a {type(Example.double)}'\u001b[0m\u001b[0;34m)\u001b[0m\u001b[0;34m\u001b[0m\u001b[0;34m\u001b[0m\u001b[0m\n\u001b[1;32m      8\u001b[0m \u001b[0mprint\u001b[0m\u001b[0;34m(\u001b[0m\u001b[0;34mf'e.double is a {type(e.double)}'\u001b[0m\u001b[0;34m)\u001b[0m\u001b[0;34m\u001b[0m\u001b[0;34m\u001b[0m\u001b[0m\n",
      "\u001b[0;31mNameError\u001b[0m: name 'e' is not defined"
     ]
    }
   ],
   "source": [
    "def double(self, x):\n",
    "    return x + x\n",
    "\n",
    "Example.double = double\n",
    "print(f'Class has \"double\" {hasattr(Example, \"double\")}')\n",
    "print(f'Instance has \"double\" {hasattr(e, \"double\")}')\n",
    "print(f'Example.double is a {type(Example.double)}')\n",
    "print(f'e.double is a {type(e.double)}')\n",
    "print(f'e.double(3) is {e.double(3)}')"
   ]
  },
  {
   "cell_type": "code",
   "execution_count": 186,
   "id": "8ff9b0e7",
   "metadata": {},
   "outputs": [
    {
     "name": "stdout",
     "output_type": "stream",
     "text": [
      "<__main__.E object at 0x10320b850>\n",
      "<__main__.E object at 0x10320b850> 'abc'\n",
      "<__main__.E object at 0x10320b850>\n"
     ]
    }
   ],
   "source": [
    "class E:\n",
    "    def s(self):\n",
    "        return repr(self)\n",
    "    def t(self, x):\n",
    "        return repr(self) + ' ' + repr(x)\n",
    "    def u(x):\n",
    "        return repr(x)\n",
    "    \n",
    "e = E()\n",
    "print(e.s())\n",
    "print(e.t('abc'))\n",
    "print(e.u())"
   ]
  },
  {
   "cell_type": "code",
   "execution_count": 189,
   "id": "29bb7507",
   "metadata": {},
   "outputs": [
    {
     "name": "stdout",
     "output_type": "stream",
     "text": [
      "jjj\n"
     ]
    }
   ],
   "source": [
    "def j():\n",
    "    return 'jjj'\n",
    "\n",
    "e.j = j\n",
    "\n",
    "print(e.j())"
   ]
  },
  {
   "cell_type": "code",
   "execution_count": null,
   "id": "31a74211",
   "metadata": {},
   "outputs": [],
   "source": []
  },
  {
   "cell_type": "code",
   "execution_count": null,
   "id": "3d69c303",
   "metadata": {},
   "outputs": [],
   "source": []
  },
  {
   "cell_type": "code",
   "execution_count": null,
   "id": "8b37765d",
   "metadata": {},
   "outputs": [],
   "source": []
  },
  {
   "cell_type": "code",
   "execution_count": null,
   "id": "e20e3812",
   "metadata": {},
   "outputs": [],
   "source": []
  },
  {
   "cell_type": "markdown",
   "id": "ded6830f",
   "metadata": {},
   "source": [
    "What type is our original class?"
   ]
  },
  {
   "cell_type": "code",
   "execution_count": 3,
   "id": "6a2dee1f",
   "metadata": {},
   "outputs": [
    {
     "name": "stdout",
     "output_type": "stream",
     "text": [
      "<class 'type'>\n"
     ]
    }
   ],
   "source": [
    "print(type(Example))"
   ]
  },
  {
   "cell_type": "markdown",
   "id": "1993b67b",
   "metadata": {},
   "source": [
    "Not, perhaps, what one might expect - I for one would have guessed \"class\".\n",
    "\n",
    "But given:"
   ]
  },
  {
   "cell_type": "code",
   "execution_count": 5,
   "id": "0b32356c",
   "metadata": {},
   "outputs": [
    {
     "name": "stdout",
     "output_type": "stream",
     "text": [
      "<class 'int'>\n",
      "<class 'str'>\n"
     ]
    }
   ],
   "source": [
    "print(type(1))\n",
    "print(type('string'))"
   ]
  },
  {
   "cell_type": "markdown",
   "id": "b1f8a5cf",
   "metadata": {},
   "source": [
    "and the fact one can do:"
   ]
  },
  {
   "cell_type": "code",
   "execution_count": 6,
   "id": "69004fab",
   "metadata": {},
   "outputs": [
    {
     "name": "stdout",
     "output_type": "stream",
     "text": [
      "1\n",
      "'1'\n"
     ]
    }
   ],
   "source": [
    "print(repr(int(1)))\n",
    "print(repr(str(1)))"
   ]
  },
  {
   "cell_type": "markdown",
   "id": "46567801",
   "metadata": {},
   "source": [
    "gives us a good guess at how we might create a class"
   ]
  },
  {
   "cell_type": "code",
   "execution_count": 7,
   "id": "1f7bf526",
   "metadata": {},
   "outputs": [],
   "source": [
    "empty_class = type('EmptyClass', (), {})"
   ]
  },
  {
   "cell_type": "code",
   "execution_count": 8,
   "id": "57b47003",
   "metadata": {},
   "outputs": [
    {
     "name": "stdout",
     "output_type": "stream",
     "text": [
      "<class 'type'>\n",
      "<class '__main__.EmptyClass'>\n"
     ]
    }
   ],
   "source": [
    "print(type(empty_class))\n",
    "print(repr(empty_class))"
   ]
  },
  {
   "cell_type": "code",
   "execution_count": 9,
   "id": "8a279aa8",
   "metadata": {},
   "outputs": [
    {
     "name": "stdout",
     "output_type": "stream",
     "text": [
      "<class '__main__.EmptyClass'>\n",
      "<__main__.EmptyClass object at 0x10abf1d30>\n"
     ]
    }
   ],
   "source": [
    "ec = empty_class()\n",
    "print(type(ec))\n",
    "print(repr(ec))"
   ]
  },
  {
   "cell_type": "code",
   "execution_count": 10,
   "id": "c28a9a34",
   "metadata": {},
   "outputs": [
    {
     "name": "stdout",
     "output_type": "stream",
     "text": [
      "['__class__', '__delattr__', '__dict__', '__dir__', '__doc__', '__eq__', '__format__', '__ge__', '__getattribute__', '__gt__', '__hash__', '__init__', '__init_subclass__', '__le__', '__lt__', '__module__', '__ne__', '__new__', '__reduce__', '__reduce_ex__', '__repr__', '__setattr__', '__sizeof__', '__str__', '__subclasshook__', '__weakref__']\n"
     ]
    }
   ],
   "source": [
    "print(dir(empty_class))"
   ]
  },
  {
   "cell_type": "code",
   "execution_count": null,
   "id": "97fdf7ef",
   "metadata": {},
   "outputs": [],
   "source": []
  },
  {
   "cell_type": "code",
   "execution_count": null,
   "id": "50ec3982",
   "metadata": {},
   "outputs": [],
   "source": []
  },
  {
   "cell_type": "code",
   "execution_count": 12,
   "id": "14f90d68",
   "metadata": {},
   "outputs": [
    {
     "name": "stdout",
     "output_type": "stream",
     "text": [
      "1\n",
      "The parameters were <__main__.SimpleClass object at 0x10abf1f70> and 1\n"
     ]
    }
   ],
   "source": [
    "simple_class = type('SimpleClass', (), {'a': 1, 'f': Example.f})\n",
    "sc = simple_class()\n",
    "print(sc.a)\n",
    "print(sc.f(1))"
   ]
  },
  {
   "cell_type": "code",
   "execution_count": null,
   "id": "e8f4998c",
   "metadata": {},
   "outputs": [],
   "source": []
  },
  {
   "cell_type": "code",
   "execution_count": 30,
   "id": "c2d08800",
   "metadata": {},
   "outputs": [
    {
     "name": "stdout",
     "output_type": "stream",
     "text": [
      "<class '__main__.NewInt'>\n",
      "0\n",
      "True\n",
      "<bound method increment of 0>\n",
      "1\n"
     ]
    }
   ],
   "source": [
    "def increment(self):\n",
    "    return self + 1\n",
    "\n",
    "new_int = type('NewInt', (int,), {'increment': increment})\n",
    "x = new_int()\n",
    "print(type(x))\n",
    "print(repr(x))\n",
    "print(x == 0)\n",
    "print(x.increment)\n",
    "print(x.increment())"
   ]
  },
  {
   "cell_type": "code",
   "execution_count": null,
   "id": "532ec021",
   "metadata": {},
   "outputs": [],
   "source": []
  },
  {
   "cell_type": "code",
   "execution_count": null,
   "id": "7d6fc63c",
   "metadata": {},
   "outputs": [],
   "source": []
  },
  {
   "cell_type": "code",
   "execution_count": null,
   "id": "ffcc7294",
   "metadata": {},
   "outputs": [],
   "source": []
  },
  {
   "cell_type": "code",
   "execution_count": 180,
   "id": "dacbadf7",
   "metadata": {},
   "outputs": [
    {
     "name": "stdout",
     "output_type": "stream",
     "text": [
      "'3'\n"
     ]
    }
   ],
   "source": [
    "def stringify(x):\n",
    "    return repr(x)\n",
    "\n",
    "print(f'{stringify(3)!r}')"
   ]
  },
  {
   "cell_type": "code",
   "execution_count": 183,
   "id": "3aaf2958",
   "metadata": {},
   "outputs": [
    {
     "name": "stdout",
     "output_type": "stream",
     "text": [
      "'3'\n"
     ]
    }
   ],
   "source": [
    "e.stringify = stringify\n",
    "print(f'{e.stringify(3)!r}')"
   ]
  },
  {
   "cell_type": "code",
   "execution_count": null,
   "id": "4b43ace4",
   "metadata": {},
   "outputs": [],
   "source": []
  },
  {
   "cell_type": "code",
   "execution_count": null,
   "id": "96df3702",
   "metadata": {},
   "outputs": [],
   "source": []
  },
  {
   "cell_type": "code",
   "execution_count": null,
   "id": "92ff1f1d",
   "metadata": {},
   "outputs": [],
   "source": []
  },
  {
   "cell_type": "code",
   "execution_count": 18,
   "id": "ba0ece2c",
   "metadata": {},
   "outputs": [],
   "source": [
    "by_hand = type('ByHand', (), {'f': Example.f, 'a': 3})"
   ]
  },
  {
   "cell_type": "code",
   "execution_count": null,
   "id": "29dc34c6",
   "metadata": {},
   "outputs": [],
   "source": []
  },
  {
   "cell_type": "code",
   "execution_count": 19,
   "id": "e2df8fb3",
   "metadata": {},
   "outputs": [
    {
     "name": "stdout",
     "output_type": "stream",
     "text": [
      "<class 'type'>\n"
     ]
    }
   ],
   "source": [
    "print(type(by_hand))"
   ]
  },
  {
   "cell_type": "code",
   "execution_count": 20,
   "id": "1d8e7017",
   "metadata": {},
   "outputs": [
    {
     "name": "stdout",
     "output_type": "stream",
     "text": [
      "<__main__.ByHand object at 0x1030f3c40>\n"
     ]
    }
   ],
   "source": [
    "bh = by_hand()\n",
    "print(bh)"
   ]
  },
  {
   "cell_type": "code",
   "execution_count": 21,
   "id": "a434ba8d",
   "metadata": {},
   "outputs": [
    {
     "name": "stdout",
     "output_type": "stream",
     "text": [
      "The parameter was fred\n",
      "3\n"
     ]
    }
   ],
   "source": [
    "print(bh.f('fred'))\n",
    "print(bh.a)"
   ]
  },
  {
   "cell_type": "code",
   "execution_count": 22,
   "id": "aa3adf66",
   "metadata": {},
   "outputs": [
    {
     "name": "stdout",
     "output_type": "stream",
     "text": [
      "3\n"
     ]
    }
   ],
   "source": [
    "bh.b = 3\n",
    "print(bh.b)"
   ]
  },
  {
   "cell_type": "code",
   "execution_count": 43,
   "id": "faa6eeac",
   "metadata": {},
   "outputs": [
    {
     "name": "stdout",
     "output_type": "stream",
     "text": [
      "3\n"
     ]
    }
   ],
   "source": [
    "def by_hand_hand():\n",
    "    return by_hand()\n",
    "\n",
    "bh2 = by_hand_hand()\n",
    "print(bh2.a)"
   ]
  },
  {
   "cell_type": "code",
   "execution_count": 44,
   "id": "c39a35dc",
   "metadata": {},
   "outputs": [
    {
     "name": "stdout",
     "output_type": "stream",
     "text": [
      "['__annotations__', '__call__', '__class__', '__closure__', '__code__', '__defaults__', '__delattr__', '__dict__', '__dir__', '__doc__', '__eq__', '__format__', '__ge__', '__get__', '__getattribute__', '__globals__', '__gt__', '__hash__', '__init__', '__init_subclass__', '__kwdefaults__', '__le__', '__lt__', '__module__', '__name__', '__ne__', '__new__', '__qualname__', '__reduce__', '__reduce_ex__', '__repr__', '__setattr__', '__sizeof__', '__str__', '__subclasshook__']\n"
     ]
    }
   ],
   "source": [
    "print(dir(by_hand_hand))"
   ]
  },
  {
   "cell_type": "code",
   "execution_count": 50,
   "id": "fb6e8cdb",
   "metadata": {},
   "outputs": [
    {
     "name": "stdout",
     "output_type": "stream",
     "text": [
      "Class <class '__main__.ByHand'>\n",
      "Class value a 3\n",
      "Class function f called with None and 'fred'\n",
      "Instance <__main__.ByHand object at 0x1031ddb50>\n",
      "Instance vaue a 3\n",
      "Instance function f called with <__main__.ByHand object at 0x1031ddb50> and 'fred'\n"
     ]
    }
   ],
   "source": [
    "def class_by_hand():\n",
    "    def f(self, arg):\n",
    "        return f'f called with {self!r} and {arg!r}'\n",
    "    cls = type('ByHand', (), {})\n",
    "    cls.a = 3\n",
    "    cls.f = f\n",
    "    return cls\n",
    "\n",
    "c = class_by_hand()\n",
    "print(f'Class {c!r}')\n",
    "print(f'Class value a {c.a!r}')\n",
    "print(f'Class function {c.f(None, \"fred\")}')\n",
    "o = c()\n",
    "print(f'Instance {o!r}')\n",
    "print(f'Instance vaue a {o.a!r}')\n",
    "print(f'Instance function {o.f(\"fred\")}')"
   ]
  },
  {
   "cell_type": "code",
   "execution_count": 51,
   "id": "a5acfec9",
   "metadata": {},
   "outputs": [],
   "source": [
    "class_by_hand.b = 3"
   ]
  },
  {
   "cell_type": "code",
   "execution_count": 52,
   "id": "d235e100",
   "metadata": {},
   "outputs": [
    {
     "name": "stdout",
     "output_type": "stream",
     "text": [
      "3\n"
     ]
    }
   ],
   "source": [
    "print(class_by_hand.b)"
   ]
  },
  {
   "cell_type": "code",
   "execution_count": 53,
   "id": "edad16b1",
   "metadata": {},
   "outputs": [
    {
     "data": {
      "text/plain": [
       "function"
      ]
     },
     "execution_count": 53,
     "metadata": {},
     "output_type": "execute_result"
    }
   ],
   "source": [
    "type(class_by_hand)"
   ]
  },
  {
   "cell_type": "code",
   "execution_count": 54,
   "id": "18a5d2fc",
   "metadata": {},
   "outputs": [
    {
     "name": "stdout",
     "output_type": "stream",
     "text": [
      "Help on function class_by_hand in module __main__:\n",
      "\n",
      "class_by_hand()\n",
      "\n"
     ]
    }
   ],
   "source": [
    "help(class_by_hand)"
   ]
  },
  {
   "cell_type": "code",
   "execution_count": 56,
   "id": "33ed4b4a",
   "metadata": {},
   "outputs": [
    {
     "name": "stdout",
     "output_type": "stream",
     "text": [
      "Help on function class_by_hand in module __main__:\n",
      "\n",
      "class_by_hand()\n",
      "    A function that returns a class it made\n",
      "\n"
     ]
    }
   ],
   "source": [
    "class_by_hand.__doc__ = 'A function that returns a class it made'\n",
    "help(class_by_hand)"
   ]
  },
  {
   "cell_type": "code",
   "execution_count": 57,
   "id": "df4b17bd",
   "metadata": {},
   "outputs": [
    {
     "name": "stdout",
     "output_type": "stream",
     "text": [
      "{'b': 3}\n"
     ]
    }
   ],
   "source": [
    "print(class_by_hand.__dict__)"
   ]
  },
  {
   "cell_type": "code",
   "execution_count": null,
   "id": "afc9b07a",
   "metadata": {},
   "outputs": [],
   "source": []
  },
  {
   "cell_type": "code",
   "execution_count": null,
   "id": "3b3a89db",
   "metadata": {},
   "outputs": [],
   "source": []
  },
  {
   "cell_type": "markdown",
   "id": "65965e59",
   "metadata": {},
   "source": [
    "What about constructing an object as if it had been created by a using `<class-name>()`?"
   ]
  },
  {
   "cell_type": "markdown",
   "id": "072f4fa3",
   "metadata": {},
   "source": [
    "Can we create an empty object and add things to it?"
   ]
  },
  {
   "cell_type": "code",
   "execution_count": 31,
   "id": "bf2c4fd1",
   "metadata": {},
   "outputs": [
    {
     "name": "stdout",
     "output_type": "stream",
     "text": [
      "['__class__', '__delattr__', '__dir__', '__doc__', '__eq__', '__format__', '__ge__', '__getattribute__', '__gt__', '__hash__', '__init__', '__init_subclass__', '__le__', '__lt__', '__ne__', '__new__', '__reduce__', '__reduce_ex__', '__repr__', '__setattr__', '__sizeof__', '__str__', '__subclasshook__']\n"
     ]
    }
   ],
   "source": [
    "o = object()\n",
    "print(dir(o))"
   ]
  },
  {
   "cell_type": "code",
   "execution_count": 32,
   "id": "e7f4baf1",
   "metadata": {},
   "outputs": [
    {
     "ename": "AttributeError",
     "evalue": "'object' object has no attribute 'a'",
     "output_type": "error",
     "traceback": [
      "\u001b[0;31m---------------------------------------------------------------------------\u001b[0m",
      "\u001b[0;31mAttributeError\u001b[0m                            Traceback (most recent call last)",
      "\u001b[0;32m/var/folders/3c/74720f_907b07qy3vwcklsg00000gp/T/ipykernel_39094/3212368273.py\u001b[0m in \u001b[0;36m<module>\u001b[0;34m\u001b[0m\n\u001b[0;32m----> 1\u001b[0;31m \u001b[0mo\u001b[0m\u001b[0;34m.\u001b[0m\u001b[0ma\u001b[0m \u001b[0;34m=\u001b[0m \u001b[0;36m1\u001b[0m\u001b[0;34m\u001b[0m\u001b[0;34m\u001b[0m\u001b[0m\n\u001b[0m",
      "\u001b[0;31mAttributeError\u001b[0m: 'object' object has no attribute 'a'"
     ]
    }
   ],
   "source": [
    "o.a = 1"
   ]
  },
  {
   "cell_type": "markdown",
   "id": "5ac12dfa",
   "metadata": {},
   "source": [
    "So that won't work"
   ]
  },
  {
   "cell_type": "markdown",
   "id": "646cd465",
   "metadata": {},
   "source": [
    "The nearest we can get to a mutable empty object is probably:"
   ]
  },
  {
   "cell_type": "code",
   "execution_count": 35,
   "id": "602e8864",
   "metadata": {},
   "outputs": [
    {
     "name": "stdout",
     "output_type": "stream",
     "text": [
      "<class '__main__.empty_object'>\n",
      "['__class__', '__delattr__', '__dict__', '__dir__', '__doc__', '__eq__', '__format__', '__ge__', '__getattribute__', '__gt__', '__hash__', '__init__', '__init_subclass__', '__le__', '__lt__', '__module__', '__ne__', '__new__', '__reduce__', '__reduce_ex__', '__repr__', '__setattr__', '__sizeof__', '__str__', '__subclasshook__', '__weakref__']\n"
     ]
    }
   ],
   "source": [
    "eo_class = type('empty_object', (), {})\n",
    "eo = eo_class()\n",
    "print(type(eo))\n",
    "print(dir(eo))"
   ]
  },
  {
   "cell_type": "markdown",
   "id": "2d8ec86a",
   "metadata": {},
   "source": [
    "And we know we can do"
   ]
  },
  {
   "cell_type": "code",
   "execution_count": 37,
   "id": "161897d4",
   "metadata": {},
   "outputs": [
    {
     "name": "stdout",
     "output_type": "stream",
     "text": [
      "1\n"
     ]
    }
   ],
   "source": [
    "eo.a = 1\n",
    "print(eo.a)"
   ]
  },
  {
   "cell_type": "code",
   "execution_count": 38,
   "id": "65a18519",
   "metadata": {},
   "outputs": [
    {
     "name": "stdout",
     "output_type": "stream",
     "text": [
      "2\n"
     ]
    }
   ],
   "source": [
    "eo.a = eo.a + 1\n",
    "print(eo.a)"
   ]
  },
  {
   "cell_type": "markdown",
   "id": "d8da873d",
   "metadata": {},
   "source": [
    "Can we add a function *to the object* and have it be a method?"
   ]
  },
  {
   "cell_type": "code",
   "execution_count": 39,
   "id": "ddf18d69",
   "metadata": {},
   "outputs": [
    {
     "ename": "TypeError",
     "evalue": "maybe_a_method() missing 1 required positional argument: 'x'",
     "output_type": "error",
     "traceback": [
      "\u001b[0;31m---------------------------------------------------------------------------\u001b[0m",
      "\u001b[0;31mTypeError\u001b[0m                                 Traceback (most recent call last)",
      "\u001b[0;32m/var/folders/3c/74720f_907b07qy3vwcklsg00000gp/T/ipykernel_39094/3561813814.py\u001b[0m in \u001b[0;36m<module>\u001b[0;34m\u001b[0m\n\u001b[1;32m      3\u001b[0m \u001b[0;34m\u001b[0m\u001b[0m\n\u001b[1;32m      4\u001b[0m \u001b[0meo\u001b[0m\u001b[0;34m.\u001b[0m\u001b[0mf\u001b[0m \u001b[0;34m=\u001b[0m \u001b[0mmaybe_a_method\u001b[0m\u001b[0;34m\u001b[0m\u001b[0;34m\u001b[0m\u001b[0m\n\u001b[0;32m----> 5\u001b[0;31m \u001b[0mprint\u001b[0m\u001b[0;34m(\u001b[0m\u001b[0meo\u001b[0m\u001b[0;34m.\u001b[0m\u001b[0mf\u001b[0m\u001b[0;34m(\u001b[0m\u001b[0;36m1\u001b[0m\u001b[0;34m)\u001b[0m\u001b[0;34m)\u001b[0m\u001b[0;34m\u001b[0m\u001b[0;34m\u001b[0m\u001b[0m\n\u001b[0m",
      "\u001b[0;31mTypeError\u001b[0m: maybe_a_method() missing 1 required positional argument: 'x'"
     ]
    }
   ],
   "source": [
    "def maybe_a_method(self, x):\n",
    "    print(f'Maybe a method on {self} and {x}')\n",
    "    \n",
    "eo.f = maybe_a_method\n",
    "print(eo.f(1))"
   ]
  },
  {
   "cell_type": "code",
   "execution_count": 40,
   "id": "00da5567",
   "metadata": {},
   "outputs": [
    {
     "name": "stdout",
     "output_type": "stream",
     "text": [
      "<class 'function'>\n"
     ]
    }
   ],
   "source": [
    "print(type(eo.f))"
   ]
  },
  {
   "cell_type": "markdown",
   "id": "2d473ecb",
   "metadata": {},
   "source": [
    "Normally, when we ask an instance for a method (`eo.f`), it gets looked up in the instance, isn't found there,\n",
    "and is looked up in the class, which says\n",
    "\"I know what you're doing, that's a function you're looking up on me, so you must want a method back\""
   ]
  },
  {
   "cell_type": "code",
   "execution_count": 45,
   "id": "aa326772",
   "metadata": {},
   "outputs": [
    {
     "name": "stdout",
     "output_type": "stream",
     "text": [
      "<class 'function'>\n",
      "<class 'function'>\n",
      "<class 'method'>\n",
      "Aha!\n"
     ]
    }
   ],
   "source": [
    "class NoMethods: pass\n",
    "def not_a_method(self): return 'Aha!'\n",
    "NoMethods.f = not_a_method\n",
    "nm = NoMethods()\n",
    "\n",
    "print(type(f))\n",
    "print(type(NoMethods.f))\n",
    "print(type(nm.f))\n",
    "print(nm.f())"
   ]
  },
  {
   "cell_type": "markdown",
   "id": "831f5c5d",
   "metadata": {},
   "source": [
    "But when our empty object is created from an empty class, with no methods.\n",
    "Luckily there is a way:"
   ]
  },
  {
   "cell_type": "code",
   "execution_count": 46,
   "id": "59504902",
   "metadata": {},
   "outputs": [
    {
     "name": "stdout",
     "output_type": "stream",
     "text": [
      "<class 'method'>\n",
      "Aha!\n"
     ]
    }
   ],
   "source": [
    "eo.f = not_a_method.__get__(eo, eo_class)\n",
    "print(type(eo.f))\n",
    "print(eo.f())"
   ]
  },
  {
   "cell_type": "markdown",
   "id": "74434cde",
   "metadata": {},
   "source": [
    "I don't propose to explain that (but am grateful to https://stackoverflow.com/a/46757134 for the example!).\n",
    "\n",
    "If you want to learn more, then this is using the power of *descriptors*, which are at the heart of Python's attribute access\n",
    "\n",
    "See the HOWTO at https://docs.python.org/3/howto/descriptor.html"
   ]
  },
  {
   "cell_type": "markdown",
   "id": "7f59f0eb",
   "metadata": {},
   "source": [
    "There is also a more \"understandable\" way to do this.\n",
    "\n",
    "Since we're wanting to \"bind\" the function to the object\n",
    "(so that when we call it, the `self` argument is automatically put in),\n",
    "we might be surprised to find out that there's a callable to do that:"
   ]
  },
  {
   "cell_type": "code",
   "execution_count": 47,
   "id": "7b71a901",
   "metadata": {},
   "outputs": [
    {
     "name": "stdout",
     "output_type": "stream",
     "text": [
      "<class 'method'>\n",
      "Aha!\n"
     ]
    }
   ],
   "source": [
    "import types\n",
    "eo.f = types.MethodType(not_a_method, eo)\n",
    "print(type(eo.f))\n",
    "print(eo.f())"
   ]
  },
  {
   "cell_type": "code",
   "execution_count": null,
   "id": "57bab528",
   "metadata": {},
   "outputs": [],
   "source": []
  },
  {
   "cell_type": "code",
   "execution_count": 54,
   "id": "8307dfeb",
   "metadata": {},
   "outputs": [],
   "source": [
    "def pretend_instance(class_name, variable_dict, function_list):\n",
    "    eo_class = type(class_name, (), variable_dict)\n",
    "    eo = eo_class()\n",
    "    for f in function_list:\n",
    "        setattr(eo, f.__name__, types.MethodType(f, eo))\n",
    "    return eo"
   ]
  },
  {
   "cell_type": "code",
   "execution_count": 55,
   "id": "43fdac0b",
   "metadata": {},
   "outputs": [
    {
     "name": "stdout",
     "output_type": "stream",
     "text": [
      "<class '__main__.ClassName'>\n",
      "3\n",
      "Aha!\n"
     ]
    }
   ],
   "source": [
    "x = pretend_instance('ClassName', {'var': 3}, [not_a_method])\n",
    "print(type(x))\n",
    "print(x.var)\n",
    "print(x.not_a_method())"
   ]
  },
  {
   "cell_type": "code",
   "execution_count": null,
   "id": "8254a73a",
   "metadata": {},
   "outputs": [],
   "source": []
  },
  {
   "cell_type": "code",
   "execution_count": null,
   "id": "d77a7ce9",
   "metadata": {},
   "outputs": [],
   "source": []
  },
  {
   "cell_type": "code",
   "execution_count": null,
   "id": "730a21aa",
   "metadata": {},
   "outputs": [],
   "source": []
  },
  {
   "cell_type": "code",
   "execution_count": null,
   "id": "13b11957",
   "metadata": {},
   "outputs": [],
   "source": []
  },
  {
   "cell_type": "code",
   "execution_count": null,
   "id": "7cfcfb6c",
   "metadata": {},
   "outputs": [],
   "source": []
  },
  {
   "cell_type": "code",
   "execution_count": 58,
   "id": "3575acec",
   "metadata": {},
   "outputs": [],
   "source": [
    "def fn():\n",
    "    pass"
   ]
  },
  {
   "cell_type": "code",
   "execution_count": 59,
   "id": "c45160df",
   "metadata": {},
   "outputs": [
    {
     "name": "stdout",
     "output_type": "stream",
     "text": [
      "<class 'function'>\n"
     ]
    }
   ],
   "source": [
    "def bare_f(self, arg):\n",
    "    return f'f called with {self!r} and {arg!r}'\n",
    "print(type(bare_f))"
   ]
  },
  {
   "cell_type": "code",
   "execution_count": 60,
   "id": "853bc050",
   "metadata": {},
   "outputs": [
    {
     "name": "stdout",
     "output_type": "stream",
     "text": [
      "Calling f f called with None and 'fred'\n",
      "Value a 3\n"
     ]
    }
   ],
   "source": [
    "fn.f = bare_f\n",
    "fn.a = 3\n",
    "print(f'Calling f {fn.f(None, \"fred\")}')\n",
    "print(f'Value a {fn.a}')"
   ]
  },
  {
   "cell_type": "code",
   "execution_count": 61,
   "id": "2d8ba163",
   "metadata": {},
   "outputs": [
    {
     "ename": "NameError",
     "evalue": "name 'by_hand2' is not defined",
     "output_type": "error",
     "traceback": [
      "\u001b[0;31m---------------------------------------------------------------------------\u001b[0m",
      "\u001b[0;31mNameError\u001b[0m                                 Traceback (most recent call last)",
      "\u001b[0;32m/var/folders/3c/74720f_907b07qy3vwcklsg00000gp/T/ipykernel_39094/3697371510.py\u001b[0m in \u001b[0;36m<module>\u001b[0;34m\u001b[0m\n\u001b[0;32m----> 1\u001b[0;31m \u001b[0mfn\u001b[0m\u001b[0;34m.\u001b[0m\u001b[0mf\u001b[0m\u001b[0;34m(\u001b[0m\u001b[0mby_hand2\u001b[0m\u001b[0;34m,\u001b[0m \u001b[0;34m'fred'\u001b[0m\u001b[0;34m)\u001b[0m\u001b[0;34m\u001b[0m\u001b[0;34m\u001b[0m\u001b[0m\n\u001b[0m",
      "\u001b[0;31mNameError\u001b[0m: name 'by_hand2' is not defined"
     ]
    }
   ],
   "source": [
    "fn.f(by_hand2, 'fred')"
   ]
  },
  {
   "cell_type": "code",
   "execution_count": 115,
   "id": "2ffae707",
   "metadata": {},
   "outputs": [
    {
     "data": {
      "text/plain": [
       "__main__.ByHand"
      ]
     },
     "execution_count": 115,
     "metadata": {},
     "output_type": "execute_result"
    }
   ],
   "source": [
    "class_by_hand.__call__()"
   ]
  },
  {
   "cell_type": "code",
   "execution_count": 62,
   "id": "7f54cd9e",
   "metadata": {},
   "outputs": [
    {
     "name": "stdout",
     "output_type": "stream",
     "text": [
      "fn.__call__() None\n",
      "fn.f.__call__(1,2) 'f called with 1 and 2'\n"
     ]
    }
   ],
   "source": [
    "print(f'fn.__call__() {fn.__call__()!r}')\n",
    "print(f'fn.f.__call__(1,2) {fn.f.__call__(1,2)!r}')"
   ]
  },
  {
   "cell_type": "markdown",
   "id": "51fb85ee",
   "metadata": {},
   "source": [
    "Any Python object with a `__call__` method may be called, and that is sufficient for an object to \"act like\" a function."
   ]
  },
  {
   "cell_type": "code",
   "execution_count": null,
   "id": "8ced8f62",
   "metadata": {},
   "outputs": [],
   "source": []
  },
  {
   "cell_type": "code",
   "execution_count": null,
   "id": "df457fcd",
   "metadata": {},
   "outputs": [],
   "source": []
  },
  {
   "cell_type": "code",
   "execution_count": null,
   "id": "d716d4a0",
   "metadata": {},
   "outputs": [],
   "source": []
  },
  {
   "cell_type": "code",
   "execution_count": null,
   "id": "ab1f00ac",
   "metadata": {},
   "outputs": [],
   "source": []
  },
  {
   "cell_type": "code",
   "execution_count": null,
   "id": "4d33d652",
   "metadata": {},
   "outputs": [],
   "source": []
  },
  {
   "cell_type": "code",
   "execution_count": null,
   "id": "f7f55f13",
   "metadata": {},
   "outputs": [],
   "source": []
  },
  {
   "cell_type": "code",
   "execution_count": null,
   "id": "bd0f1569",
   "metadata": {},
   "outputs": [],
   "source": []
  },
  {
   "cell_type": "code",
   "execution_count": 117,
   "id": "71ab5adf",
   "metadata": {},
   "outputs": [
    {
     "name": "stdout",
     "output_type": "stream",
     "text": [
      "<code object fn at 0x1031e4be0, file \"/var/folders/3c/74720f_907b07qy3vwcklsg00000gp/T/ipykernel_24937/3060542578.py\", line 1>\n"
     ]
    }
   ],
   "source": [
    "print(fn.__code__)"
   ]
  },
  {
   "cell_type": "code",
   "execution_count": 118,
   "id": "c00f9187",
   "metadata": {},
   "outputs": [
    {
     "name": "stdout",
     "output_type": "stream",
     "text": [
      "  2           0 LOAD_CONST               0 (None)\n",
      "              2 RETURN_VALUE\n"
     ]
    }
   ],
   "source": [
    "import dis\n",
    "dis.dis(fn)"
   ]
  },
  {
   "cell_type": "code",
   "execution_count": 119,
   "id": "04a6554d",
   "metadata": {},
   "outputs": [
    {
     "name": "stdout",
     "output_type": "stream",
     "text": [
      "  2           0 LOAD_CONST               0 (None)\n",
      "              2 RETURN_VALUE\n"
     ]
    }
   ],
   "source": [
    "dis.dis(fn.__code__)"
   ]
  },
  {
   "cell_type": "code",
   "execution_count": 120,
   "id": "2e17d97d",
   "metadata": {},
   "outputs": [
    {
     "name": "stdout",
     "output_type": "stream",
     "text": [
      "  2           0 LOAD_CONST               1 ('f called with ')\n",
      "              2 LOAD_FAST                0 (self)\n",
      "              4 FORMAT_VALUE             2 (repr)\n",
      "              6 LOAD_CONST               2 (' and ')\n",
      "              8 LOAD_FAST                1 (arg)\n",
      "             10 FORMAT_VALUE             2 (repr)\n",
      "             12 BUILD_STRING             4\n",
      "             14 RETURN_VALUE\n"
     ]
    }
   ],
   "source": [
    "dis.dis(bare_f)"
   ]
  },
  {
   "cell_type": "code",
   "execution_count": 121,
   "id": "faf07454",
   "metadata": {},
   "outputs": [
    {
     "name": "stdout",
     "output_type": "stream",
     "text": [
      "['__annotations__', '__call__', '__class__', '__closure__', '__code__', '__defaults__', '__delattr__', '__dict__', '__dir__', '__doc__', '__eq__', '__format__', '__ge__', '__get__', '__getattribute__', '__globals__', '__gt__', '__hash__', '__init__', '__init_subclass__', '__kwdefaults__', '__le__', '__lt__', '__module__', '__name__', '__ne__', '__new__', '__qualname__', '__reduce__', '__reduce_ex__', '__repr__', '__setattr__', '__sizeof__', '__str__', '__subclasshook__', 'a', 'f']\n"
     ]
    }
   ],
   "source": [
    "print(dir(fn))"
   ]
  },
  {
   "cell_type": "code",
   "execution_count": 122,
   "id": "4e8edaa2",
   "metadata": {},
   "outputs": [
    {
     "name": "stdout",
     "output_type": "stream",
     "text": [
      "{'f': <function bare_f at 0x103198f70>, 'a': 3}\n"
     ]
    }
   ],
   "source": [
    "print(fn.__dict__)"
   ]
  },
  {
   "cell_type": "code",
   "execution_count": 123,
   "id": "1477984f",
   "metadata": {},
   "outputs": [
    {
     "name": "stdout",
     "output_type": "stream",
     "text": [
      "<method-wrapper '__call__' of function object at 0x1031ec940>\n"
     ]
    }
   ],
   "source": [
    "print(fn.__call__)"
   ]
  },
  {
   "cell_type": "code",
   "execution_count": 124,
   "id": "743c7fd4",
   "metadata": {},
   "outputs": [
    {
     "name": "stdout",
     "output_type": "stream",
     "text": [
      "None\n"
     ]
    }
   ],
   "source": [
    "print(fn.__call__())"
   ]
  },
  {
   "cell_type": "code",
   "execution_count": 125,
   "id": "22f07839",
   "metadata": {},
   "outputs": [
    {
     "name": "stdout",
     "output_type": "stream",
     "text": [
      "['__annotations__', '__call__', '__class__', '__closure__', '__code__', '__defaults__', '__delattr__', '__dict__', '__dir__', '__doc__', '__eq__', '__format__', '__ge__', '__get__', '__getattribute__', '__globals__', '__gt__', '__hash__', '__init__', '__init_subclass__', '__kwdefaults__', '__le__', '__lt__', '__module__', '__name__', '__ne__', '__new__', '__qualname__', '__reduce__', '__reduce_ex__', '__repr__', '__setattr__', '__sizeof__', '__str__', '__subclasshook__']\n"
     ]
    }
   ],
   "source": [
    "print(dir(fn.f))"
   ]
  },
  {
   "cell_type": "code",
   "execution_count": 126,
   "id": "300db9f4",
   "metadata": {},
   "outputs": [
    {
     "name": "stdout",
     "output_type": "stream",
     "text": [
      "f called with None and 'fred'\n",
      "None\n"
     ]
    }
   ],
   "source": [
    "save = fn.__code__\n",
    "fn.__code__ = bare_f.__code__\n",
    "print(fn(None, 'fred'))\n",
    "fn.__code__ = save\n",
    "print(fn())"
   ]
  },
  {
   "cell_type": "markdown",
   "id": "18dd4759",
   "metadata": {},
   "source": [
    "-----------------"
   ]
  },
  {
   "cell_type": "code",
   "execution_count": 128,
   "id": "a257c99e",
   "metadata": {},
   "outputs": [],
   "source": [
    "a = lambda s, x: f'Lambda over #{s} and #{x}'"
   ]
  },
  {
   "cell_type": "code",
   "execution_count": 129,
   "id": "1ea25953",
   "metadata": {},
   "outputs": [
    {
     "name": "stdout",
     "output_type": "stream",
     "text": [
      "Lambda over #1 and #2\n"
     ]
    }
   ],
   "source": [
    "print(a(1,2))"
   ]
  },
  {
   "cell_type": "code",
   "execution_count": 131,
   "id": "e84c4907",
   "metadata": {},
   "outputs": [
    {
     "name": "stdout",
     "output_type": "stream",
     "text": [
      "  1           0 LOAD_CONST               1 ('Lambda over #')\n",
      "              2 LOAD_FAST                0 (s)\n",
      "              4 FORMAT_VALUE             0\n",
      "              6 LOAD_CONST               2 (' and #')\n",
      "              8 LOAD_FAST                1 (x)\n",
      "             10 FORMAT_VALUE             0\n",
      "             12 BUILD_STRING             4\n",
      "             14 RETURN_VALUE\n"
     ]
    }
   ],
   "source": [
    "dis.dis(a)"
   ]
  },
  {
   "cell_type": "code",
   "execution_count": 133,
   "id": "9d16c4af",
   "metadata": {},
   "outputs": [
    {
     "name": "stdout",
     "output_type": "stream",
     "text": [
      "Lambda over #1 and #2\n"
     ]
    }
   ],
   "source": [
    "def lf(s,x):\n",
    "    pass\n",
    "\n",
    "lf.__code__ = a.__code__\n",
    "\n",
    "print(lf(1,2))"
   ]
  },
  {
   "cell_type": "code",
   "execution_count": 136,
   "id": "dc58fa01",
   "metadata": {},
   "outputs": [],
   "source": [
    "lt = type('Function?', (), {})\n",
    "lt.__code__ = a.__code__"
   ]
  },
  {
   "cell_type": "code",
   "execution_count": 137,
   "id": "1c7bcc46",
   "metadata": {},
   "outputs": [
    {
     "ename": "TypeError",
     "evalue": "Function?() takes no arguments",
     "output_type": "error",
     "traceback": [
      "\u001b[0;31m---------------------------------------------------------------------------\u001b[0m",
      "\u001b[0;31mTypeError\u001b[0m                                 Traceback (most recent call last)",
      "\u001b[0;32m/var/folders/3c/74720f_907b07qy3vwcklsg00000gp/T/ipykernel_24937/954985657.py\u001b[0m in \u001b[0;36m<module>\u001b[0;34m\u001b[0m\n\u001b[0;32m----> 1\u001b[0;31m \u001b[0mlt\u001b[0m\u001b[0;34m(\u001b[0m\u001b[0;36m1\u001b[0m\u001b[0;34m,\u001b[0m\u001b[0;36m2\u001b[0m\u001b[0;34m)\u001b[0m\u001b[0;34m\u001b[0m\u001b[0;34m\u001b[0m\u001b[0m\n\u001b[0m",
      "\u001b[0;31mTypeError\u001b[0m: Function?() takes no arguments"
     ]
    }
   ],
   "source": [
    "lt(1,2)"
   ]
  },
  {
   "cell_type": "code",
   "execution_count": 138,
   "id": "c4cf4e28",
   "metadata": {},
   "outputs": [
    {
     "name": "stdout",
     "output_type": "stream",
     "text": [
      "['__annotations__', '__call__', '__class__', '__closure__', '__code__', '__defaults__', '__delattr__', '__dict__', '__dir__', '__doc__', '__eq__', '__format__', '__ge__', '__get__', '__getattribute__', '__globals__', '__gt__', '__hash__', '__init__', '__init_subclass__', '__kwdefaults__', '__le__', '__lt__', '__module__', '__name__', '__ne__', '__new__', '__qualname__', '__reduce__', '__reduce_ex__', '__repr__', '__setattr__', '__sizeof__', '__str__', '__subclasshook__']\n"
     ]
    }
   ],
   "source": [
    "print(dir(lf))"
   ]
  },
  {
   "cell_type": "code",
   "execution_count": 64,
   "id": "bd7925bd",
   "metadata": {},
   "outputs": [],
   "source": [
    "import inspect\n"
   ]
  },
  {
   "cell_type": "code",
   "execution_count": 66,
   "id": "16c03ebf",
   "metadata": {},
   "outputs": [
    {
     "name": "stdout",
     "output_type": "stream",
     "text": [
      "True\n",
      "True\n",
      "False\n",
      "\n",
      "False\n",
      "True\n"
     ]
    }
   ],
   "source": [
    "print(inspect.isfunction(fn))\n",
    "print(inspect.isfunction(fn.f))\n",
    "print(inspect.isfunction(x.not_a_method))\n",
    "print()\n",
    "print(inspect.ismethod(fn))\n",
    "print(inspect.ismethod(x.not_a_method))"
   ]
  },
  {
   "cell_type": "code",
   "execution_count": 68,
   "id": "4a161b69",
   "metadata": {},
   "outputs": [
    {
     "name": "stdout",
     "output_type": "stream",
     "text": [
      "True\n",
      "True\n"
     ]
    }
   ],
   "source": [
    "print(inspect.isclass(Example))\n",
    "print(inspect.isclass(eo_class))"
   ]
  },
  {
   "cell_type": "markdown",
   "id": "b8b2c45f",
   "metadata": {},
   "source": [
    "There's no point in asking if something is an instance, because everything is..."
   ]
  },
  {
   "cell_type": "code",
   "execution_count": 70,
   "id": "1228abc1",
   "metadata": {},
   "outputs": [
    {
     "data": {
      "text/plain": [
       "<Signature (self)>"
      ]
     },
     "execution_count": 70,
     "metadata": {},
     "output_type": "execute_result"
    }
   ],
   "source": [
    "inspect.signature(not_a_method)"
   ]
  },
  {
   "cell_type": "code",
   "execution_count": 71,
   "id": "329242df",
   "metadata": {},
   "outputs": [
    {
     "name": "stdout",
     "output_type": "stream",
     "text": [
      "(self, arg)\n",
      "def bare_f(self, arg):\n",
      "    return f'f called with {self!r} and {arg!r}'\n",
      "\n"
     ]
    }
   ],
   "source": [
    "print(inspect.signature(bare_f))\n",
    "print(inspect.getsource(bare_f))"
   ]
  },
  {
   "cell_type": "code",
   "execution_count": null,
   "id": "ce02ab99",
   "metadata": {},
   "outputs": [],
   "source": []
  }
 ],
 "metadata": {
  "kernelspec": {
   "display_name": "Python 3 (ipykernel)",
   "language": "python",
   "name": "python3"
  },
  "language_info": {
   "codemirror_mode": {
    "name": "ipython",
    "version": 3
   },
   "file_extension": ".py",
   "mimetype": "text/x-python",
   "name": "python",
   "nbconvert_exporter": "python",
   "pygments_lexer": "ipython3",
   "version": "3.9.1"
  }
 },
 "nbformat": 4,
 "nbformat_minor": 5
}
