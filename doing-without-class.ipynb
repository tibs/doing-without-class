{
 "cells": [
  {
   "cell_type": "markdown",
   "id": "74ce7468",
   "metadata": {
    "slideshow": {
     "slide_type": "slide"
    }
   },
   "source": [
    "# Doing without `class`\n",
    "\n",
    "A talk for [CamPUG](https://www.meetup.com/CamPUG/) by Tibs (they/he)\n",
    "\n",
    "Sources are at https://github.com/tibs/doing-without-class\n",
    "\n",
    "Licensed under a [Creative Commons Attribution-ShareAlike 4.0 International License](http://creativecommons.org/licenses/by-sa/4.0/)"
   ]
  },
  {
   "cell_type": "markdown",
   "id": "bbcc4292",
   "metadata": {
    "slideshow": {
     "slide_type": "slide"
    }
   },
   "source": [
    "## Abstract\n",
    "\n",
    "When I named this talk, I realised that the name was ambiguous.\n",
    "\n",
    "I could have changed the name, but instead I figured I'd do both talks.\n",
    "\n",
    "* Is it OK to write Python code without classes?\n",
    "* Can we create Python classes without using the `class` keyword"
   ]
  },
  {
   "cell_type": "markdown",
   "id": "b9a10aa3",
   "metadata": {
    "slideshow": {
     "slide_type": "slide"
    }
   },
   "source": [
    "## Part 1: Is it OK to write Python code without classes?\n",
    "\n",
    "**tldr;** Yes"
   ]
  },
  {
   "cell_type": "markdown",
   "id": "95c277ef",
   "metadata": {
    "slideshow": {
     "slide_type": "slide"
    }
   },
   "source": [
    "Ideas:\n",
    "    \n",
    "* Write the simplest thing that will get the job done\n",
    "* Python is deliberately a multi-paradigm language"
   ]
  },
  {
   "cell_type": "markdown",
   "id": "93650f50",
   "metadata": {
    "slideshow": {
     "slide_type": "slide"
    }
   },
   "source": [
    "[The seven programming ur-languages](https://madhadron.com/posts/seven_languages.html)\n",
    "\n",
    "Broadly: \n",
    "    ALGOL,\n",
    "    Lisp,\n",
    "    ML,\n",
    "    Self,\n",
    "    Forth,\n",
    "    APL,\n",
    "    Prolog\n",
    "\n",
    "\n",
    "Python clearly fits well in the \"ALGOL\" family."
   ]
  },
  {
   "cell_type": "markdown",
   "id": "7d3447d5",
   "metadata": {
    "slideshow": {
     "slide_type": "slide"
    }
   },
   "source": [
    "[Stop Writing Classes](https://pyvideo.org/pycon-us-2012/stop-writing-classes.html)\n",
    "\n",
    "Talk from PyCon US 2012, \"Classes are great but they are also overused. This talk will describe examples of\n",
    "class overuse taken from real world code and refactor the unnecessary classes, exceptions, and modules out of them.\""
   ]
  },
  {
   "cell_type": "markdown",
   "id": "049d9174",
   "metadata": {
    "slideshow": {
     "slide_type": "slide"
    }
   },
   "source": [
    "There's nothing wrong with:\n",
    "\n",
    "1. Write some simple linear code\n",
    "2. Ooh - functions would make this easier - refactor to use functions\n",
    "3. Ooh - maybe I need a class - refactor to use it"
   ]
  },
  {
   "cell_type": "markdown",
   "id": "e522047f",
   "metadata": {
    "slideshow": {
     "slide_type": "slide"
    }
   },
   "source": [
    "#### Some history\n",
    "\n",
    "...from a C programmer"
   ]
  },
  {
   "cell_type": "markdown",
   "id": "d88cf5d8",
   "metadata": {
    "slideshow": {
     "slide_type": "-"
    }
   },
   "source": [
    "Back in the late 1980s, we were writing C code that created a `context` datastructure, which we would pass to functions.\n",
    "\n",
    "This would contain the bundle of data items that most functions needed most of the time.\n",
    "\n",
    "We would put it as the first argument to those functions."
   ]
  },
  {
   "cell_type": "markdown",
   "id": "16b00ec6",
   "metadata": {
    "slideshow": {
     "slide_type": "slide"
    }
   },
   "source": [
    "Later on, we had the idea to add pointers to common functions to those contexts.\n",
    "\n",
    "So we'd typically have `print` and `compare` function pointers, and we'd attach the appropriate function *for that particular type of context*.\n",
    "\n",
    "Which we'd do in an `init` function."
   ]
  },
  {
   "cell_type": "markdown",
   "id": "058ee366",
   "metadata": {
    "slideshow": {
     "slide_type": "slide"
    }
   },
   "source": [
    "Yes, we too invented some of the basics of OO.\n",
    "\n",
    "Just like lots of people, I'm sure."
   ]
  },
  {
   "cell_type": "markdown",
   "id": "3ec4960d",
   "metadata": {
    "slideshow": {
     "slide_type": "slide"
    }
   },
   "source": [
    "What's the point?\n",
    "\n",
    "Well, sometimes it's OK to pass a context value around, without turning things \"inside out\" and creating a class.\n",
    "\n",
    "And, to be honest, if there are only a few values in that context, it may not even be worth creating it. Just pass the values."
   ]
  },
  {
   "cell_type": "markdown",
   "id": "0511d695",
   "metadata": {
    "slideshow": {
     "slide_type": "slide"
    }
   },
   "source": [
    "#### Some history\n",
    "\n",
    "...from a Fortan programmer"
   ]
  },
  {
   "cell_type": "markdown",
   "id": "6f5a24f9",
   "metadata": {},
   "source": [
    "Before we used C, we used Fortran. It was somewhere between FORTRAN IV and Fortran 77.\n",
    "\n",
    "So a lot of the communication between functions and subroutines was done with `COMMON` blocks - essentially named global storage.\n",
    "\n",
    "We managed."
   ]
  },
  {
   "cell_type": "markdown",
   "id": "54ae2bd0",
   "metadata": {
    "slideshow": {
     "slide_type": "slide"
    }
   },
   "source": [
    "Personally, I am a library writer at heart, so am unreasonably prejudiced against using Python `global`s.\n",
    "\n",
    "But if you're writing a simple *program*\n",
    "\n",
    "* and all of the functions in that program use a few shared values, \n",
    "* and especially if few (if any) of them modify those values\n",
    "\n",
    "then globals can make sense."
   ]
  },
  {
   "cell_type": "markdown",
   "id": "d3be2b49",
   "metadata": {
    "slideshow": {
     "slide_type": "slide"
    }
   },
   "source": [
    "#### In summary\n",
    "\n",
    "* It's OK to keep things simple\n",
    "* It's OK not to use classes if they're not needed\n",
    "* It's OK to pass around `context` values\n",
    "* It's OK (in a program, not in a library!) to use `global` values\n",
    "\n",
    "**But** be prepared to refactor when it gets hard to understand."
   ]
  },
  {
   "cell_type": "markdown",
   "id": "b0b0507f",
   "metadata": {},
   "source": [
    "## Part 2: Can we create Python classes without using the `class` keyword\n",
    "\n",
    "(and some other stuff)"
   ]
  },
  {
   "cell_type": "markdown",
   "id": "f5f63916",
   "metadata": {
    "slideshow": {
     "slide_type": "slide"
    }
   },
   "source": [
    "### Looking at a simple class"
   ]
  },
  {
   "cell_type": "code",
   "execution_count": 1,
   "id": "96081991",
   "metadata": {
    "slideshow": {
     "slide_type": "-"
    }
   },
   "outputs": [],
   "source": [
    "class Example:\n",
    "    \"\"\"A simple example class\"\"\"\n",
    "    a = 3\n",
    "    def f(self, p):\n",
    "        \"\"\"A function that takes a single argument\"\"\"\n",
    "        return f'The parameters were {self} and {p}'"
   ]
  },
  {
   "cell_type": "markdown",
   "id": "8e15328b",
   "metadata": {
    "slideshow": {
     "slide_type": "slide"
    }
   },
   "source": [
    "Which we can use in the expected manner"
   ]
  },
  {
   "cell_type": "code",
   "execution_count": 2,
   "id": "5acee455",
   "metadata": {
    "slideshow": {
     "slide_type": "-"
    }
   },
   "outputs": [
    {
     "name": "stdout",
     "output_type": "stream",
     "text": [
      "Class <class '__main__.Example'>\n",
      "Instance <__main__.Example object at 0x1033ed070>\n",
      "Value    3\n",
      "Method   <bound method Example.f of <__main__.Example object at 0x1033ed070>>\n",
      "Calling the method with 3 'The parameters were <__main__.Example object at 0x1033ed070> and 3'\n"
     ]
    }
   ],
   "source": [
    "e = Example()\n",
    "print(f'Class {Example}')\n",
    "print(f'Instance {e}')\n",
    "print(f'Value    {e.a}')\n",
    "print(f'Method   {e.f}')\n",
    "print(f'Calling the method with 3 {repr(e.f(3))}')"
   ]
  },
  {
   "cell_type": "markdown",
   "id": "1160d59d",
   "metadata": {
    "slideshow": {
     "slide_type": "slide"
    }
   },
   "source": [
    "### Using values\n",
    "\n",
    "We can update the `a` on the class and see it also change on the instance"
   ]
  },
  {
   "cell_type": "code",
   "execution_count": 3,
   "id": "9cd263b0",
   "metadata": {},
   "outputs": [
    {
     "name": "stdout",
     "output_type": "stream",
     "text": [
      "4\n",
      "4\n"
     ]
    }
   ],
   "source": [
    "Example.a = 4\n",
    "print(Example.a)\n",
    "print(e.a)"
   ]
  },
  {
   "cell_type": "markdown",
   "id": "63a7ae6c",
   "metadata": {
    "slideshow": {
     "slide_type": "slide"
    }
   },
   "source": [
    "But if we update the `a` on the instance"
   ]
  },
  {
   "cell_type": "code",
   "execution_count": 4,
   "id": "add4280f",
   "metadata": {},
   "outputs": [
    {
     "name": "stdout",
     "output_type": "stream",
     "text": [
      "4\n",
      "5\n"
     ]
    }
   ],
   "source": [
    "print(e.a)\n",
    "e.a += 1\n",
    "print(e.a)"
   ]
  },
  {
   "cell_type": "markdown",
   "id": "a74ed82f",
   "metadata": {
    "slideshow": {
     "slide_type": "slide"
    }
   },
   "source": [
    "It doesn't change `a` on the class"
   ]
  },
  {
   "cell_type": "code",
   "execution_count": 5,
   "id": "2e66f96a",
   "metadata": {},
   "outputs": [
    {
     "name": "stdout",
     "output_type": "stream",
     "text": [
      "4\n"
     ]
    }
   ],
   "source": [
    "print(Example.a)"
   ]
  },
  {
   "cell_type": "markdown",
   "id": "188e891b",
   "metadata": {
    "slideshow": {
     "slide_type": "slide"
    }
   },
   "source": [
    "And now changing it on the class won't touch the value on the instance"
   ]
  },
  {
   "cell_type": "code",
   "execution_count": 6,
   "id": "6f2b16b3",
   "metadata": {},
   "outputs": [
    {
     "name": "stdout",
     "output_type": "stream",
     "text": [
      "Class    \"a\" 99\n",
      "Instance \"a\" 5\n"
     ]
    }
   ],
   "source": [
    "Example.a = 99\n",
    "print(f'Class    \"a\" {Example.a}')\n",
    "print(f'Instance \"a\" {e.a}')"
   ]
  },
  {
   "cell_type": "markdown",
   "id": "39c0e4bb",
   "metadata": {
    "slideshow": {
     "slide_type": "slide"
    }
   },
   "source": [
    "If we add a new value to the class, the instance will get it"
   ]
  },
  {
   "cell_type": "code",
   "execution_count": 7,
   "id": "70b3728c",
   "metadata": {},
   "outputs": [
    {
     "name": "stdout",
     "output_type": "stream",
     "text": [
      "Class    \"b\" 12\n",
      "Instance \"b\" 12\n"
     ]
    }
   ],
   "source": [
    "Example.b = 12\n",
    "print(f'Class    \"b\" {Example.b}')\n",
    "print(f'Instance \"b\" {e.b}')"
   ]
  },
  {
   "cell_type": "markdown",
   "id": "fbd2177f",
   "metadata": {
    "slideshow": {
     "slide_type": "slide"
    }
   },
   "source": [
    "But not the other way round"
   ]
  },
  {
   "cell_type": "code",
   "execution_count": 8,
   "id": "5dd8c57a",
   "metadata": {},
   "outputs": [
    {
     "name": "stdout",
     "output_type": "stream",
     "text": [
      "Instance has \"c\" True\n",
      "Instance \"c\" -1\n",
      "Class has \"c\" False\n"
     ]
    },
    {
     "ename": "AttributeError",
     "evalue": "type object 'Example' has no attribute 'c'",
     "output_type": "error",
     "traceback": [
      "\u001b[0;31m---------------------------------------------------------------------------\u001b[0m",
      "\u001b[0;31mAttributeError\u001b[0m                            Traceback (most recent call last)",
      "\u001b[0;32m/var/folders/3c/74720f_907b07qy3vwcklsg00000gp/T/ipykernel_84396/545715870.py\u001b[0m in \u001b[0;36m<module>\u001b[0;34m\u001b[0m\n\u001b[1;32m      3\u001b[0m \u001b[0mprint\u001b[0m\u001b[0;34m(\u001b[0m\u001b[0;34mf'Instance \"c\" {e.c}'\u001b[0m\u001b[0;34m)\u001b[0m\u001b[0;34m\u001b[0m\u001b[0;34m\u001b[0m\u001b[0m\n\u001b[1;32m      4\u001b[0m \u001b[0mprint\u001b[0m\u001b[0;34m(\u001b[0m\u001b[0;34mf'Class has \"c\" {hasattr(Example, \"c\")}'\u001b[0m\u001b[0;34m)\u001b[0m\u001b[0;34m\u001b[0m\u001b[0;34m\u001b[0m\u001b[0m\n\u001b[0;32m----> 5\u001b[0;31m \u001b[0mprint\u001b[0m\u001b[0;34m(\u001b[0m\u001b[0;34mf'Class    \"c\" {Example.c}'\u001b[0m\u001b[0;34m)\u001b[0m\u001b[0;34m\u001b[0m\u001b[0;34m\u001b[0m\u001b[0m\n\u001b[0m",
      "\u001b[0;31mAttributeError\u001b[0m: type object 'Example' has no attribute 'c'"
     ]
    }
   ],
   "source": [
    "e.c = -1\n",
    "print(f'Instance has \"c\" {hasattr(e, \"c\")}')\n",
    "print(f'Instance \"c\" {e.c}')\n",
    "print(f'Class has \"c\" {hasattr(Example, \"c\")}')\n",
    "print(f'Class    \"c\" {Example.c}')"
   ]
  },
  {
   "cell_type": "markdown",
   "id": "a621a356",
   "metadata": {
    "slideshow": {
     "slide_type": "slide"
    }
   },
   "source": [
    "### Using methods\n",
    "\n",
    "We can call the method on the instance:"
   ]
  },
  {
   "cell_type": "code",
   "execution_count": 10,
   "id": "82181464",
   "metadata": {},
   "outputs": [
    {
     "data": {
      "text/plain": [
       "'The parameters were <__main__.Example object at 0x1033ed070> and 4'"
      ]
     },
     "execution_count": 10,
     "metadata": {},
     "output_type": "execute_result"
    }
   ],
   "source": [
    "e.f(4)"
   ]
  },
  {
   "cell_type": "markdown",
   "id": "8dc3fffa",
   "metadata": {
    "slideshow": {
     "slide_type": "slide"
    }
   },
   "source": [
    "Or via the class, although then we need to pass in the instance (`self`) explicitly"
   ]
  },
  {
   "cell_type": "code",
   "execution_count": 11,
   "id": "4a37bd59",
   "metadata": {},
   "outputs": [
    {
     "data": {
      "text/plain": [
       "'The parameters were <__main__.Example object at 0x1033ed070> and 4'"
      ]
     },
     "execution_count": 11,
     "metadata": {},
     "output_type": "execute_result"
    }
   ],
   "source": [
    "Example.f(e, 4)"
   ]
  },
  {
   "cell_type": "markdown",
   "id": "8d44298e",
   "metadata": {
    "slideshow": {
     "slide_type": "slide"
    }
   },
   "source": [
    "and there's nothing special about `self`"
   ]
  },
  {
   "cell_type": "code",
   "execution_count": 12,
   "id": "6325b528",
   "metadata": {},
   "outputs": [
    {
     "data": {
      "text/plain": [
       "'The parameters were not an instance and 4'"
      ]
     },
     "execution_count": 12,
     "metadata": {},
     "output_type": "execute_result"
    }
   ],
   "source": [
    "Example.f('not an instance', 4)"
   ]
  },
  {
   "cell_type": "markdown",
   "id": "28e004ea",
   "metadata": {
    "slideshow": {
     "slide_type": "slide"
    }
   },
   "source": [
    "So we shouldn't be surprised that on the class it's a function, but on the instance it's a method, which gets passed the instance as its first argument"
   ]
  },
  {
   "cell_type": "code",
   "execution_count": 13,
   "id": "45907380",
   "metadata": {},
   "outputs": [
    {
     "name": "stdout",
     "output_type": "stream",
     "text": [
      "Example.f is a <class 'function'>\n",
      "e.f is a <class 'method'>\n"
     ]
    }
   ],
   "source": [
    "print(f'Example.f is a {type(Example.f)}')\n",
    "print(f'e.f is a {type(e.f)}')"
   ]
  },
  {
   "cell_type": "markdown",
   "id": "7e70f520",
   "metadata": {
    "slideshow": {
     "slide_type": "slide"
    }
   },
   "source": [
    "**Aside** In Python, all methods are functions, and there's nothing special about the name `self`."
   ]
  },
  {
   "cell_type": "code",
   "execution_count": 14,
   "id": "e61efd27",
   "metadata": {},
   "outputs": [
    {
     "name": "stdout",
     "output_type": "stream",
     "text": [
      "Class has \"double\" True\n",
      "Instance has \"double\" True\n",
      "Example.double is a <class 'function'>\n",
      "e.double is a <class 'method'>\n",
      "e.double(3) is 6\n"
     ]
    }
   ],
   "source": [
    "def double(self, x):\n",
    "    return x + x\n",
    "\n",
    "Example.double = double\n",
    "print(f'Class has \"double\" {hasattr(Example, \"double\")}')\n",
    "print(f'Instance has \"double\" {hasattr(e, \"double\")}')\n",
    "print(f'Example.double is a {type(Example.double)}')\n",
    "print(f'e.double is a {type(e.double)}')\n",
    "print(f'e.double(3) is {e.double(3)}')"
   ]
  },
  {
   "cell_type": "markdown",
   "id": "fa0fab1f",
   "metadata": {
    "slideshow": {
     "slide_type": "slide"
    }
   },
   "source": [
    "Contrariwise, in Ruby, all functions are methods:\n",
    "\n",
    "```ruby\n",
    "irb(main):005:1* def fn(a)\n",
    "irb(main):006:1*   puts \"self is #{self} #{self.inspect}\"\n",
    "irb(main):007:0> end\n",
    "=> :fn\n",
    "irb(main):008:0> fn(1)\n",
    "self is main main\n",
    "=> nil\n",
    "```"
   ]
  },
  {
   "cell_type": "markdown",
   "id": "4c4d54ab",
   "metadata": {
    "slideshow": {
     "slide_type": "slide"
    }
   },
   "source": [
    "It seems natural to me that in Python we have to specify the `self` argument explicitly, as it's not special *to the function*.\n",
    "\n",
    "However, in Ruby, as all functions are methods, there's always a parent class, and always a `self`, so there's no need to put it in the argument list.\n",
    "\n",
    "**End of aside**"
   ]
  },
  {
   "cell_type": "code",
   "execution_count": null,
   "id": "b2a5f497",
   "metadata": {},
   "outputs": [],
   "source": []
  },
  {
   "cell_type": "code",
   "execution_count": null,
   "id": "8b37765d",
   "metadata": {},
   "outputs": [],
   "source": []
  },
  {
   "cell_type": "markdown",
   "id": "4ae6ee58",
   "metadata": {
    "slideshow": {
     "slide_type": "slide"
    }
   },
   "source": [
    "### Can we define a class without `class`?"
   ]
  },
  {
   "cell_type": "markdown",
   "id": "f2ca246b",
   "metadata": {
    "slideshow": {
     "slide_type": "slide"
    }
   },
   "source": [
    "Can we create a class without using the `class` keyword?"
   ]
  },
  {
   "cell_type": "markdown",
   "id": "ba8c84f5",
   "metadata": {
    "slideshow": {
     "slide_type": "slide"
    }
   },
   "source": [
    "We've already used the `type` callable:"
   ]
  },
  {
   "cell_type": "code",
   "execution_count": 16,
   "id": "b482ac26",
   "metadata": {},
   "outputs": [
    {
     "data": {
      "text/plain": [
       "type"
      ]
     },
     "execution_count": 16,
     "metadata": {},
     "output_type": "execute_result"
    }
   ],
   "source": [
    "type(Example)"
   ]
  },
  {
   "cell_type": "markdown",
   "id": "ea4dcfee",
   "metadata": {},
   "source": [
    "(Although I would have guessed a class would be of type \"class\")"
   ]
  },
  {
   "cell_type": "markdown",
   "id": "4f21d8ef",
   "metadata": {
    "slideshow": {
     "slide_type": "slide"
    }
   },
   "source": [
    "and of course"
   ]
  },
  {
   "cell_type": "code",
   "execution_count": 19,
   "id": "43c5f39b",
   "metadata": {},
   "outputs": [
    {
     "name": "stdout",
     "output_type": "stream",
     "text": [
      "<class 'int'>\n",
      "<class 'str'>\n"
     ]
    }
   ],
   "source": [
    "print(type(1))\n",
    "print(type('2'))"
   ]
  },
  {
   "cell_type": "markdown",
   "id": "cc31445a",
   "metadata": {
    "slideshow": {
     "slide_type": "slide"
    }
   },
   "source": [
    "While `type` looks like a function, interestingly it isn't"
   ]
  },
  {
   "cell_type": "markdown",
   "id": "ece4cdbd",
   "metadata": {},
   "source": [
    "If we ask for `help(type)`, we see:\n",
    "```\n",
    "Help on class type in module builtins:\n",
    "\n",
    "class type(object)\n",
    " |  type(object_or_name, bases, dict)\n",
    " |  type(object) -> the object's type\n",
    " |  type(name, bases, dict) -> a new type\n",
    " ...\n",
    "```"
   ]
  },
  {
   "cell_type": "markdown",
   "id": "e938adf9",
   "metadata": {
    "slideshow": {
     "slide_type": "slide"
    }
   },
   "source": [
    "We've been using the first of those, `type(object) -> the object's type`.\n",
    "\n",
    "and now we want the second, `type(name, bases, dict) -> a new type`"
   ]
  },
  {
   "cell_type": "code",
   "execution_count": 24,
   "id": "18c27e2c",
   "metadata": {
    "slideshow": {
     "slide_type": "slide"
    }
   },
   "outputs": [],
   "source": [
    "EmptyClass = type('EmptyClass', (), {})"
   ]
  },
  {
   "cell_type": "code",
   "execution_count": 25,
   "id": "10fe579d",
   "metadata": {},
   "outputs": [
    {
     "name": "stdout",
     "output_type": "stream",
     "text": [
      "<class 'type'>\n",
      "<class '__main__.EmptyClass'>\n"
     ]
    }
   ],
   "source": [
    "print(type(EmptyClass))\n",
    "print(repr(EmptyClass))"
   ]
  },
  {
   "cell_type": "code",
   "execution_count": 27,
   "id": "16aa25fd",
   "metadata": {
    "slideshow": {
     "slide_type": "slide"
    }
   },
   "outputs": [
    {
     "name": "stdout",
     "output_type": "stream",
     "text": [
      "<class '__main__.EmptyClass'>\n",
      "<__main__.EmptyClass object at 0x1034d9b50>\n"
     ]
    }
   ],
   "source": [
    "ec = EmptyClass()\n",
    "print(type(ec))\n",
    "print(repr(ec))"
   ]
  },
  {
   "cell_type": "markdown",
   "id": "c4608f5c",
   "metadata": {
    "slideshow": {
     "slide_type": "slide"
    }
   },
   "source": [
    "Let's define a convenient \"method\""
   ]
  },
  {
   "cell_type": "code",
   "execution_count": 11,
   "id": "eaf86ca9",
   "metadata": {
    "slideshow": {
     "slide_type": "-"
    }
   },
   "outputs": [],
   "source": [
    "def function_f(self, p):\n",
    "    \"\"\"A function we shall use as a method that takes a single argument\"\"\"\n",
    "    return f'The parameters were {self} and {p}'"
   ]
  },
  {
   "cell_type": "markdown",
   "id": "197581b4",
   "metadata": {},
   "source": [
    "And use it to build a simple class"
   ]
  },
  {
   "cell_type": "code",
   "execution_count": 12,
   "id": "e3534a41",
   "metadata": {
    "slideshow": {
     "slide_type": "slide"
    }
   },
   "outputs": [],
   "source": [
    "ByHand = type('ByHand', (), {'f': function_f, 'a': 3})"
   ]
  },
  {
   "cell_type": "code",
   "execution_count": 30,
   "id": "b859c8a0",
   "metadata": {},
   "outputs": [
    {
     "name": "stdout",
     "output_type": "stream",
     "text": [
      "<__main__.ByHand object at 0x1034d9a60>\n",
      "3\n",
      "The parameters were <__main__.ByHand object at 0x1034d9a60> and 2\n"
     ]
    }
   ],
   "source": [
    "bh = ByHand()\n",
    "print(bh)\n",
    "print(bh.a)\n",
    "print(bh.f(2))"
   ]
  },
  {
   "cell_type": "markdown",
   "id": "8b07cb04",
   "metadata": {
    "slideshow": {
     "slide_type": "slide"
    }
   },
   "source": [
    "The obvious next thing to do is to make a function to make classes"
   ]
  },
  {
   "cell_type": "code",
   "execution_count": 35,
   "id": "2bb0529b",
   "metadata": {
    "slideshow": {
     "slide_type": "-"
    }
   },
   "outputs": [],
   "source": [
    "from collections import ChainMap\n",
    "def make_a_class(name, value_dict, method_dict):\n",
    "    cls = type(name, (), dict(ChainMap(value_dict, method_dict)))\n",
    "    return cls"
   ]
  },
  {
   "cell_type": "code",
   "execution_count": 36,
   "id": "7746691f",
   "metadata": {
    "slideshow": {
     "slide_type": "slide"
    }
   },
   "outputs": [
    {
     "name": "stdout",
     "output_type": "stream",
     "text": [
      "Class <class '__main__.ByHand'>\n",
      "Class value a 3\n",
      "Class function The parameters were None and fred\n"
     ]
    }
   ],
   "source": [
    "C = make_a_class('ByHand', {'a': 3}, {'f': function_f})\n",
    "print(f'Class {C!r}')\n",
    "print(f'Class value a {C.a!r}')\n",
    "print(f'Class function {C.f(None, \"fred\")}')"
   ]
  },
  {
   "cell_type": "markdown",
   "id": "42a4715e",
   "metadata": {
    "slideshow": {
     "slide_type": "slide"
    }
   },
   "source": [
    "We can create an instance, just as we might expect"
   ]
  },
  {
   "cell_type": "code",
   "execution_count": 38,
   "id": "fb6e8cdb",
   "metadata": {},
   "outputs": [
    {
     "name": "stdout",
     "output_type": "stream",
     "text": [
      "Instance <__main__.ByHand object at 0x1034a86a0>\n",
      "Instance vaue a 3\n",
      "Instance function The parameters were <__main__.ByHand object at 0x1034a86a0> and fred\n"
     ]
    }
   ],
   "source": [
    "o = C()\n",
    "print(f'Instance {o!r}')\n",
    "print(f'Instance vaue a {o.a!r}')\n",
    "print(f'Instance function {o.f(\"fred\")}')"
   ]
  },
  {
   "cell_type": "markdown",
   "id": "d5e98d7e",
   "metadata": {
    "slideshow": {
     "slide_type": "slide"
    }
   },
   "source": [
    "### Can we construct an instance by hand?"
   ]
  },
  {
   "cell_type": "markdown",
   "id": "072f4fa3",
   "metadata": {
    "slideshow": {
     "slide_type": "slide"
    }
   },
   "source": [
    "Can we create an empty object and add things to it?"
   ]
  },
  {
   "cell_type": "markdown",
   "id": "fc1b79d0",
   "metadata": {},
   "source": [
    "Our first guess might be to create an instance of the base class, `Object`"
   ]
  },
  {
   "cell_type": "code",
   "execution_count": 14,
   "id": "bf2c4fd1",
   "metadata": {
    "slideshow": {
     "slide_type": "-"
    }
   },
   "outputs": [],
   "source": [
    "o = object()"
   ]
  },
  {
   "cell_type": "markdown",
   "id": "4066886e",
   "metadata": {
    "slideshow": {
     "slide_type": "slide"
    }
   },
   "source": [
    "but unfortunately, its not possible to add new values to instances of `Object`"
   ]
  },
  {
   "cell_type": "code",
   "execution_count": 15,
   "id": "e7f4baf1",
   "metadata": {},
   "outputs": [
    {
     "ename": "AttributeError",
     "evalue": "'object' object has no attribute 'a'",
     "output_type": "error",
     "traceback": [
      "\u001b[0;31m---------------------------------------------------------------------------\u001b[0m",
      "\u001b[0;31mAttributeError\u001b[0m                            Traceback (most recent call last)",
      "\u001b[0;32m/var/folders/_z/6hyb5fwx3rx565ssb7ggxl680000gn/T/ipykernel_26467/3212368273.py\u001b[0m in \u001b[0;36m<module>\u001b[0;34m\u001b[0m\n\u001b[0;32m----> 1\u001b[0;31m \u001b[0mo\u001b[0m\u001b[0;34m.\u001b[0m\u001b[0ma\u001b[0m \u001b[0;34m=\u001b[0m \u001b[0;36m1\u001b[0m\u001b[0;34m\u001b[0m\u001b[0;34m\u001b[0m\u001b[0m\n\u001b[0m",
      "\u001b[0;31mAttributeError\u001b[0m: 'object' object has no attribute 'a'"
     ]
    }
   ],
   "source": [
    "o.a = 1"
   ]
  },
  {
   "cell_type": "markdown",
   "id": "646cd465",
   "metadata": {
    "slideshow": {
     "slide_type": "slide"
    }
   },
   "source": [
    "So we still have to use `type` to get an empty mutable object"
   ]
  },
  {
   "cell_type": "code",
   "execution_count": 16,
   "id": "602e8864",
   "metadata": {},
   "outputs": [
    {
     "name": "stdout",
     "output_type": "stream",
     "text": [
      "<class '__main__.EmptyClass'>\n"
     ]
    }
   ],
   "source": [
    "EmptyClass = type('EmptyClass', (), {})\n",
    "eo = EmptyClass()\n",
    "print(type(eo))"
   ]
  },
  {
   "cell_type": "markdown",
   "id": "2d8ec86a",
   "metadata": {
    "slideshow": {
     "slide_type": "slide"
    }
   },
   "source": [
    "And we know we can do"
   ]
  },
  {
   "cell_type": "code",
   "execution_count": 17,
   "id": "161897d4",
   "metadata": {},
   "outputs": [
    {
     "name": "stdout",
     "output_type": "stream",
     "text": [
      "1\n"
     ]
    }
   ],
   "source": [
    "eo.a = 1\n",
    "print(eo.a)"
   ]
  },
  {
   "cell_type": "code",
   "execution_count": 18,
   "id": "65a18519",
   "metadata": {},
   "outputs": [
    {
     "name": "stdout",
     "output_type": "stream",
     "text": [
      "2\n"
     ]
    }
   ],
   "source": [
    "eo.a = eo.a + 1\n",
    "print(eo.a)"
   ]
  },
  {
   "cell_type": "markdown",
   "id": "d8da873d",
   "metadata": {
    "slideshow": {
     "slide_type": "slide"
    }
   },
   "source": [
    "Can we add a function *to the object* and have it be a method?"
   ]
  },
  {
   "cell_type": "code",
   "execution_count": 19,
   "id": "ddf18d69",
   "metadata": {},
   "outputs": [
    {
     "ename": "TypeError",
     "evalue": "maybe_a_method() missing 1 required positional argument: 'x'",
     "output_type": "error",
     "traceback": [
      "\u001b[0;31m---------------------------------------------------------------------------\u001b[0m",
      "\u001b[0;31mTypeError\u001b[0m                                 Traceback (most recent call last)",
      "\u001b[0;32m/var/folders/_z/6hyb5fwx3rx565ssb7ggxl680000gn/T/ipykernel_26467/3561813814.py\u001b[0m in \u001b[0;36m<module>\u001b[0;34m\u001b[0m\n\u001b[1;32m      3\u001b[0m \u001b[0;34m\u001b[0m\u001b[0m\n\u001b[1;32m      4\u001b[0m \u001b[0meo\u001b[0m\u001b[0;34m.\u001b[0m\u001b[0mf\u001b[0m \u001b[0;34m=\u001b[0m \u001b[0mmaybe_a_method\u001b[0m\u001b[0;34m\u001b[0m\u001b[0;34m\u001b[0m\u001b[0m\n\u001b[0;32m----> 5\u001b[0;31m \u001b[0mprint\u001b[0m\u001b[0;34m(\u001b[0m\u001b[0meo\u001b[0m\u001b[0;34m.\u001b[0m\u001b[0mf\u001b[0m\u001b[0;34m(\u001b[0m\u001b[0;36m1\u001b[0m\u001b[0;34m)\u001b[0m\u001b[0;34m)\u001b[0m\u001b[0;34m\u001b[0m\u001b[0;34m\u001b[0m\u001b[0m\n\u001b[0m",
      "\u001b[0;31mTypeError\u001b[0m: maybe_a_method() missing 1 required positional argument: 'x'"
     ]
    }
   ],
   "source": [
    "def maybe_a_method(self, x):\n",
    "    print(f'Maybe a method on {self} and {x}')\n",
    "    \n",
    "eo.f = maybe_a_method\n",
    "print(eo.f(1))"
   ]
  },
  {
   "cell_type": "markdown",
   "id": "50bb4f1f",
   "metadata": {
    "slideshow": {
     "slide_type": "slide"
    }
   },
   "source": [
    "Unfortunately, adding a function as a value on an instance doesn't make a method"
   ]
  },
  {
   "cell_type": "code",
   "execution_count": 21,
   "id": "00da5567",
   "metadata": {},
   "outputs": [
    {
     "name": "stdout",
     "output_type": "stream",
     "text": [
      "<class 'function'>\n"
     ]
    }
   ],
   "source": [
    "print(type(eo.f))"
   ]
  },
  {
   "cell_type": "markdown",
   "id": "2d473ecb",
   "metadata": {
    "slideshow": {
     "slide_type": "slide"
    }
   },
   "source": [
    "Normally, when we ask an instance for a method (`eo.f`), it gets looked up in the instance, isn't found there,\n",
    "and is looked up in the class, which says\n",
    "\"I know what you're doing, that's a function you're looking up on me, so you must want a method back\""
   ]
  },
  {
   "cell_type": "code",
   "execution_count": 25,
   "id": "aa326772",
   "metadata": {
    "slideshow": {
     "slide_type": "-"
    }
   },
   "outputs": [
    {
     "name": "stdout",
     "output_type": "stream",
     "text": [
      "<class 'function'>\n",
      "<class 'function'>\n",
      "<class 'method'>\n",
      "Aha!\n"
     ]
    }
   ],
   "source": [
    "class NoMethods: pass\n",
    "def just_a_function(self): return 'Aha!'\n",
    "NoMethods.f = just_a_function\n",
    "nm = NoMethods()\n",
    "\n",
    "print(type(just_a_function))\n",
    "print(type(NoMethods.f))\n",
    "print(type(nm.f))\n",
    "print(nm.f())"
   ]
  },
  {
   "cell_type": "markdown",
   "id": "831f5c5d",
   "metadata": {
    "slideshow": {
     "slide_type": "slide"
    }
   },
   "source": [
    "But our empty object is an instance of an empty class, so that won't work.\n",
    "\n",
    "Luckily there is a way:"
   ]
  },
  {
   "cell_type": "code",
   "execution_count": 27,
   "id": "59504902",
   "metadata": {},
   "outputs": [
    {
     "name": "stdout",
     "output_type": "stream",
     "text": [
      "<class 'method'>\n",
      "Aha!\n"
     ]
    }
   ],
   "source": [
    "eo.f = just_a_function.__get__(eo, EmptyClass)\n",
    "print(type(eo.f))\n",
    "print(eo.f())"
   ]
  },
  {
   "cell_type": "markdown",
   "id": "74434cde",
   "metadata": {
    "slideshow": {
     "slide_type": "slide"
    }
   },
   "source": [
    "I don't propose to explain that (but am grateful to https://stackoverflow.com/a/46757134 for the example!).\n",
    "\n",
    "If you want to learn more, then this is using the power of *descriptors*, which are at the heart of Python's attribute access\n",
    "\n",
    "See the HOWTO at https://docs.python.org/3/howto/descriptor.html"
   ]
  },
  {
   "cell_type": "markdown",
   "id": "7f59f0eb",
   "metadata": {
    "slideshow": {
     "slide_type": "slide"
    }
   },
   "source": [
    "There is also a more \"understandable\" way to do this.\n",
    "\n",
    "We can create a `method` from our function"
   ]
  },
  {
   "cell_type": "code",
   "execution_count": 28,
   "id": "7b71a901",
   "metadata": {},
   "outputs": [
    {
     "name": "stdout",
     "output_type": "stream",
     "text": [
      "<class 'method'>\n",
      "Aha!\n"
     ]
    }
   ],
   "source": [
    "import types\n",
    "eo.f = types.MethodType(just_a_function, eo)\n",
    "print(type(eo.f))\n",
    "print(eo.f())"
   ]
  },
  {
   "cell_type": "markdown",
   "id": "5461d29a",
   "metadata": {
    "slideshow": {
     "slide_type": "slide"
    }
   },
   "source": [
    "And we can create a function to do wrap this nicely"
   ]
  },
  {
   "cell_type": "code",
   "execution_count": 29,
   "id": "8307dfeb",
   "metadata": {
    "slideshow": {
     "slide_type": "slide"
    }
   },
   "outputs": [],
   "source": [
    "def pretend_instance(class_name, variable_dict, function_list):\n",
    "    eo_class = type(class_name, (), variable_dict)\n",
    "    eo = eo_class()\n",
    "    for f in function_list:\n",
    "        setattr(eo, f.__name__, types.MethodType(f, eo))\n",
    "    return eo"
   ]
  },
  {
   "cell_type": "code",
   "execution_count": 30,
   "id": "43fdac0b",
   "metadata": {},
   "outputs": [
    {
     "name": "stdout",
     "output_type": "stream",
     "text": [
      "<class '__main__.ClassName'>\n",
      "3\n",
      "Aha!\n"
     ]
    }
   ],
   "source": [
    "x = pretend_instance('ClassName', {'var': 3}, [just_a_function])\n",
    "print(type(x))\n",
    "print(x.var)\n",
    "print(x.just_a_function())"
   ]
  },
  {
   "cell_type": "code",
   "execution_count": null,
   "id": "fe5e4d94",
   "metadata": {},
   "outputs": [],
   "source": []
  },
  {
   "cell_type": "code",
   "execution_count": null,
   "id": "8254a73a",
   "metadata": {},
   "outputs": [],
   "source": []
  },
  {
   "cell_type": "markdown",
   "id": "3749d751",
   "metadata": {
    "slideshow": {
     "slide_type": "slide"
    }
   },
   "source": [
    "### Can we create a function without using `def`?"
   ]
  },
  {
   "cell_type": "markdown",
   "id": "cce5ae26",
   "metadata": {
    "slideshow": {
     "slide_type": "slide"
    }
   },
   "source": [
    "Well, there is lambda"
   ]
  },
  {
   "cell_type": "code",
   "execution_count": null,
   "id": "f7f55f13",
   "metadata": {},
   "outputs": [],
   "source": [
    "lamb = lambda x: x + 1\n",
    "\n",
    "lamb(2)"
   ]
  },
  {
   "cell_type": "markdown",
   "id": "42d5af04",
   "metadata": {
    "slideshow": {
     "slide_type": "slide"
    }
   },
   "source": [
    "although\n",
    "\n",
    "1. That's another keyword\n",
    "2. It's very limited in what it can do\n",
    "\n",
    "> An anonymous inline function consisting of a single expression which is evaluated when the function is called"
   ]
  },
  {
   "cell_type": "markdown",
   "id": "fa5ad02e",
   "metadata": {
    "slideshow": {
     "slide_type": "slide"
    }
   },
   "source": [
    "There is also `types.FunctionType`, which is similar in idea to our use of `type` to create classes.\n",
    "\n",
    "(unfortunately, it's signature is implementation specific and may even change between Python versions)"
   ]
  },
  {
   "cell_type": "markdown",
   "id": "f8cbfadc",
   "metadata": {
    "slideshow": {
     "slide_type": "slide"
    }
   },
   "source": [
    "```python\n",
    ">>> help(types.FunctionType)\n",
    "Help on class function in module builtins:\n",
    "\n",
    "class function(object)\n",
    " |  function(code, globals, name=None, argdefs=None, closure=None)\n",
    " |\n",
    " |  Create a function object.\n",
    " |\n",
    " |  code\n",
    " |    a code object\n",
    " |  globals\n",
    " |    the globals dictionary\n",
    " |  name\n",
    " |    a string that overrides the name from the code object\n",
    " |  argdefs\n",
    " |    a tuple that specifies the default argument values\n",
    " |  closure\n",
    " |    a tuple that supplies the bindings for free variables\n",
    " ```"
   ]
  },
  {
   "cell_type": "markdown",
   "id": "f940a285",
   "metadata": {
    "slideshow": {
     "slide_type": "slide"
    }
   },
   "source": [
    "We can get a code object from an existing function"
   ]
  },
  {
   "cell_type": "code",
   "execution_count": null,
   "id": "d302c116",
   "metadata": {},
   "outputs": [],
   "source": [
    "print(lamb.__code__)"
   ]
  },
  {
   "cell_type": "code",
   "execution_count": null,
   "id": "bbe3392b",
   "metadata": {},
   "outputs": [],
   "source": [
    "import types\n",
    "lambish = types.FunctionType(lamb.__code__, globals())\n",
    "print(lambish(1))"
   ]
  },
  {
   "cell_type": "markdown",
   "id": "0f4ccda4",
   "metadata": {
    "slideshow": {
     "slide_type": "slide"
    }
   },
   "source": [
    "or we can create one with `compile`"
   ]
  },
  {
   "cell_type": "code",
   "execution_count": null,
   "id": "fba5f72a",
   "metadata": {},
   "outputs": [],
   "source": [
    "code = compile('print(4)', 'no-file', 'exec')\n",
    "compiled_fn = types.FunctionType(code, globals())\n",
    "print(compiled_fn())"
   ]
  },
  {
   "cell_type": "markdown",
   "id": "956edfc7",
   "metadata": {
    "slideshow": {
     "slide_type": "slide"
    }
   },
   "source": [
    "But how did `lambish` know about its argument?"
   ]
  },
  {
   "cell_type": "code",
   "execution_count": null,
   "id": "5531aa32",
   "metadata": {
    "slideshow": {
     "slide_type": "slide"
    }
   },
   "outputs": [],
   "source": [
    "print(dir(lamb.__code__))"
   ]
  },
  {
   "cell_type": "markdown",
   "id": "0725c218",
   "metadata": {},
   "source": [
    "The documentation for the `inspect` module tells us that `co_argcount` is the number of arguments, and `co_varnames` is a tuple of the names of the arguments and then the names of the local variables"
   ]
  },
  {
   "cell_type": "code",
   "execution_count": null,
   "id": "dfb2c949",
   "metadata": {
    "slideshow": {
     "slide_type": "slide"
    }
   },
   "outputs": [],
   "source": [
    "print(lamb.__code__.co_argcount)\n",
    "print(lamb.__code__.co_varnames)"
   ]
  },
  {
   "cell_type": "markdown",
   "id": "345b801b",
   "metadata": {
    "slideshow": {
     "slide_type": "slide"
    }
   },
   "source": [
    "But that't not mutable"
   ]
  },
  {
   "cell_type": "code",
   "execution_count": null,
   "id": "1e3556e0",
   "metadata": {},
   "outputs": [],
   "source": [
    "lamb.__code__.co_varnames = ('x', 'y')"
   ]
  },
  {
   "cell_type": "markdown",
   "id": "c5352120",
   "metadata": {
    "slideshow": {
     "slide_type": "slide"
    }
   },
   "source": [
    "Let's try looking at the \"inside\" of lambish"
   ]
  },
  {
   "cell_type": "code",
   "execution_count": null,
   "id": "e2d48c02",
   "metadata": {},
   "outputs": [],
   "source": [
    "import dis\n",
    "dis.dis(lambish)"
   ]
  },
  {
   "cell_type": "code",
   "execution_count": null,
   "id": "5cb758b5",
   "metadata": {},
   "outputs": [],
   "source": [
    "dis.dis(lamb.__code__)"
   ]
  },
  {
   "cell_type": "code",
   "execution_count": null,
   "id": "ef957d1a",
   "metadata": {},
   "outputs": [],
   "source": []
  },
  {
   "cell_type": "code",
   "execution_count": null,
   "id": "557f73c3",
   "metadata": {},
   "outputs": [],
   "source": []
  },
  {
   "cell_type": "code",
   "execution_count": null,
   "id": "00a9aac0",
   "metadata": {},
   "outputs": [],
   "source": []
  },
  {
   "cell_type": "code",
   "execution_count": null,
   "id": "3442425b",
   "metadata": {},
   "outputs": [],
   "source": []
  },
  {
   "cell_type": "markdown",
   "id": "8ba624f0",
   "metadata": {
    "slideshow": {
     "slide_type": "slide"
    }
   },
   "source": [
    "However, there is `signature` (which needs a callable as its argument)"
   ]
  },
  {
   "cell_type": "code",
   "execution_count": null,
   "id": "249e41ec",
   "metadata": {},
   "outputs": [],
   "source": [
    "print(inspect.signature(lambish))"
   ]
  },
  {
   "cell_type": "markdown",
   "id": "aa6c69db",
   "metadata": {},
   "source": [
    "and that actually returns an instance of class `Signature`"
   ]
  },
  {
   "cell_type": "code",
   "execution_count": null,
   "id": "24143336",
   "metadata": {},
   "outputs": [],
   "source": [
    "print(type(inspect.signature(lambish)))"
   ]
  },
  {
   "cell_type": "code",
   "execution_count": null,
   "id": "656f227a",
   "metadata": {},
   "outputs": [],
   "source": []
  },
  {
   "cell_type": "code",
   "execution_count": null,
   "id": "8a976510",
   "metadata": {},
   "outputs": [],
   "source": []
  },
  {
   "cell_type": "code",
   "execution_count": null,
   "id": "83f96f5d",
   "metadata": {},
   "outputs": [],
   "source": []
  },
  {
   "cell_type": "code",
   "execution_count": null,
   "id": "3dd160d1",
   "metadata": {},
   "outputs": [],
   "source": []
  },
  {
   "cell_type": "code",
   "execution_count": null,
   "id": "c00f9187",
   "metadata": {},
   "outputs": [],
   "source": [
    "import dis\n",
    "dis.dis(fn)"
   ]
  },
  {
   "cell_type": "code",
   "execution_count": null,
   "id": "04a6554d",
   "metadata": {},
   "outputs": [],
   "source": [
    "dis.dis(fn.__code__)"
   ]
  },
  {
   "cell_type": "code",
   "execution_count": null,
   "id": "2e17d97d",
   "metadata": {},
   "outputs": [],
   "source": [
    "dis.dis(bare_f)"
   ]
  },
  {
   "cell_type": "code",
   "execution_count": null,
   "id": "faf07454",
   "metadata": {},
   "outputs": [],
   "source": [
    "print(dir(fn))"
   ]
  },
  {
   "cell_type": "code",
   "execution_count": null,
   "id": "4e8edaa2",
   "metadata": {},
   "outputs": [],
   "source": [
    "print(fn.__dict__)"
   ]
  },
  {
   "cell_type": "code",
   "execution_count": null,
   "id": "1477984f",
   "metadata": {},
   "outputs": [],
   "source": [
    "print(fn.__call__)"
   ]
  },
  {
   "cell_type": "code",
   "execution_count": null,
   "id": "743c7fd4",
   "metadata": {},
   "outputs": [],
   "source": [
    "print(fn.__call__())"
   ]
  },
  {
   "cell_type": "code",
   "execution_count": null,
   "id": "22f07839",
   "metadata": {},
   "outputs": [],
   "source": [
    "print(dir(fn.f))"
   ]
  },
  {
   "cell_type": "code",
   "execution_count": null,
   "id": "300db9f4",
   "metadata": {},
   "outputs": [],
   "source": [
    "save = fn.__code__\n",
    "fn.__code__ = bare_f.__code__\n",
    "print(fn(None, 'fred'))\n",
    "fn.__code__ = save\n",
    "print(fn())"
   ]
  },
  {
   "cell_type": "markdown",
   "id": "18dd4759",
   "metadata": {},
   "source": [
    "-----------------"
   ]
  },
  {
   "cell_type": "code",
   "execution_count": null,
   "id": "a257c99e",
   "metadata": {},
   "outputs": [],
   "source": [
    "a = lambda s, x: f'Lambda over #{s} and #{x}'"
   ]
  },
  {
   "cell_type": "code",
   "execution_count": null,
   "id": "1ea25953",
   "metadata": {},
   "outputs": [],
   "source": [
    "print(a(1,2))"
   ]
  },
  {
   "cell_type": "code",
   "execution_count": null,
   "id": "e84c4907",
   "metadata": {},
   "outputs": [],
   "source": [
    "dis.dis(a)"
   ]
  },
  {
   "cell_type": "code",
   "execution_count": null,
   "id": "9d16c4af",
   "metadata": {},
   "outputs": [],
   "source": [
    "def lf(s,x):\n",
    "    pass\n",
    "\n",
    "lf.__code__ = a.__code__\n",
    "\n",
    "print(lf(1,2))"
   ]
  },
  {
   "cell_type": "code",
   "execution_count": null,
   "id": "dc58fa01",
   "metadata": {},
   "outputs": [],
   "source": [
    "lt = type('Function?', (), {})\n",
    "lt.__code__ = a.__code__"
   ]
  },
  {
   "cell_type": "code",
   "execution_count": null,
   "id": "1c7bcc46",
   "metadata": {},
   "outputs": [],
   "source": [
    "lt(1,2)"
   ]
  },
  {
   "cell_type": "code",
   "execution_count": null,
   "id": "c4cf4e28",
   "metadata": {},
   "outputs": [],
   "source": [
    "print(dir(lf))"
   ]
  },
  {
   "cell_type": "code",
   "execution_count": null,
   "id": "bd7925bd",
   "metadata": {},
   "outputs": [],
   "source": [
    "import inspect"
   ]
  },
  {
   "cell_type": "code",
   "execution_count": null,
   "id": "16c03ebf",
   "metadata": {},
   "outputs": [],
   "source": [
    "print(inspect.isfunction(fn))\n",
    "print(inspect.isfunction(fn.f))\n",
    "print(inspect.isfunction(x.just_a_function))\n",
    "print()\n",
    "print(inspect.ismethod(fn))\n",
    "print(inspect.ismethod(x.just_a_function))"
   ]
  },
  {
   "cell_type": "code",
   "execution_count": 9,
   "id": "4a161b69",
   "metadata": {},
   "outputs": [
    {
     "ename": "NameError",
     "evalue": "name 'inspect' is not defined",
     "output_type": "error",
     "traceback": [
      "\u001b[0;31m---------------------------------------------------------------------------\u001b[0m",
      "\u001b[0;31mNameError\u001b[0m                                 Traceback (most recent call last)",
      "\u001b[0;32m/var/folders/3c/74720f_907b07qy3vwcklsg00000gp/T/ipykernel_84396/849420896.py\u001b[0m in \u001b[0;36m<module>\u001b[0;34m\u001b[0m\n\u001b[0;32m----> 1\u001b[0;31m \u001b[0mprint\u001b[0m\u001b[0;34m(\u001b[0m\u001b[0minspect\u001b[0m\u001b[0;34m.\u001b[0m\u001b[0misclass\u001b[0m\u001b[0;34m(\u001b[0m\u001b[0mExample\u001b[0m\u001b[0;34m)\u001b[0m\u001b[0;34m)\u001b[0m\u001b[0;34m\u001b[0m\u001b[0;34m\u001b[0m\u001b[0m\n\u001b[0m\u001b[1;32m      2\u001b[0m \u001b[0mprint\u001b[0m\u001b[0;34m(\u001b[0m\u001b[0minspect\u001b[0m\u001b[0;34m.\u001b[0m\u001b[0misclass\u001b[0m\u001b[0;34m(\u001b[0m\u001b[0meo_class\u001b[0m\u001b[0;34m)\u001b[0m\u001b[0;34m)\u001b[0m\u001b[0;34m\u001b[0m\u001b[0;34m\u001b[0m\u001b[0m\n",
      "\u001b[0;31mNameError\u001b[0m: name 'inspect' is not defined"
     ]
    }
   ],
   "source": [
    "print(inspect.isclass(Example))\n",
    "print(inspect.isclass(eo_class))"
   ]
  },
  {
   "cell_type": "markdown",
   "id": "b8b2c45f",
   "metadata": {},
   "source": [
    "There's no point in asking if something is an instance, because everything is..."
   ]
  },
  {
   "cell_type": "code",
   "execution_count": null,
   "id": "1228abc1",
   "metadata": {},
   "outputs": [],
   "source": [
    "inspect.signature(just_a_function)"
   ]
  },
  {
   "cell_type": "code",
   "execution_count": null,
   "id": "329242df",
   "metadata": {},
   "outputs": [],
   "source": [
    "print(inspect.signature(bare_f))\n",
    "print(inspect.getsource(bare_f))"
   ]
  },
  {
   "cell_type": "code",
   "execution_count": null,
   "id": "ce02ab99",
   "metadata": {},
   "outputs": [],
   "source": []
  }
 ],
 "metadata": {
  "celltoolbar": "Slideshow",
  "kernelspec": {
   "display_name": "Python 3 (ipykernel)",
   "language": "python",
   "name": "python3"
  },
  "language_info": {
   "codemirror_mode": {
    "name": "ipython",
    "version": 3
   },
   "file_extension": ".py",
   "mimetype": "text/x-python",
   "name": "python",
   "nbconvert_exporter": "python",
   "pygments_lexer": "ipython3",
   "version": "3.9.1"
  }
 },
 "nbformat": 4,
 "nbformat_minor": 5
}
