{
 "cells": [
  {
   "cell_type": "code",
   "execution_count": 5,
   "id": "96081991",
   "metadata": {},
   "outputs": [],
   "source": [
    "class Example:\n",
    "    a = 3\n",
    "    def f(self, p):\n",
    "        \"\"\"A function that takes a single argument\"\"\"\n",
    "        return f'The parameter was {p}'"
   ]
  },
  {
   "cell_type": "code",
   "execution_count": 8,
   "id": "769ed10c",
   "metadata": {},
   "outputs": [
    {
     "name": "stdout",
     "output_type": "stream",
     "text": [
      "Instance <__main__.Example object at 0x1031aa550>\n",
      "Method   <bound method Example.f of <__main__.Example object at 0x1031aa550>>\n",
      "Calling the method with 3 returns 'The parameter was 3'\n"
     ]
    }
   ],
   "source": [
    "e = Example()\n",
    "print(f'Instance {e}')\n",
    "print(f'Method   {e.f}')\n",
    "print(f'Calling the method with 3 returns {repr(e.f(3))}')"
   ]
  },
  {
   "cell_type": "code",
   "execution_count": 11,
   "id": "c9b41eb8",
   "metadata": {},
   "outputs": [
    {
     "name": "stdout",
     "output_type": "stream",
     "text": [
      "['__class__', '__delattr__', '__dict__', '__dir__', '__doc__', '__eq__', '__format__', '__ge__', '__getattribute__', '__gt__', '__hash__', '__init__', '__init_subclass__', '__le__', '__lt__', '__module__', '__ne__', '__new__', '__reduce__', '__reduce_ex__', '__repr__', '__setattr__', '__sizeof__', '__str__', '__subclasshook__', '__weakref__', 'a', 'f']\n"
     ]
    }
   ],
   "source": [
    "print(dir(Example))"
   ]
  },
  {
   "cell_type": "code",
   "execution_count": 12,
   "id": "6e064ce6",
   "metadata": {},
   "outputs": [
    {
     "name": "stdout",
     "output_type": "stream",
     "text": [
      "['__class__', '__delattr__', '__dict__', '__dir__', '__doc__', '__eq__', '__format__', '__ge__', '__getattribute__', '__gt__', '__hash__', '__init__', '__init_subclass__', '__le__', '__lt__', '__module__', '__ne__', '__new__', '__reduce__', '__reduce_ex__', '__repr__', '__setattr__', '__sizeof__', '__str__', '__subclasshook__', '__weakref__', 'a', 'f']\n"
     ]
    }
   ],
   "source": [
    "print(dir(e))"
   ]
  },
  {
   "cell_type": "code",
   "execution_count": null,
   "id": "eb7a7596",
   "metadata": {},
   "outputs": [],
   "source": [
    "dir(e)"
   ]
  }
 ],
 "metadata": {
  "kernelspec": {
   "display_name": "Python 3 (ipykernel)",
   "language": "python",
   "name": "python3"
  },
  "language_info": {
   "codemirror_mode": {
    "name": "ipython",
    "version": 3
   },
   "file_extension": ".py",
   "mimetype": "text/x-python",
   "name": "python",
   "nbconvert_exporter": "python",
   "pygments_lexer": "ipython3",
   "version": "3.9.1"
  }
 },
 "nbformat": 4,
 "nbformat_minor": 5
}
