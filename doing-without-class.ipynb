{
 "cells": [
  {
   "cell_type": "markdown",
   "id": "2ac7a5f2",
   "metadata": {
    "slideshow": {
     "slide_type": "slide"
    }
   },
   "source": [
    "# Doing without `class`\n",
    "\n",
    "A talk by Tibs (they/he), for [CamPUG](https://www.meetup.com/CamPUG/), on [Tuesday 5th October 2021](https://www.meetup.com/CamPUG/events/280947413/)\n",
    "\n",
    "Sources are at https://github.com/tibs/doing-without-class\n",
    "\n",
    "Presented using [Jupyter Notebook](https://jupyter-notebook.readthedocs.io/en/stable/)\n",
    "\n",
    "Licensed under a [Creative Commons Attribution-ShareAlike 4.0 International License](http://creativecommons.org/licenses/by-sa/4.0/)"
   ]
  },
  {
   "cell_type": "markdown",
   "id": "1e2e8493",
   "metadata": {
    "slideshow": {
     "slide_type": "slide"
    }
   },
   "source": [
    "## Abstract\n",
    "\n",
    "When I named this talk, I realised that the name was ambiguous.\n",
    "\n",
    "I could have changed the name, but instead I figured I'd do both talks.\n",
    "\n",
    "* Is it OK to write Python code without classes?\n",
    "* Can we create Python classes without using the `class` keyword"
   ]
  },
  {
   "cell_type": "markdown",
   "id": "b674f484",
   "metadata": {
    "slideshow": {
     "slide_type": "slide"
    }
   },
   "source": [
    "## Part 1: Is it OK to write Python code without classes?\n",
    "\n",
    "**tldr;** Yes"
   ]
  },
  {
   "cell_type": "markdown",
   "id": "d03330cb",
   "metadata": {
    "slideshow": {
     "slide_type": "slide"
    }
   },
   "source": [
    "Ideas:\n",
    "    \n",
    "* Write the simplest thing that will get the job done\n",
    "* Python is deliberately a multi-paradigm language"
   ]
  },
  {
   "cell_type": "markdown",
   "id": "ac3cf148",
   "metadata": {
    "slideshow": {
     "slide_type": "slide"
    }
   },
   "source": [
    "[The seven programming ur-languages](https://madhadron.com/posts/seven_languages.html) by Fred Ross, 2021\n",
    "\n",
    "Broadly: \n",
    "    ALGOL,\n",
    "    Lisp,\n",
    "    ML,\n",
    "    Self,\n",
    "    Forth,\n",
    "    APL,\n",
    "    Prolog\n",
    "\n",
    "\n",
    "Python clearly fits well in the \"ALGOL\" family."
   ]
  },
  {
   "cell_type": "markdown",
   "id": "bb6d37cc",
   "metadata": {
    "slideshow": {
     "slide_type": "slide"
    }
   },
   "source": [
    "> **Characteristics**. Programs consist of sequences of assignments, conditionals, and loops, organized into\n",
    "> functions. Many languages add module systems, ways of defining new data types, polymorphism, or alternate\n",
    "> control flow constructs like exceptions or coroutines.\n",
    "\n",
    "> Most common programming languages trace to this ur-language"
   ]
  },
  {
   "cell_type": "markdown",
   "id": "98a1509c",
   "metadata": {
    "slideshow": {
     "slide_type": "slide"
    }
   },
   "source": [
    "[Stop Writing Classes](https://pyvideo.org/pycon-us-2012/stop-writing-classes.html)\n",
    "\n",
    "A talk from PyCon US 2012, by Jack Diederich\n",
    "\n",
    "> Classes are great but they are also overused. This talk will describe examples of\n",
    "class overuse taken from real world code and refactor the unnecessary classes, exceptions, and modules out of them.\""
   ]
  },
  {
   "cell_type": "markdown",
   "id": "873f20fb",
   "metadata": {
    "slideshow": {
     "slide_type": "slide"
    }
   },
   "source": [
    "There's nothing wrong with:\n",
    "\n",
    "1. Write some simple linear code\n",
    "2. Ooh - functions would make this easier - refactor to use functions\n",
    "3. Ooh - maybe I need a class - refactor to use it"
   ]
  },
  {
   "cell_type": "markdown",
   "id": "7255b1d3",
   "metadata": {
    "slideshow": {
     "slide_type": "slide"
    }
   },
   "source": [
    "#### Some history\n",
    "\n",
    "...from a C programmer"
   ]
  },
  {
   "cell_type": "markdown",
   "id": "600a93ce",
   "metadata": {
    "slideshow": {
     "slide_type": "-"
    }
   },
   "source": [
    "Back in the late 1980s, we were writing C code that created a `context` datastructure, which we would pass to functions.\n",
    "\n",
    "This would contain the bundle of data items that most functions needed most of the time.\n",
    "\n",
    "We would put it as the first argument to those functions."
   ]
  },
  {
   "cell_type": "markdown",
   "id": "1bb65f4b",
   "metadata": {
    "slideshow": {
     "slide_type": "slide"
    }
   },
   "source": [
    "Later on, we had the idea to add pointers to common functions to those contexts.\n",
    "\n",
    "So we'd typically have `print` and `compare` function pointers, and we'd attach the appropriate function *for that particular type of context*.\n",
    "\n",
    "Which we'd do in an `init` function."
   ]
  },
  {
   "cell_type": "markdown",
   "id": "c5e4af1a",
   "metadata": {
    "slideshow": {
     "slide_type": "slide"
    }
   },
   "source": [
    "Yes, we too invented some of the basics of OO.\n",
    "\n",
    "Just like lots of people, I'm sure."
   ]
  },
  {
   "cell_type": "markdown",
   "id": "f7e055aa",
   "metadata": {
    "slideshow": {
     "slide_type": "slide"
    }
   },
   "source": [
    "What's the point?\n",
    "\n",
    "Well, sometimes it's OK to pass a context value around, without turning things \"inside out\" and creating a class.\n",
    "\n",
    "And, to be honest, if there are only a few values in that context, it may not even be worth creating it. Just pass the values."
   ]
  },
  {
   "cell_type": "markdown",
   "id": "8125bb37",
   "metadata": {
    "slideshow": {
     "slide_type": "slide"
    }
   },
   "source": [
    "#### Some history\n",
    "\n",
    "...from a Fortan programmer"
   ]
  },
  {
   "cell_type": "markdown",
   "id": "10c73e4d",
   "metadata": {},
   "source": [
    "Before we used C, we used Fortran. It was somewhere between FORTRAN IV and Fortran 77.\n",
    "\n",
    "So a lot of the communication between functions and subroutines was done with `COMMON` blocks - essentially named global storage.\n",
    "\n",
    "We managed."
   ]
  },
  {
   "cell_type": "markdown",
   "id": "9c9150a7",
   "metadata": {
    "slideshow": {
     "slide_type": "slide"
    }
   },
   "source": [
    "Personally, I am a library writer at heart, so am unreasonably prejudiced against using Python `global`s.\n",
    "\n",
    "But if you're writing a simple *program*\n",
    "\n",
    "* and all of the functions in that program use a few shared values, \n",
    "* and especially if few (if any) of them modify those values\n",
    "\n",
    "then globals can make sense."
   ]
  },
  {
   "cell_type": "markdown",
   "id": "9e56433d",
   "metadata": {
    "slideshow": {
     "slide_type": "slide"
    }
   },
   "source": [
    "#### In summary\n",
    "\n",
    "* It's OK to keep things simple\n",
    "* It's OK not to use classes if they're not needed\n",
    "* It's OK to pass around `context` values\n",
    "* It's OK (in a program, not in a library!) to use `global` values\n",
    "\n",
    "**But** be prepared to refactor when it gets hard to understand."
   ]
  },
  {
   "cell_type": "markdown",
   "id": "cd6298fe",
   "metadata": {
    "slideshow": {
     "slide_type": "slide"
    }
   },
   "source": [
    "#### Addendum\n",
    "\n",
    "I think people sometimes ask questions like this because they're not sure if they're \"a real programmer\" if they don't tick certain boxes / do certain things.\n",
    "\n",
    "I think Chuck Wendig's flowchart for [\"Are you a real writer\"](https://terribleminds.com/ramble/2013/08/06/are-you-a-real-writer-a-handy-and-hasty-flowchart/) is particularly useful - just change \"writer\" to be \"programmer\"."
   ]
  },
  {
   "cell_type": "markdown",
   "id": "c8b60f00",
   "metadata": {
    "slideshow": {
     "slide_type": "slide"
    }
   },
   "source": [
    "<img src=\"am-i-a-writer.webp\" width=\"400\" alt=\"Am I a writer? Basically, if you write, then yes.\"/>"
   ]
  },
  {
   "cell_type": "markdown",
   "id": "ab770a30",
   "metadata": {
    "slideshow": {
     "slide_type": "slide"
    }
   },
   "source": [
    "## Part 2: Can we create Python classes without using the `class` keyword\n",
    "\n",
    "(and some other stuff)"
   ]
  },
  {
   "cell_type": "markdown",
   "id": "fa417bef",
   "metadata": {
    "slideshow": {
     "slide_type": "slide"
    }
   },
   "source": [
    "Summary:\n",
    "    \n",
    "* Looking at a simple class\n",
    "* Can we define a class without class? (*tldr;* yes)\n",
    "* Can we construct an instance by hand? (*tldr;* yes-ish)\n",
    "* Can we create a function without using def? (*tldr;* sort-of no)"
   ]
  },
  {
   "cell_type": "markdown",
   "id": "f5f63916",
   "metadata": {
    "slideshow": {
     "slide_type": "slide"
    }
   },
   "source": [
    "### Looking at a simple class"
   ]
  },
  {
   "cell_type": "code",
   "execution_count": 183,
   "id": "96081991",
   "metadata": {
    "slideshow": {
     "slide_type": "-"
    }
   },
   "outputs": [],
   "source": [
    "class Example:\n",
    "    \"\"\"A simple example class\"\"\"\n",
    "    a = 3\n",
    "    def f(self, p):\n",
    "        \"\"\"A function that takes a single argument\"\"\"\n",
    "        return f'The parameters were {self} and {p}'"
   ]
  },
  {
   "cell_type": "markdown",
   "id": "8e15328b",
   "metadata": {
    "slideshow": {
     "slide_type": "slide"
    }
   },
   "source": [
    "Which we can use in the expected manner"
   ]
  },
  {
   "cell_type": "code",
   "execution_count": 184,
   "id": "5acee455",
   "metadata": {
    "slideshow": {
     "slide_type": "-"
    }
   },
   "outputs": [
    {
     "name": "stdout",
     "output_type": "stream",
     "text": [
      "Class <class '__main__.Example'>\n",
      "Instance <__main__.Example object at 0x10a030a30>\n",
      "Value    3\n",
      "Method   <bound method Example.f of <__main__.Example object at 0x10a030a30>>\n",
      "Calling the method with 3 'The parameters were <__main__.Example object at 0x10a030a30> and 3'\n"
     ]
    }
   ],
   "source": [
    "e = Example()\n",
    "print(f'Class {Example}')\n",
    "print(f'Instance {e}')\n",
    "print(f'Value    {e.a}')\n",
    "print(f'Method   {e.f}')\n",
    "print(f'Calling the method with 3 {repr(e.f(3))}')"
   ]
  },
  {
   "cell_type": "markdown",
   "id": "1160d59d",
   "metadata": {
    "slideshow": {
     "slide_type": "slide"
    }
   },
   "source": [
    "### Using values\n",
    "\n",
    "We can update the `a` on the class and see it also change on the instance"
   ]
  },
  {
   "cell_type": "code",
   "execution_count": 185,
   "id": "9cd263b0",
   "metadata": {},
   "outputs": [
    {
     "name": "stdout",
     "output_type": "stream",
     "text": [
      "4\n",
      "4\n"
     ]
    }
   ],
   "source": [
    "Example.a = 4\n",
    "print(Example.a)\n",
    "print(e.a)"
   ]
  },
  {
   "cell_type": "markdown",
   "id": "63a7ae6c",
   "metadata": {
    "slideshow": {
     "slide_type": "slide"
    }
   },
   "source": [
    "But if we update the `a` on the instance"
   ]
  },
  {
   "cell_type": "code",
   "execution_count": 186,
   "id": "add4280f",
   "metadata": {},
   "outputs": [
    {
     "name": "stdout",
     "output_type": "stream",
     "text": [
      "4\n",
      "5\n"
     ]
    }
   ],
   "source": [
    "print(e.a)\n",
    "e.a += 1\n",
    "print(e.a)"
   ]
  },
  {
   "cell_type": "markdown",
   "id": "a74ed82f",
   "metadata": {
    "slideshow": {
     "slide_type": "slide"
    }
   },
   "source": [
    "It does not change `a` on the class"
   ]
  },
  {
   "cell_type": "code",
   "execution_count": 187,
   "id": "2e66f96a",
   "metadata": {},
   "outputs": [
    {
     "name": "stdout",
     "output_type": "stream",
     "text": [
      "4\n"
     ]
    }
   ],
   "source": [
    "print(Example.a)"
   ]
  },
  {
   "cell_type": "markdown",
   "id": "188e891b",
   "metadata": {
    "slideshow": {
     "slide_type": "slide"
    }
   },
   "source": [
    "And now changing it on the class won't touch the value on the instance"
   ]
  },
  {
   "cell_type": "code",
   "execution_count": 188,
   "id": "6f2b16b3",
   "metadata": {},
   "outputs": [
    {
     "name": "stdout",
     "output_type": "stream",
     "text": [
      "Class    \"a\" 99\n",
      "Instance \"a\" 5\n"
     ]
    }
   ],
   "source": [
    "Example.a = 99\n",
    "print(f'Class    \"a\" {Example.a}')\n",
    "print(f'Instance \"a\" {e.a}')"
   ]
  },
  {
   "cell_type": "markdown",
   "id": "39c0e4bb",
   "metadata": {
    "slideshow": {
     "slide_type": "slide"
    }
   },
   "source": [
    "If we add a new value to the class, the instance will get it"
   ]
  },
  {
   "cell_type": "code",
   "execution_count": 189,
   "id": "70b3728c",
   "metadata": {},
   "outputs": [
    {
     "name": "stdout",
     "output_type": "stream",
     "text": [
      "Class    \"b\" 12\n",
      "Instance \"b\" 12\n"
     ]
    }
   ],
   "source": [
    "Example.b = 12\n",
    "print(f'Class    \"b\" {Example.b}')\n",
    "print(f'Instance \"b\" {e.b}')"
   ]
  },
  {
   "cell_type": "markdown",
   "id": "fbd2177f",
   "metadata": {
    "slideshow": {
     "slide_type": "slide"
    }
   },
   "source": [
    "But not the other way round"
   ]
  },
  {
   "cell_type": "code",
   "execution_count": 190,
   "id": "5dd8c57a",
   "metadata": {},
   "outputs": [
    {
     "name": "stdout",
     "output_type": "stream",
     "text": [
      "Instance has \"c\" True\n",
      "Instance \"c\" -1\n",
      "Class has \"c\" False\n",
      "<class 'AttributeError'>: type object 'Example' has no attribute 'c'\n"
     ]
    }
   ],
   "source": [
    "e.c = -1\n",
    "print(f'Instance has \"c\" {hasattr(e, \"c\")}')\n",
    "print(f'Instance \"c\" {e.c}')\n",
    "print(f'Class has \"c\" {hasattr(Example, \"c\")}')\n",
    "try:\n",
    "    print(f'Class    \"c\" {Example.c}')\n",
    "except Exception as exc:\n",
    "    print(f'{exc.__class__}: {exc}')"
   ]
  },
  {
   "cell_type": "markdown",
   "id": "bb0a90a5",
   "metadata": {
    "slideshow": {
     "slide_type": "slide"
    }
   },
   "source": [
    "#### Aside\n",
    "\n",
    "Why code that as\n",
    "```python\n",
    "try:\n",
    "    <thing>\n",
    "except Exception as exc:\n",
    "    print(f'{exc.__class__}: {exc}')\n",
    "```\n",
    "rather than let the exception \"just happen\"?\n",
    "\n",
    "Purely pragmatism - I expect the exception, and if I\n",
    "don't catch it we get to see the traceback (which is generally a Good Thing)\n",
    "but if I try to run all of the notebook using \"Cells / Run All\", it will\n",
    "stop at the first traceback, which is inconvenient when testing the talk."
   ]
  },
  {
   "cell_type": "markdown",
   "id": "a621a356",
   "metadata": {
    "slideshow": {
     "slide_type": "slide"
    }
   },
   "source": [
    "### Using methods\n",
    "\n",
    "We can call the method on the instance:"
   ]
  },
  {
   "cell_type": "code",
   "execution_count": 191,
   "id": "82181464",
   "metadata": {},
   "outputs": [
    {
     "data": {
      "text/plain": [
       "'The parameters were <__main__.Example object at 0x10a030a30> and 4'"
      ]
     },
     "execution_count": 191,
     "metadata": {},
     "output_type": "execute_result"
    }
   ],
   "source": [
    "e.f(4)"
   ]
  },
  {
   "cell_type": "markdown",
   "id": "8dc3fffa",
   "metadata": {
    "slideshow": {
     "slide_type": "slide"
    }
   },
   "source": [
    "Or via the class, although then we need to pass in the instance (`self`) explicitly"
   ]
  },
  {
   "cell_type": "code",
   "execution_count": 192,
   "id": "4a37bd59",
   "metadata": {},
   "outputs": [
    {
     "data": {
      "text/plain": [
       "'The parameters were <__main__.Example object at 0x10a030a30> and 4'"
      ]
     },
     "execution_count": 192,
     "metadata": {},
     "output_type": "execute_result"
    }
   ],
   "source": [
    "Example.f(e, 4)"
   ]
  },
  {
   "cell_type": "markdown",
   "id": "8d44298e",
   "metadata": {
    "slideshow": {
     "slide_type": "slide"
    }
   },
   "source": [
    "and there's nothing special about `self`"
   ]
  },
  {
   "cell_type": "code",
   "execution_count": 193,
   "id": "6325b528",
   "metadata": {},
   "outputs": [
    {
     "data": {
      "text/plain": [
       "'The parameters were not an instance and 4'"
      ]
     },
     "execution_count": 193,
     "metadata": {},
     "output_type": "execute_result"
    }
   ],
   "source": [
    "Example.f('not an instance', 4)"
   ]
  },
  {
   "cell_type": "markdown",
   "id": "28e004ea",
   "metadata": {
    "slideshow": {
     "slide_type": "slide"
    }
   },
   "source": [
    "So we shouldn't be surprised that on the class it's a function,\n",
    "\n",
    "but on the instance it's a method,\n",
    "\n",
    "which gets passed the instance as its first argument"
   ]
  },
  {
   "cell_type": "code",
   "execution_count": 194,
   "id": "45907380",
   "metadata": {},
   "outputs": [
    {
     "name": "stdout",
     "output_type": "stream",
     "text": [
      "Example.f is a <class 'function'>\n",
      "e.f is a <class 'method'>\n"
     ]
    }
   ],
   "source": [
    "print(f'Example.f is a {type(Example.f)}')\n",
    "print(f'e.f is a {type(e.f)}')"
   ]
  },
  {
   "cell_type": "markdown",
   "id": "7e70f520",
   "metadata": {
    "slideshow": {
     "slide_type": "slide"
    }
   },
   "source": [
    "#### Aside\n",
    "In Python, all methods are functions, and there's nothing special about the name `self`."
   ]
  },
  {
   "cell_type": "code",
   "execution_count": 232,
   "id": "8471f9ec",
   "metadata": {},
   "outputs": [
    {
     "name": "stdout",
     "output_type": "stream",
     "text": [
      "Class \"Example\" has \"double\" True\n",
      "Example.double is a <class 'function'>\n",
      "Example.double(\"thing\", 3) is 6\n",
      "Instance \"e\" has \"double\" True\n",
      "e.double is a <class 'method'>\n",
      "e.double(3) is 6\n"
     ]
    }
   ],
   "source": [
    "def double(self, x): return x + x\n",
    "\n",
    "Example.double = double\n",
    "print(f'Class \"Example\" has \"double\" {hasattr(Example, \"double\")}')\n",
    "print(f'Example.double is a {type(Example.double)}')\n",
    "print(f'Example.double(\"thing\", 3) is {Example.double(\"thing\", 3)}')\n",
    "\n",
    "print(f'Instance \"e\" has \"double\" {hasattr(e, \"double\")}')\n",
    "print(f'e.double is a {type(e.double)}')\n",
    "print(f'e.double(3) is {e.double(3)}')"
   ]
  },
  {
   "cell_type": "markdown",
   "id": "fa0fab1f",
   "metadata": {
    "slideshow": {
     "slide_type": "slide"
    }
   },
   "source": [
    "Contrariwise, in Ruby, all functions are methods:\n",
    "\n",
    "```ruby\n",
    "irb(main):005:1* def fn(a)\n",
    "irb(main):006:1*   puts \"self is #{self} #{self.inspect}\"\n",
    "irb(main):007:0> end\n",
    "=> :fn\n",
    "irb(main):008:0> fn(1)\n",
    "self is main main\n",
    "=> nil\n",
    "```"
   ]
  },
  {
   "cell_type": "markdown",
   "id": "4c4d54ab",
   "metadata": {
    "slideshow": {
     "slide_type": "slide"
    }
   },
   "source": [
    "It seems natural to me that in Python we have to specify the `self` argument explicitly, as it's not special *to the function*.\n",
    "\n",
    "However, in Ruby, as all functions are methods, there's always a parent class, and always a `self`, so there's no need to put it in the argument list.\n",
    "\n",
    "#### End of aside"
   ]
  },
  {
   "cell_type": "markdown",
   "id": "4ae6ee58",
   "metadata": {
    "slideshow": {
     "slide_type": "slide"
    }
   },
   "source": [
    "### Can we define a class without `class`?"
   ]
  },
  {
   "cell_type": "markdown",
   "id": "f2ca246b",
   "metadata": {
    "slideshow": {
     "slide_type": "slide"
    }
   },
   "source": [
    "Can we create a class without using the `class` keyword?"
   ]
  },
  {
   "cell_type": "markdown",
   "id": "ba8c84f5",
   "metadata": {
    "slideshow": {
     "slide_type": "slide"
    }
   },
   "source": [
    "We've already used the `type` callable:"
   ]
  },
  {
   "cell_type": "code",
   "execution_count": 196,
   "id": "b482ac26",
   "metadata": {},
   "outputs": [
    {
     "data": {
      "text/plain": [
       "type"
      ]
     },
     "execution_count": 196,
     "metadata": {},
     "output_type": "execute_result"
    }
   ],
   "source": [
    "type(Example)"
   ]
  },
  {
   "cell_type": "markdown",
   "id": "ea4dcfee",
   "metadata": {},
   "source": [
    "(Although I would have guessed a class would be of type \"class\")"
   ]
  },
  {
   "cell_type": "markdown",
   "id": "4f21d8ef",
   "metadata": {
    "slideshow": {
     "slide_type": "slide"
    }
   },
   "source": [
    "and of course"
   ]
  },
  {
   "cell_type": "code",
   "execution_count": 197,
   "id": "43c5f39b",
   "metadata": {},
   "outputs": [
    {
     "name": "stdout",
     "output_type": "stream",
     "text": [
      "<class 'int'>\n",
      "<class 'str'>\n"
     ]
    }
   ],
   "source": [
    "print(type(1))\n",
    "print(type('2'))"
   ]
  },
  {
   "cell_type": "markdown",
   "id": "cc31445a",
   "metadata": {
    "slideshow": {
     "slide_type": "slide"
    }
   },
   "source": [
    "While `type` looks like a function, interestingly it isn't"
   ]
  },
  {
   "cell_type": "markdown",
   "id": "ece4cdbd",
   "metadata": {},
   "source": [
    "If we ask for `help(type)`, we see:\n",
    "```\n",
    "Help on class type in module builtins:\n",
    "\n",
    "class type(object)\n",
    " |  type(object_or_name, bases, dict)\n",
    " |  type(object) -> the object's type\n",
    " |  type(name, bases, dict) -> a new type\n",
    " ...\n",
    "```"
   ]
  },
  {
   "cell_type": "markdown",
   "id": "e938adf9",
   "metadata": {
    "slideshow": {
     "slide_type": "slide"
    }
   },
   "source": [
    "We've been using the first of those\n",
    "\n",
    "`type(object) -> the object's type`.\n",
    "\n",
    "and now we want the second\n",
    "\n",
    "`type(name, bases, dict) -> a new type`"
   ]
  },
  {
   "cell_type": "code",
   "execution_count": 198,
   "id": "18c27e2c",
   "metadata": {
    "slideshow": {
     "slide_type": "slide"
    }
   },
   "outputs": [],
   "source": [
    "EmptyClass = type('EmptyClass', (), {})"
   ]
  },
  {
   "cell_type": "code",
   "execution_count": 199,
   "id": "10fe579d",
   "metadata": {},
   "outputs": [
    {
     "name": "stdout",
     "output_type": "stream",
     "text": [
      "<class 'type'>\n",
      "<class '__main__.EmptyClass'>\n"
     ]
    }
   ],
   "source": [
    "print(type(EmptyClass))\n",
    "print(repr(EmptyClass))"
   ]
  },
  {
   "cell_type": "code",
   "execution_count": 200,
   "id": "16aa25fd",
   "metadata": {
    "slideshow": {
     "slide_type": "slide"
    }
   },
   "outputs": [
    {
     "name": "stdout",
     "output_type": "stream",
     "text": [
      "<class '__main__.EmptyClass'>\n",
      "<__main__.EmptyClass object at 0x10a03f220>\n"
     ]
    }
   ],
   "source": [
    "ec = EmptyClass()\n",
    "print(type(ec))\n",
    "print(repr(ec))"
   ]
  },
  {
   "cell_type": "markdown",
   "id": "974d4ff2",
   "metadata": {
    "slideshow": {
     "slide_type": "slide"
    }
   },
   "source": [
    "The middle argument specifies base classes"
   ]
  },
  {
   "cell_type": "code",
   "execution_count": 236,
   "id": "f71cb82b",
   "metadata": {},
   "outputs": [
    {
     "name": "stdout",
     "output_type": "stream",
     "text": [
      "0\n"
     ]
    }
   ],
   "source": [
    "AnInteger = type('AnInteger', (int,), {})\n",
    "x = AnInteger()\n",
    "print(x)"
   ]
  },
  {
   "cell_type": "markdown",
   "id": "06b5f452",
   "metadata": {
    "slideshow": {
     "slide_type": "slide"
    }
   },
   "source": [
    "The last argument can be used to set values on the new class"
   ]
  },
  {
   "cell_type": "code",
   "execution_count": 234,
   "id": "1037586a",
   "metadata": {},
   "outputs": [
    {
     "name": "stdout",
     "output_type": "stream",
     "text": [
      "99\n",
      "1\n"
     ]
    }
   ],
   "source": [
    "ClassWithValues = type('ClassWithValues', (), {'a': 99, 'f': lambda self: 1})\n",
    "cv = ClassWithValues()\n",
    "print(cv.a)\n",
    "print(cv.f())"
   ]
  },
  {
   "cell_type": "markdown",
   "id": "b86230e2",
   "metadata": {
    "slideshow": {
     "slide_type": "slide"
    }
   },
   "source": [
    "And we can use both if we want"
   ]
  },
  {
   "cell_type": "code",
   "execution_count": 238,
   "id": "43d8e923",
   "metadata": {},
   "outputs": [
    {
     "name": "stdout",
     "output_type": "stream",
     "text": [
      "9\n",
      "18\n"
     ]
    }
   ],
   "source": [
    "def double(x): return x * 2\n",
    "DoublingInteger = type('DoublingInteger', (int,), {'double': double})\n",
    "db = DoublingInteger(9)\n",
    "print(db)\n",
    "print(db.double())"
   ]
  },
  {
   "cell_type": "markdown",
   "id": "3e1b3d27",
   "metadata": {
    "slideshow": {
     "slide_type": "slide"
    }
   },
   "source": [
    "Let's build a simple class"
   ]
  },
  {
   "cell_type": "code",
   "execution_count": 201,
   "id": "c86ad1cd",
   "metadata": {
    "slideshow": {
     "slide_type": "-"
    }
   },
   "outputs": [],
   "source": [
    "def function_f(self, p):\n",
    "    \"\"\"A function we shall use as a method that takes a single argument\"\"\"\n",
    "    return f'The parameters were {self} and {p}'"
   ]
  },
  {
   "cell_type": "code",
   "execution_count": 202,
   "id": "e3534a41",
   "metadata": {
    "slideshow": {
     "slide_type": "-"
    }
   },
   "outputs": [],
   "source": [
    "ByHand = type('ByHand', (), {'f': function_f, 'a': 3})"
   ]
  },
  {
   "cell_type": "code",
   "execution_count": 203,
   "id": "b859c8a0",
   "metadata": {
    "slideshow": {
     "slide_type": "slide"
    }
   },
   "outputs": [
    {
     "name": "stdout",
     "output_type": "stream",
     "text": [
      "<__main__.ByHand object at 0x10a03fd00>\n",
      "3\n",
      "The parameters were <__main__.ByHand object at 0x10a03fd00> and 2\n"
     ]
    }
   ],
   "source": [
    "bh = ByHand()\n",
    "print(bh)\n",
    "print(bh.a)\n",
    "print(bh.f(2))"
   ]
  },
  {
   "cell_type": "markdown",
   "id": "43409f31",
   "metadata": {
    "slideshow": {
     "slide_type": "slide"
    }
   },
   "source": [
    "The obvious next thing to do is to make a function to make classes"
   ]
  },
  {
   "cell_type": "code",
   "execution_count": 204,
   "id": "2bb0529b",
   "metadata": {
    "slideshow": {
     "slide_type": "-"
    }
   },
   "outputs": [],
   "source": [
    "from collections import ChainMap\n",
    "def make_a_class(name, value_dict, method_dict):\n",
    "    cls = type(name, (), dict(ChainMap(value_dict, method_dict)))\n",
    "    return cls"
   ]
  },
  {
   "cell_type": "code",
   "execution_count": 205,
   "id": "7746691f",
   "metadata": {
    "slideshow": {
     "slide_type": "slide"
    }
   },
   "outputs": [
    {
     "name": "stdout",
     "output_type": "stream",
     "text": [
      "Class <class '__main__.ByHand'>\n",
      "Class value a 3\n",
      "Class function The parameters were None and fred\n"
     ]
    }
   ],
   "source": [
    "C = make_a_class('ByHand', {'a': 3}, {'f': function_f})\n",
    "print(f'Class {C!r}')\n",
    "print(f'Class value a {C.a!r}')\n",
    "print(f'Class function {C.f(None, \"fred\")}')"
   ]
  },
  {
   "cell_type": "markdown",
   "id": "b5fc7c14",
   "metadata": {
    "slideshow": {
     "slide_type": "slide"
    }
   },
   "source": [
    "We can create an instance, just as we might expect"
   ]
  },
  {
   "cell_type": "code",
   "execution_count": 206,
   "id": "fb6e8cdb",
   "metadata": {},
   "outputs": [
    {
     "name": "stdout",
     "output_type": "stream",
     "text": [
      "Instance <__main__.ByHand object at 0x10a037b50>\n",
      "Instance vaue a 3\n",
      "Instance function The parameters were <__main__.ByHand object at 0x10a037b50> and fred\n"
     ]
    }
   ],
   "source": [
    "o = C()\n",
    "print(f'Instance {o!r}')\n",
    "print(f'Instance vaue a {o.a!r}')\n",
    "print(f'Instance function {o.f(\"fred\")}')"
   ]
  },
  {
   "cell_type": "markdown",
   "id": "d5e98d7e",
   "metadata": {
    "slideshow": {
     "slide_type": "slide"
    }
   },
   "source": [
    "### Can we construct an instance by hand?"
   ]
  },
  {
   "cell_type": "markdown",
   "id": "072f4fa3",
   "metadata": {
    "slideshow": {
     "slide_type": "slide"
    }
   },
   "source": [
    "Can we create an empty object and add things to it?"
   ]
  },
  {
   "cell_type": "markdown",
   "id": "e09f4609",
   "metadata": {
    "slideshow": {
     "slide_type": "slide"
    }
   },
   "source": [
    "Our first guess might be to create an instance of the base class, `Object`"
   ]
  },
  {
   "cell_type": "code",
   "execution_count": 207,
   "id": "bf2c4fd1",
   "metadata": {
    "slideshow": {
     "slide_type": "-"
    }
   },
   "outputs": [],
   "source": [
    "o = object()"
   ]
  },
  {
   "cell_type": "markdown",
   "id": "3e6b3193",
   "metadata": {
    "slideshow": {
     "slide_type": "slide"
    }
   },
   "source": [
    "but unfortunately, its not possible to add new values to instances of `Object`"
   ]
  },
  {
   "cell_type": "code",
   "execution_count": 208,
   "id": "e7f4baf1",
   "metadata": {},
   "outputs": [
    {
     "name": "stdout",
     "output_type": "stream",
     "text": [
      "<class 'AttributeError'>: 'object' object has no attribute 'a'\n"
     ]
    }
   ],
   "source": [
    "try:\n",
    "    o.a = 1\n",
    "except Exception as exc:\n",
    "    print(f'{exc.__class__}: {exc}')"
   ]
  },
  {
   "cell_type": "markdown",
   "id": "646cd465",
   "metadata": {
    "slideshow": {
     "slide_type": "slide"
    }
   },
   "source": [
    "So we still have to use `type` to get an empty mutable object"
   ]
  },
  {
   "cell_type": "code",
   "execution_count": 209,
   "id": "602e8864",
   "metadata": {},
   "outputs": [
    {
     "name": "stdout",
     "output_type": "stream",
     "text": [
      "<class '__main__.EmptyClass'>\n"
     ]
    }
   ],
   "source": [
    "EmptyClass = type('EmptyClass', (), {})\n",
    "eo = EmptyClass()\n",
    "print(type(eo))"
   ]
  },
  {
   "cell_type": "markdown",
   "id": "2d8ec86a",
   "metadata": {
    "slideshow": {
     "slide_type": "slide"
    }
   },
   "source": [
    "And we know we can do"
   ]
  },
  {
   "cell_type": "code",
   "execution_count": 210,
   "id": "161897d4",
   "metadata": {},
   "outputs": [
    {
     "name": "stdout",
     "output_type": "stream",
     "text": [
      "1\n"
     ]
    }
   ],
   "source": [
    "eo.a = 1\n",
    "print(eo.a)"
   ]
  },
  {
   "cell_type": "code",
   "execution_count": 211,
   "id": "65a18519",
   "metadata": {},
   "outputs": [
    {
     "name": "stdout",
     "output_type": "stream",
     "text": [
      "2\n"
     ]
    }
   ],
   "source": [
    "eo.a = eo.a + 1\n",
    "print(eo.a)"
   ]
  },
  {
   "cell_type": "markdown",
   "id": "d8da873d",
   "metadata": {
    "slideshow": {
     "slide_type": "slide"
    }
   },
   "source": [
    "Can we add a function *to the object* and have it be a method?"
   ]
  },
  {
   "cell_type": "code",
   "execution_count": 212,
   "id": "ddf18d69",
   "metadata": {},
   "outputs": [
    {
     "name": "stdout",
     "output_type": "stream",
     "text": [
      "<class 'TypeError'>: maybe_a_method() missing 1 required positional argument: 'x'\n"
     ]
    }
   ],
   "source": [
    "def maybe_a_method(self, x):\n",
    "    print(f'Maybe a method on {self} and {x}')\n",
    "    \n",
    "eo.f = maybe_a_method\n",
    "try:\n",
    "    print(eo.f(1))\n",
    "except Exception as exc:\n",
    "    print(f'{exc.__class__}: {exc}')"
   ]
  },
  {
   "cell_type": "markdown",
   "id": "5b02814c",
   "metadata": {
    "slideshow": {
     "slide_type": "slide"
    }
   },
   "source": [
    "Unfortunately, adding a function as a value on an instance doesn't make a method"
   ]
  },
  {
   "cell_type": "code",
   "execution_count": 213,
   "id": "00da5567",
   "metadata": {},
   "outputs": [
    {
     "name": "stdout",
     "output_type": "stream",
     "text": [
      "<class 'function'>\n"
     ]
    }
   ],
   "source": [
    "print(type(eo.f))"
   ]
  },
  {
   "cell_type": "markdown",
   "id": "2d473ecb",
   "metadata": {
    "slideshow": {
     "slide_type": "slide"
    }
   },
   "source": [
    "Normally, when we ask an instance for a method (`eo.f`), it gets looked up in the instance, isn't found there,\n",
    "and is looked up in the class, which says\n",
    "\"I know what you're doing, that's a function you're looking up on me, so you must want a method back\""
   ]
  },
  {
   "cell_type": "code",
   "execution_count": 214,
   "id": "aa326772",
   "metadata": {
    "slideshow": {
     "slide_type": "slide"
    }
   },
   "outputs": [
    {
     "name": "stdout",
     "output_type": "stream",
     "text": [
      "<class 'function'>\n",
      "<class 'function'>\n",
      "<class 'method'>\n",
      "Aha!\n"
     ]
    }
   ],
   "source": [
    "class NoMethods: pass\n",
    "def just_a_function(self): return 'Aha!'\n",
    "NoMethods.f = just_a_function\n",
    "nm = NoMethods()\n",
    "\n",
    "print(type(just_a_function))\n",
    "print(type(NoMethods.f))\n",
    "print(type(nm.f))\n",
    "print(nm.f())"
   ]
  },
  {
   "cell_type": "markdown",
   "id": "831f5c5d",
   "metadata": {
    "slideshow": {
     "slide_type": "slide"
    }
   },
   "source": [
    "But our empty object is an instance of an empty class, so that won't work.\n",
    "\n",
    "Luckily there is a way:"
   ]
  },
  {
   "cell_type": "code",
   "execution_count": 215,
   "id": "59504902",
   "metadata": {},
   "outputs": [
    {
     "name": "stdout",
     "output_type": "stream",
     "text": [
      "<class 'method'>\n",
      "Aha!\n"
     ]
    }
   ],
   "source": [
    "eo.f = just_a_function.__get__(eo, EmptyClass)\n",
    "print(type(eo.f))\n",
    "print(eo.f())"
   ]
  },
  {
   "cell_type": "markdown",
   "id": "74434cde",
   "metadata": {
    "slideshow": {
     "slide_type": "slide"
    }
   },
   "source": [
    "I don't propose to explain that (but am grateful to https://stackoverflow.com/a/46757134 for the example!).\n",
    "\n",
    "If you want to learn more, then this is using the power of *descriptors*, which are at the heart of Python's attribute access\n",
    "\n",
    "See the HOWTO at https://docs.python.org/3/howto/descriptor.html"
   ]
  },
  {
   "cell_type": "markdown",
   "id": "7f59f0eb",
   "metadata": {
    "slideshow": {
     "slide_type": "slide"
    }
   },
   "source": [
    "There is also a more \"understandable\" way to do this.\n",
    "\n",
    "We can create a `method` from our function"
   ]
  },
  {
   "cell_type": "code",
   "execution_count": 216,
   "id": "7b71a901",
   "metadata": {},
   "outputs": [
    {
     "name": "stdout",
     "output_type": "stream",
     "text": [
      "<class 'method'>\n",
      "Aha!\n"
     ]
    }
   ],
   "source": [
    "import types\n",
    "eo.f = types.MethodType(just_a_function, eo)\n",
    "print(type(eo.f))\n",
    "print(eo.f())"
   ]
  },
  {
   "cell_type": "markdown",
   "id": "dc091fe2",
   "metadata": {
    "slideshow": {
     "slide_type": "slide"
    }
   },
   "source": [
    "And we can create a function to wrap this nicely"
   ]
  },
  {
   "cell_type": "code",
   "execution_count": 217,
   "id": "8307dfeb",
   "metadata": {
    "slideshow": {
     "slide_type": "-"
    }
   },
   "outputs": [],
   "source": [
    "def pretend_instance(class_name, variable_dict, function_list):\n",
    "    eo_class = type(class_name, (), variable_dict)\n",
    "    eo = eo_class()\n",
    "    for f in function_list:\n",
    "        setattr(eo, f.__name__, types.MethodType(f, eo))\n",
    "    return eo"
   ]
  },
  {
   "cell_type": "code",
   "execution_count": 218,
   "id": "43fdac0b",
   "metadata": {
    "slideshow": {
     "slide_type": "slide"
    }
   },
   "outputs": [
    {
     "name": "stdout",
     "output_type": "stream",
     "text": [
      "<class '__main__.ClassName'>\n",
      "3\n",
      "Aha!\n"
     ]
    }
   ],
   "source": [
    "x = pretend_instance('ClassName', {'var': 3}, [just_a_function])\n",
    "print(type(x))\n",
    "print(x.var)\n",
    "print(x.just_a_function())"
   ]
  },
  {
   "cell_type": "markdown",
   "id": "3749d751",
   "metadata": {
    "slideshow": {
     "slide_type": "slide"
    }
   },
   "source": [
    "### Can we create a function without using `def`?"
   ]
  },
  {
   "cell_type": "markdown",
   "id": "cce5ae26",
   "metadata": {
    "slideshow": {
     "slide_type": "slide"
    }
   },
   "source": [
    "Well, there is lambda"
   ]
  },
  {
   "cell_type": "code",
   "execution_count": 219,
   "id": "f7f55f13",
   "metadata": {},
   "outputs": [
    {
     "data": {
      "text/plain": [
       "3"
      ]
     },
     "execution_count": 219,
     "metadata": {},
     "output_type": "execute_result"
    }
   ],
   "source": [
    "lamb = lambda x: x + 1\n",
    "\n",
    "lamb(2)"
   ]
  },
  {
   "cell_type": "markdown",
   "id": "42d5af04",
   "metadata": {
    "slideshow": {
     "slide_type": "slide"
    }
   },
   "source": [
    "although\n",
    "\n",
    "1. That's another keyword\n",
    "2. It's very limited in what it can do\n",
    "\n",
    "> An anonymous inline function consisting of a single expression which is evaluated when the function is called"
   ]
  },
  {
   "cell_type": "markdown",
   "id": "fa5ad02e",
   "metadata": {
    "slideshow": {
     "slide_type": "slide"
    }
   },
   "source": [
    "There is also `types.FunctionType`, which is similar in idea to our use of `type` to create classes.\n",
    "\n",
    "(unfortunately, its signature is implementation specific and may even change between Python versions)"
   ]
  },
  {
   "cell_type": "markdown",
   "id": "f8cbfadc",
   "metadata": {
    "slideshow": {
     "slide_type": "slide"
    }
   },
   "source": [
    "```python\n",
    ">>> help(types.FunctionType)\n",
    "Help on class function in module builtins:\n",
    "\n",
    "class function(object)\n",
    " |  function(code, globals, name=None, argdefs=None,\n",
    " |           closure=None)\n",
    " |\n",
    " |  Create a function object.\n",
    " |\n",
    " |  code\n",
    " |    a code object\n",
    " |  globals\n",
    " |    the globals dictionary\n",
    " ...\n",
    " ```"
   ]
  },
  {
   "cell_type": "markdown",
   "id": "f940a285",
   "metadata": {
    "slideshow": {
     "slide_type": "slide"
    }
   },
   "source": [
    "We can get a code object from an existing function"
   ]
  },
  {
   "cell_type": "code",
   "execution_count": 220,
   "id": "d302c116",
   "metadata": {},
   "outputs": [
    {
     "name": "stdout",
     "output_type": "stream",
     "text": [
      "<code object <lambda> at 0x10a05d7c0, file \"/var/folders/_z/6hyb5fwx3rx565ssb7ggxl680000gn/T/ipykernel_26467/2561191998.py\", line 1>\n"
     ]
    }
   ],
   "source": [
    "print(lamb.__code__)"
   ]
  },
  {
   "cell_type": "code",
   "execution_count": 221,
   "id": "bbe3392b",
   "metadata": {},
   "outputs": [
    {
     "name": "stdout",
     "output_type": "stream",
     "text": [
      "2\n"
     ]
    }
   ],
   "source": [
    "import types\n",
    "lambish = types.FunctionType(lamb.__code__, globals())\n",
    "print(lambish(1))"
   ]
  },
  {
   "cell_type": "markdown",
   "id": "0f4ccda4",
   "metadata": {
    "slideshow": {
     "slide_type": "slide"
    }
   },
   "source": [
    "or we can create one with `compile`"
   ]
  },
  {
   "cell_type": "code",
   "execution_count": 222,
   "id": "fba5f72a",
   "metadata": {},
   "outputs": [
    {
     "name": "stdout",
     "output_type": "stream",
     "text": [
      "4\n",
      "None\n"
     ]
    }
   ],
   "source": [
    "code = compile('print(4)', 'no-file', 'exec')\n",
    "compiled_fn = types.FunctionType(code, globals())\n",
    "print(compiled_fn())"
   ]
  },
  {
   "cell_type": "markdown",
   "id": "956edfc7",
   "metadata": {
    "slideshow": {
     "slide_type": "slide"
    }
   },
   "source": [
    "But how did `lambish` know about its argument?"
   ]
  },
  {
   "cell_type": "code",
   "execution_count": 223,
   "id": "5531aa32",
   "metadata": {
    "slideshow": {
     "slide_type": "slide"
    }
   },
   "outputs": [
    {
     "name": "stdout",
     "output_type": "stream",
     "text": [
      "['__class__', '__delattr__', '__dir__', '__doc__', '__eq__', '__format__', '__ge__', '__getattribute__', '__gt__', '__hash__', '__init__', '__init_subclass__', '__le__', '__lt__', '__ne__', '__new__', '__reduce__', '__reduce_ex__', '__repr__', '__setattr__', '__sizeof__', '__str__', '__subclasshook__', 'co_argcount', 'co_cellvars', 'co_code', 'co_consts', 'co_filename', 'co_firstlineno', 'co_flags', 'co_freevars', 'co_kwonlyargcount', 'co_lnotab', 'co_name', 'co_names', 'co_nlocals', 'co_posonlyargcount', 'co_stacksize', 'co_varnames', 'replace']\n"
     ]
    }
   ],
   "source": [
    "print(dir(lamb.__code__))"
   ]
  },
  {
   "cell_type": "markdown",
   "id": "0725c218",
   "metadata": {},
   "source": [
    "The documentation for the `inspect` module tells us that `co_argcount` is the number of arguments, and `co_varnames` is a tuple of the names of the arguments and then the names of the local variables"
   ]
  },
  {
   "cell_type": "code",
   "execution_count": 224,
   "id": "dfb2c949",
   "metadata": {
    "slideshow": {
     "slide_type": "slide"
    }
   },
   "outputs": [
    {
     "name": "stdout",
     "output_type": "stream",
     "text": [
      "1\n",
      "('x',)\n"
     ]
    }
   ],
   "source": [
    "print(lamb.__code__.co_argcount)\n",
    "print(lamb.__code__.co_varnames)"
   ]
  },
  {
   "cell_type": "markdown",
   "id": "345b801b",
   "metadata": {
    "slideshow": {
     "slide_type": "slide"
    }
   },
   "source": [
    "But that's not mutable"
   ]
  },
  {
   "cell_type": "code",
   "execution_count": 225,
   "id": "1e3556e0",
   "metadata": {},
   "outputs": [
    {
     "name": "stdout",
     "output_type": "stream",
     "text": [
      "<class 'AttributeError'>: readonly attribute\n"
     ]
    }
   ],
   "source": [
    "try:\n",
    "    lamb.__code__.co_varnames = ('x', 'y')\n",
    "except Exception as exc:\n",
    "    print(f'{exc.__class__}: {exc}')"
   ]
  },
  {
   "cell_type": "markdown",
   "id": "8f747001",
   "metadata": {},
   "source": [
    "And at this point, I haven't been able to find how to define the arguments for a `code` value."
   ]
  },
  {
   "cell_type": "markdown",
   "id": "2edb2a37",
   "metadata": {},
   "source": [
    "### Some other minor amusements"
   ]
  },
  {
   "cell_type": "markdown",
   "id": "c5352120",
   "metadata": {
    "slideshow": {
     "slide_type": "slide"
    }
   },
   "source": [
    "#### Looking at bytecode\n",
    "\n",
    "We can look at the bytecode for a callable (https://docs.python.org/3/library/dis.html)"
   ]
  },
  {
   "cell_type": "code",
   "execution_count": 226,
   "id": "e2d48c02",
   "metadata": {},
   "outputs": [
    {
     "name": "stdout",
     "output_type": "stream",
     "text": [
      "  1           0 LOAD_FAST                0 (x)\n",
      "              2 LOAD_CONST               1 (1)\n",
      "              4 BINARY_ADD\n",
      "              6 RETURN_VALUE\n"
     ]
    }
   ],
   "source": [
    "import dis\n",
    "dis.dis(lambish)"
   ]
  },
  {
   "cell_type": "markdown",
   "id": "d2598bdb",
   "metadata": {},
   "source": [
    "That should be fairly recognisable as our lambda function."
   ]
  },
  {
   "cell_type": "markdown",
   "id": "eccac28b",
   "metadata": {
    "slideshow": {
     "slide_type": "slide"
    }
   },
   "source": [
    "Unsurprisingly, what that did was look up the `__code__` value on `lambish` for us"
   ]
  },
  {
   "cell_type": "code",
   "execution_count": 227,
   "id": "5cb758b5",
   "metadata": {},
   "outputs": [
    {
     "name": "stdout",
     "output_type": "stream",
     "text": [
      "  1           0 LOAD_FAST                0 (x)\n",
      "              2 LOAD_CONST               1 (1)\n",
      "              4 BINARY_ADD\n",
      "              6 RETURN_VALUE\n"
     ]
    }
   ],
   "source": [
    "dis.dis(lamb.__code__)"
   ]
  },
  {
   "cell_type": "markdown",
   "id": "dc69aea9",
   "metadata": {
    "slideshow": {
     "slide_type": "slide"
    }
   },
   "source": [
    "#### The `inspect` module\n",
    "\n",
    "The `inspect` module (https://docs.python.org/3/library/inspect.html) has many useful ways to introspect Python code. Here are a few"
   ]
  },
  {
   "cell_type": "markdown",
   "id": "22d8bca5",
   "metadata": {
    "slideshow": {
     "slide_type": "slide"
    }
   },
   "source": [
    "Loooking up the signature for a callable"
   ]
  },
  {
   "cell_type": "code",
   "execution_count": 228,
   "id": "249e41ec",
   "metadata": {
    "slideshow": {
     "slide_type": "-"
    }
   },
   "outputs": [
    {
     "name": "stdout",
     "output_type": "stream",
     "text": [
      "(x)\n"
     ]
    }
   ],
   "source": [
    "import inspect\n",
    "print(inspect.signature(lambish))"
   ]
  },
  {
   "cell_type": "markdown",
   "id": "aa6c69db",
   "metadata": {
    "slideshow": {
     "slide_type": "slide"
    }
   },
   "source": [
    "Getting the source code for an object"
   ]
  },
  {
   "cell_type": "code",
   "execution_count": 241,
   "id": "24143336",
   "metadata": {},
   "outputs": [
    {
     "name": "stdout",
     "output_type": "stream",
     "text": [
      "    def f(self, p):\n",
      "        \"\"\"A function that takes a single argument\"\"\"\n",
      "        return f'The parameters were {self} and {p}'\n",
      "\n"
     ]
    }
   ],
   "source": [
    "print(inspect.getsource(Example.f))"
   ]
  },
  {
   "cell_type": "markdown",
   "id": "6c13f74f",
   "metadata": {
    "slideshow": {
     "slide_type": "slide"
    }
   },
   "source": [
    "Asking about the general kind of an object"
   ]
  },
  {
   "cell_type": "code",
   "execution_count": 244,
   "id": "ec108205",
   "metadata": {},
   "outputs": [
    {
     "name": "stdout",
     "output_type": "stream",
     "text": [
      "True\n",
      "False\n",
      "True\n",
      "True\n"
     ]
    }
   ],
   "source": [
    "print(inspect.isfunction(just_a_function))\n",
    "print(inspect.ismethod(just_a_function))\n",
    "print(inspect.ismethod(e.f))\n",
    "print(inspect.isclass(make_a_class('ClassThing', {'a': 3}, {})))"
   ]
  },
  {
   "cell_type": "markdown",
   "id": "ade6fca3",
   "metadata": {
    "slideshow": {
     "slide_type": "slide"
    }
   },
   "source": [
    "### Some useful links\n",
    "\n",
    "If you're interested in how Python works, then the book [Fluent Python](https://smile.amazon.co.uk/Fluent-Python-Luciano-Ramalho/dp/1491946008) by Luciano Ramalho is excellent. \n",
    "\n",
    "If you want to dig into how CPython is implemented, then [CPython Internals: Your Guide to the Python 3 Interpreter](https://smile.amazon.co.uk/CPython-Internals-Guide-Python-Interpreter/dp/1775093344) by Anthony Shaw looks excellent (I've still to read it properly).\n",
    "\n",
    "I found the following to be useful while researching this:\n",
    "\n",
    "* https://stackoverflow.com/questions/19476816/creating-an-empty-object-in-python\n",
    "  has interesting takes on creating an empty object\n",
    "* https://stackoverflow.com/questions/13184281/python-dynamic-function-creation-with-custom-names\n",
    "  taks about ways to use inline `def` to construct functions, and there's a link to\n",
    "  https://smarie.github.io/python-makefun/, which seems to be a comprehensive solution for constructing\n",
    "  functions at runtime (I've not used it)\n",
    "* https://stackoverflow.com/questions/394770/override-a-method-at-instance-level has a discussion on why\n",
    "  assigning a function to an instance doesn't set it on the class\n",
    "  \n",
    "If you're interested in `descriptors`, Raymond Hettinger's [Descriptor HowTo Guide](https://docs.python.org/3/howto/descriptor.html) is excellent (I tend to recommend everything by him).\n",
    "\n",
    "In the Python documentation, we've referenced, at least in passing:\n",
    "  \n",
    "* https://docs.python.org/3/library/types.html describes the `types` module, \"Dynamic type creation and names for built-in types\"\n",
    "* https://docs.python.org/3/library/functions.html#object describes the `object` callable\n",
    "* https://docs.python.org/3/library/functions.html#type describes the `type` callable\n",
    "* https://docs.python.org/3/library/functions.html#compile describes the `compile` function, to produce byte code from source code\n",
    "* https://docs.python.org/3/library/inspect.html describes the `inspect` module, which is worth a read just to see what you can find out about objects\n",
    "* https://docs.python.org/3/library/dis.html describes the `dis` module, and how to disassemble callables - honestly,\n",
    "  something you shouldn't *need* to do, but it can be interesting"
   ]
  },
  {
   "cell_type": "markdown",
   "id": "2dffb529",
   "metadata": {
    "slideshow": {
     "slide_type": "slide"
    }
   },
   "source": [
    "### Fin\n",
    "\n",
    "A talk by Tibs (they/he), for [CamPUG](https://www.meetup.com/CamPUG/), on [Tuesday 5th October 2021](https://www.meetup.com/CamPUG/events/280947413/)\n",
    "\n",
    "Sources are at https://github.com/tibs/doing-without-class\n",
    "\n",
    "Presented using [Jupyter Notebook](https://jupyter-notebook.readthedocs.io/en/stable/)\n",
    "\n",
    "Licensed under a [Creative Commons Attribution-ShareAlike 4.0 International License](http://creativecommons.org/licenses/by-sa/4.0/)"
   ]
  }
 ],
 "metadata": {
  "celltoolbar": "Slideshow",
  "kernelspec": {
   "display_name": "Python 3 (ipykernel)",
   "language": "python",
   "name": "python3"
  },
  "language_info": {
   "codemirror_mode": {
    "name": "ipython",
    "version": 3
   },
   "file_extension": ".py",
   "mimetype": "text/x-python",
   "name": "python",
   "nbconvert_exporter": "python",
   "pygments_lexer": "ipython3",
   "version": "3.9.1"
  }
 },
 "nbformat": 4,
 "nbformat_minor": 5
}
