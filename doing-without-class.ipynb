{
 "cells": [
  {
   "cell_type": "code",
   "execution_count": 5,
   "id": "96081991",
   "metadata": {},
   "outputs": [],
   "source": [
    "class Example:\n",
    "    a = 3\n",
    "    def f(self, p):\n",
    "        \"\"\"A function that takes a single argument\"\"\"\n",
    "        return f'The parameter was {p}'"
   ]
  },
  {
   "cell_type": "code",
   "execution_count": 8,
   "id": "5acee455",
   "metadata": {},
   "outputs": [
    {
     "name": "stdout",
     "output_type": "stream",
     "text": [
      "Instance <__main__.Example object at 0x1031aa550>\n",
      "Method   <bound method Example.f of <__main__.Example object at 0x1031aa550>>\n",
      "Calling the method with 3 returns 'The parameter was 3'\n"
     ]
    }
   ],
   "source": [
    "e = Example()\n",
    "print(f'Instance {e}')\n",
    "print(f'Method   {e.f}')\n",
    "print(f'Calling the method with 3 returns {repr(e.f(3))}')"
   ]
  },
  {
   "cell_type": "code",
   "execution_count": 11,
   "id": "4be202de",
   "metadata": {},
   "outputs": [
    {
     "name": "stdout",
     "output_type": "stream",
     "text": [
      "['__class__', '__delattr__', '__dict__', '__dir__', '__doc__', '__eq__', '__format__', '__ge__', '__getattribute__', '__gt__', '__hash__', '__init__', '__init_subclass__', '__le__', '__lt__', '__module__', '__ne__', '__new__', '__reduce__', '__reduce_ex__', '__repr__', '__setattr__', '__sizeof__', '__str__', '__subclasshook__', '__weakref__', 'a', 'f']\n"
     ]
    }
   ],
   "source": [
    "print(dir(Example))"
   ]
  },
  {
   "cell_type": "code",
   "execution_count": 12,
   "id": "2054d6d5",
   "metadata": {},
   "outputs": [
    {
     "name": "stdout",
     "output_type": "stream",
     "text": [
      "['__class__', '__delattr__', '__dict__', '__dir__', '__doc__', '__eq__', '__format__', '__ge__', '__getattribute__', '__gt__', '__hash__', '__init__', '__init_subclass__', '__le__', '__lt__', '__module__', '__ne__', '__new__', '__reduce__', '__reduce_ex__', '__repr__', '__setattr__', '__sizeof__', '__str__', '__subclasshook__', '__weakref__', 'a', 'f']\n"
     ]
    }
   ],
   "source": [
    "print(dir(e))"
   ]
  },
  {
   "cell_type": "code",
   "execution_count": 13,
   "id": "6bc2fa1e",
   "metadata": {},
   "outputs": [
    {
     "data": {
      "text/plain": [
       "True"
      ]
     },
     "execution_count": 13,
     "metadata": {},
     "output_type": "execute_result"
    }
   ],
   "source": [
    "dir(Example) == dir(e)"
   ]
  },
  {
   "cell_type": "code",
   "execution_count": 14,
   "id": "add4280f",
   "metadata": {},
   "outputs": [
    {
     "name": "stdout",
     "output_type": "stream",
     "text": [
      "3\n",
      "4\n"
     ]
    }
   ],
   "source": [
    "print(e.a)\n",
    "e.a += 1\n",
    "print(e.a)"
   ]
  },
  {
   "cell_type": "code",
   "execution_count": 16,
   "id": "8b7fd94a",
   "metadata": {},
   "outputs": [
    {
     "name": "stdout",
     "output_type": "stream",
     "text": [
      "4\n"
     ]
    }
   ],
   "source": [
    "e.b = 4\n",
    "print(e.b)"
   ]
  },
  {
   "cell_type": "code",
   "execution_count": 17,
   "id": "4fa0c464",
   "metadata": {},
   "outputs": [
    {
     "name": "stdout",
     "output_type": "stream",
     "text": [
      "2\n",
      "xx\n"
     ]
    }
   ],
   "source": [
    "def double(a):\n",
    "    return a + a\n",
    "\n",
    "print(double(1))\n",
    "print(double('x'))"
   ]
  },
  {
   "cell_type": "code",
   "execution_count": 18,
   "id": "ba0ece2c",
   "metadata": {},
   "outputs": [],
   "source": [
    "by_hand = type('ByHand', (), {'f': Example.f, 'a': 3})"
   ]
  },
  {
   "cell_type": "code",
   "execution_count": 19,
   "id": "e2df8fb3",
   "metadata": {},
   "outputs": [
    {
     "name": "stdout",
     "output_type": "stream",
     "text": [
      "<class 'type'>\n"
     ]
    }
   ],
   "source": [
    "print(type(by_hand))"
   ]
  },
  {
   "cell_type": "code",
   "execution_count": 20,
   "id": "1d8e7017",
   "metadata": {},
   "outputs": [
    {
     "name": "stdout",
     "output_type": "stream",
     "text": [
      "<__main__.ByHand object at 0x1030f3c40>\n"
     ]
    }
   ],
   "source": [
    "bh = by_hand()\n",
    "print(bh)"
   ]
  },
  {
   "cell_type": "code",
   "execution_count": 21,
   "id": "a434ba8d",
   "metadata": {},
   "outputs": [
    {
     "name": "stdout",
     "output_type": "stream",
     "text": [
      "The parameter was fred\n",
      "3\n"
     ]
    }
   ],
   "source": [
    "print(bh.f('fred'))\n",
    "print(bh.a)"
   ]
  },
  {
   "cell_type": "code",
   "execution_count": 22,
   "id": "aa3adf66",
   "metadata": {},
   "outputs": [
    {
     "name": "stdout",
     "output_type": "stream",
     "text": [
      "3\n"
     ]
    }
   ],
   "source": [
    "bh.b = 3\n",
    "print(bh.b)"
   ]
  },
  {
   "cell_type": "code",
   "execution_count": 23,
   "id": "cec19229",
   "metadata": {},
   "outputs": [
    {
     "name": "stdout",
     "output_type": "stream",
     "text": [
      "['__class__', '__delattr__', '__dir__', '__doc__', '__eq__', '__format__', '__ge__', '__getattribute__', '__gt__', '__hash__', '__init__', '__init_subclass__', '__le__', '__lt__', '__ne__', '__new__', '__reduce__', '__reduce_ex__', '__repr__', '__setattr__', '__sizeof__', '__str__', '__subclasshook__']\n"
     ]
    }
   ],
   "source": [
    "o = object()\n",
    "print(dir(o))"
   ]
  },
  {
   "cell_type": "code",
   "execution_count": 24,
   "id": "394f0c82",
   "metadata": {},
   "outputs": [
    {
     "ename": "AttributeError",
     "evalue": "'object' object has no attribute 'a'",
     "output_type": "error",
     "traceback": [
      "\u001b[0;31m---------------------------------------------------------------------------\u001b[0m",
      "\u001b[0;31mAttributeError\u001b[0m                            Traceback (most recent call last)",
      "\u001b[0;32m/var/folders/3c/74720f_907b07qy3vwcklsg00000gp/T/ipykernel_24937/3212368273.py\u001b[0m in \u001b[0;36m<module>\u001b[0;34m\u001b[0m\n\u001b[0;32m----> 1\u001b[0;31m \u001b[0mo\u001b[0m\u001b[0;34m.\u001b[0m\u001b[0ma\u001b[0m \u001b[0;34m=\u001b[0m \u001b[0;36m1\u001b[0m\u001b[0;34m\u001b[0m\u001b[0;34m\u001b[0m\u001b[0m\n\u001b[0m",
      "\u001b[0;31mAttributeError\u001b[0m: 'object' object has no attribute 'a'"
     ]
    }
   ],
   "source": [
    "o.a = 1"
   ]
  },
  {
   "cell_type": "code",
   "execution_count": 43,
   "id": "faa6eeac",
   "metadata": {},
   "outputs": [
    {
     "name": "stdout",
     "output_type": "stream",
     "text": [
      "3\n"
     ]
    }
   ],
   "source": [
    "def by_hand_hand():\n",
    "    return by_hand()\n",
    "\n",
    "bh2 = by_hand_hand()\n",
    "print(bh2.a)"
   ]
  },
  {
   "cell_type": "code",
   "execution_count": 44,
   "id": "c39a35dc",
   "metadata": {},
   "outputs": [
    {
     "name": "stdout",
     "output_type": "stream",
     "text": [
      "['__annotations__', '__call__', '__class__', '__closure__', '__code__', '__defaults__', '__delattr__', '__dict__', '__dir__', '__doc__', '__eq__', '__format__', '__ge__', '__get__', '__getattribute__', '__globals__', '__gt__', '__hash__', '__init__', '__init_subclass__', '__kwdefaults__', '__le__', '__lt__', '__module__', '__name__', '__ne__', '__new__', '__qualname__', '__reduce__', '__reduce_ex__', '__repr__', '__setattr__', '__sizeof__', '__str__', '__subclasshook__']\n"
     ]
    }
   ],
   "source": [
    "print(dir(by_hand_hand))"
   ]
  },
  {
   "cell_type": "code",
   "execution_count": 50,
   "id": "fb6e8cdb",
   "metadata": {},
   "outputs": [
    {
     "name": "stdout",
     "output_type": "stream",
     "text": [
      "Class <class '__main__.ByHand'>\n",
      "Class value a 3\n",
      "Class function f called with None and 'fred'\n",
      "Instance <__main__.ByHand object at 0x1031ddb50>\n",
      "Instance vaue a 3\n",
      "Instance function f called with <__main__.ByHand object at 0x1031ddb50> and 'fred'\n"
     ]
    }
   ],
   "source": [
    "def class_by_hand():\n",
    "    def f(self, arg):\n",
    "        return f'f called with {self!r} and {arg!r}'\n",
    "    cls = type('ByHand', (), {})\n",
    "    cls.a = 3\n",
    "    cls.f = f\n",
    "    return cls\n",
    "\n",
    "c = class_by_hand()\n",
    "print(f'Class {c!r}')\n",
    "print(f'Class value a {c.a!r}')\n",
    "print(f'Class function {c.f(None, \"fred\")}')\n",
    "o = c()\n",
    "print(f'Instance {o!r}')\n",
    "print(f'Instance vaue a {o.a!r}')\n",
    "print(f'Instance function {o.f(\"fred\")}')"
   ]
  },
  {
   "cell_type": "code",
   "execution_count": 51,
   "id": "a5acfec9",
   "metadata": {},
   "outputs": [],
   "source": [
    "class_by_hand.b = 3"
   ]
  },
  {
   "cell_type": "code",
   "execution_count": 52,
   "id": "d235e100",
   "metadata": {},
   "outputs": [
    {
     "name": "stdout",
     "output_type": "stream",
     "text": [
      "3\n"
     ]
    }
   ],
   "source": [
    "print(class_by_hand.b)"
   ]
  },
  {
   "cell_type": "code",
   "execution_count": 53,
   "id": "edad16b1",
   "metadata": {},
   "outputs": [
    {
     "data": {
      "text/plain": [
       "function"
      ]
     },
     "execution_count": 53,
     "metadata": {},
     "output_type": "execute_result"
    }
   ],
   "source": [
    "type(class_by_hand)"
   ]
  },
  {
   "cell_type": "code",
   "execution_count": 54,
   "id": "18a5d2fc",
   "metadata": {},
   "outputs": [
    {
     "name": "stdout",
     "output_type": "stream",
     "text": [
      "Help on function class_by_hand in module __main__:\n",
      "\n",
      "class_by_hand()\n",
      "\n"
     ]
    }
   ],
   "source": [
    "help(class_by_hand)"
   ]
  },
  {
   "cell_type": "code",
   "execution_count": 56,
   "id": "33ed4b4a",
   "metadata": {},
   "outputs": [
    {
     "name": "stdout",
     "output_type": "stream",
     "text": [
      "Help on function class_by_hand in module __main__:\n",
      "\n",
      "class_by_hand()\n",
      "    A function that returns a class it made\n",
      "\n"
     ]
    }
   ],
   "source": [
    "class_by_hand.__doc__ = 'A function that returns a class it made'\n",
    "help(class_by_hand)"
   ]
  },
  {
   "cell_type": "code",
   "execution_count": 57,
   "id": "df4b17bd",
   "metadata": {},
   "outputs": [
    {
     "name": "stdout",
     "output_type": "stream",
     "text": [
      "{'b': 3}\n"
     ]
    }
   ],
   "source": [
    "print(class_by_hand.__dict__)"
   ]
  },
  {
   "cell_type": "code",
   "execution_count": 111,
   "id": "3575acec",
   "metadata": {},
   "outputs": [],
   "source": [
    "def fn():\n",
    "    pass"
   ]
  },
  {
   "cell_type": "code",
   "execution_count": 112,
   "id": "c45160df",
   "metadata": {},
   "outputs": [
    {
     "name": "stdout",
     "output_type": "stream",
     "text": [
      "<class 'function'>\n"
     ]
    }
   ],
   "source": [
    "def bare_f(self, arg):\n",
    "    return f'f called with {self!r} and {arg!r}'\n",
    "print(type(bare_f))"
   ]
  },
  {
   "cell_type": "code",
   "execution_count": 113,
   "id": "853bc050",
   "metadata": {},
   "outputs": [
    {
     "name": "stdout",
     "output_type": "stream",
     "text": [
      "Calling f f called with None and 'fred'\n",
      "Value a 3\n"
     ]
    }
   ],
   "source": [
    "fn.f = bare_f\n",
    "fn.a = 3\n",
    "print(f'Calling f {fn.f(None, \"fred\")}')\n",
    "print(f'Value a {fn.a}')"
   ]
  },
  {
   "cell_type": "code",
   "execution_count": 114,
   "id": "2d8ba163",
   "metadata": {},
   "outputs": [
    {
     "data": {
      "text/plain": [
       "\"f called with <function by_hand2 at 0x103198310> and 'fred'\""
      ]
     },
     "execution_count": 114,
     "metadata": {},
     "output_type": "execute_result"
    }
   ],
   "source": [
    "fn.f(by_hand2, 'fred')"
   ]
  },
  {
   "cell_type": "code",
   "execution_count": 115,
   "id": "2ffae707",
   "metadata": {},
   "outputs": [
    {
     "data": {
      "text/plain": [
       "__main__.ByHand"
      ]
     },
     "execution_count": 115,
     "metadata": {},
     "output_type": "execute_result"
    }
   ],
   "source": [
    "class_by_hand.__call__()"
   ]
  },
  {
   "cell_type": "code",
   "execution_count": 116,
   "id": "7f54cd9e",
   "metadata": {},
   "outputs": [],
   "source": [
    "fn.__call__()"
   ]
  },
  {
   "cell_type": "code",
   "execution_count": 117,
   "id": "71ab5adf",
   "metadata": {},
   "outputs": [
    {
     "name": "stdout",
     "output_type": "stream",
     "text": [
      "<code object fn at 0x1031e4be0, file \"/var/folders/3c/74720f_907b07qy3vwcklsg00000gp/T/ipykernel_24937/3060542578.py\", line 1>\n"
     ]
    }
   ],
   "source": [
    "print(fn.__code__)"
   ]
  },
  {
   "cell_type": "code",
   "execution_count": 118,
   "id": "c00f9187",
   "metadata": {},
   "outputs": [
    {
     "name": "stdout",
     "output_type": "stream",
     "text": [
      "  2           0 LOAD_CONST               0 (None)\n",
      "              2 RETURN_VALUE\n"
     ]
    }
   ],
   "source": [
    "import dis\n",
    "dis.dis(fn)"
   ]
  },
  {
   "cell_type": "code",
   "execution_count": 119,
   "id": "04a6554d",
   "metadata": {},
   "outputs": [
    {
     "name": "stdout",
     "output_type": "stream",
     "text": [
      "  2           0 LOAD_CONST               0 (None)\n",
      "              2 RETURN_VALUE\n"
     ]
    }
   ],
   "source": [
    "dis.dis(fn.__code__)"
   ]
  },
  {
   "cell_type": "code",
   "execution_count": 120,
   "id": "2e17d97d",
   "metadata": {},
   "outputs": [
    {
     "name": "stdout",
     "output_type": "stream",
     "text": [
      "  2           0 LOAD_CONST               1 ('f called with ')\n",
      "              2 LOAD_FAST                0 (self)\n",
      "              4 FORMAT_VALUE             2 (repr)\n",
      "              6 LOAD_CONST               2 (' and ')\n",
      "              8 LOAD_FAST                1 (arg)\n",
      "             10 FORMAT_VALUE             2 (repr)\n",
      "             12 BUILD_STRING             4\n",
      "             14 RETURN_VALUE\n"
     ]
    }
   ],
   "source": [
    "dis.dis(bare_f)"
   ]
  },
  {
   "cell_type": "code",
   "execution_count": 121,
   "id": "faf07454",
   "metadata": {},
   "outputs": [
    {
     "name": "stdout",
     "output_type": "stream",
     "text": [
      "['__annotations__', '__call__', '__class__', '__closure__', '__code__', '__defaults__', '__delattr__', '__dict__', '__dir__', '__doc__', '__eq__', '__format__', '__ge__', '__get__', '__getattribute__', '__globals__', '__gt__', '__hash__', '__init__', '__init_subclass__', '__kwdefaults__', '__le__', '__lt__', '__module__', '__name__', '__ne__', '__new__', '__qualname__', '__reduce__', '__reduce_ex__', '__repr__', '__setattr__', '__sizeof__', '__str__', '__subclasshook__', 'a', 'f']\n"
     ]
    }
   ],
   "source": [
    "print(dir(fn))"
   ]
  },
  {
   "cell_type": "code",
   "execution_count": 122,
   "id": "4e8edaa2",
   "metadata": {},
   "outputs": [
    {
     "name": "stdout",
     "output_type": "stream",
     "text": [
      "{'f': <function bare_f at 0x103198f70>, 'a': 3}\n"
     ]
    }
   ],
   "source": [
    "print(fn.__dict__)"
   ]
  },
  {
   "cell_type": "code",
   "execution_count": 123,
   "id": "1477984f",
   "metadata": {},
   "outputs": [
    {
     "name": "stdout",
     "output_type": "stream",
     "text": [
      "<method-wrapper '__call__' of function object at 0x1031ec940>\n"
     ]
    }
   ],
   "source": [
    "print(fn.__call__)"
   ]
  },
  {
   "cell_type": "code",
   "execution_count": 124,
   "id": "743c7fd4",
   "metadata": {},
   "outputs": [
    {
     "name": "stdout",
     "output_type": "stream",
     "text": [
      "None\n"
     ]
    }
   ],
   "source": [
    "print(fn.__call__())"
   ]
  },
  {
   "cell_type": "code",
   "execution_count": 125,
   "id": "22f07839",
   "metadata": {},
   "outputs": [
    {
     "name": "stdout",
     "output_type": "stream",
     "text": [
      "['__annotations__', '__call__', '__class__', '__closure__', '__code__', '__defaults__', '__delattr__', '__dict__', '__dir__', '__doc__', '__eq__', '__format__', '__ge__', '__get__', '__getattribute__', '__globals__', '__gt__', '__hash__', '__init__', '__init_subclass__', '__kwdefaults__', '__le__', '__lt__', '__module__', '__name__', '__ne__', '__new__', '__qualname__', '__reduce__', '__reduce_ex__', '__repr__', '__setattr__', '__sizeof__', '__str__', '__subclasshook__']\n"
     ]
    }
   ],
   "source": [
    "print(dir(fn.f))"
   ]
  },
  {
   "cell_type": "code",
   "execution_count": 126,
   "id": "300db9f4",
   "metadata": {},
   "outputs": [
    {
     "name": "stdout",
     "output_type": "stream",
     "text": [
      "f called with None and 'fred'\n",
      "None\n"
     ]
    }
   ],
   "source": [
    "save = fn.__code__\n",
    "fn.__code__ = bare_f.__code__\n",
    "print(fn(None, 'fred'))\n",
    "fn.__code__ = save\n",
    "print(fn())"
   ]
  },
  {
   "cell_type": "code",
   "execution_count": null,
   "id": "a257c99e",
   "metadata": {},
   "outputs": [],
   "source": []
  }
 ],
 "metadata": {
  "kernelspec": {
   "display_name": "Python 3 (ipykernel)",
   "language": "python",
   "name": "python3"
  },
  "language_info": {
   "codemirror_mode": {
    "name": "ipython",
    "version": 3
   },
   "file_extension": ".py",
   "mimetype": "text/x-python",
   "name": "python",
   "nbconvert_exporter": "python",
   "pygments_lexer": "ipython3",
   "version": "3.9.1"
  }
 },
 "nbformat": 4,
 "nbformat_minor": 5
}
