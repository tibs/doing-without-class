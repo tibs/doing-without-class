{
 "cells": [
  {
   "cell_type": "markdown",
   "id": "f5f63916",
   "metadata": {
    "slideshow": {
     "slide_type": "slide"
    }
   },
   "source": [
    "### Looking at a simple class"
   ]
  },
  {
   "cell_type": "code",
   "execution_count": 1,
   "id": "96081991",
   "metadata": {
    "slideshow": {
     "slide_type": "-"
    }
   },
   "outputs": [],
   "source": [
    "class Example:\n",
    "    \"\"\"A simple example class\"\"\"\n",
    "    a = 3\n",
    "    def f(self, p):\n",
    "        \"\"\"A function that takes a single argument\"\"\"\n",
    "        return f'The parameters were {self} and {p}'"
   ]
  },
  {
   "cell_type": "markdown",
   "id": "8e15328b",
   "metadata": {
    "slideshow": {
     "slide_type": "slide"
    }
   },
   "source": [
    "Which we can use in the expected manner"
   ]
  },
  {
   "cell_type": "code",
   "execution_count": 2,
   "id": "5acee455",
   "metadata": {
    "slideshow": {
     "slide_type": "-"
    }
   },
   "outputs": [
    {
     "name": "stdout",
     "output_type": "stream",
     "text": [
      "Class <class '__main__.Example'>\n",
      "Instance <__main__.Example object at 0x1033ed070>\n",
      "Value    3\n",
      "Method   <bound method Example.f of <__main__.Example object at 0x1033ed070>>\n",
      "Calling the method with 3 'The parameters were <__main__.Example object at 0x1033ed070> and 3'\n"
     ]
    }
   ],
   "source": [
    "e = Example()\n",
    "print(f'Class {Example}')\n",
    "print(f'Instance {e}')\n",
    "print(f'Value    {e.a}')\n",
    "print(f'Method   {e.f}')\n",
    "print(f'Calling the method with 3 {repr(e.f(3))}')"
   ]
  },
  {
   "cell_type": "markdown",
   "id": "1160d59d",
   "metadata": {
    "slideshow": {
     "slide_type": "slide"
    }
   },
   "source": [
    "### Using values\n",
    "\n",
    "We can update the `a` on the class and see it also change on the instance"
   ]
  },
  {
   "cell_type": "code",
   "execution_count": 3,
   "id": "9cd263b0",
   "metadata": {},
   "outputs": [
    {
     "name": "stdout",
     "output_type": "stream",
     "text": [
      "4\n",
      "4\n"
     ]
    }
   ],
   "source": [
    "Example.a = 4\n",
    "print(Example.a)\n",
    "print(e.a)"
   ]
  },
  {
   "cell_type": "markdown",
   "id": "63a7ae6c",
   "metadata": {
    "slideshow": {
     "slide_type": "slide"
    }
   },
   "source": [
    "But if we update the `a` on the instance"
   ]
  },
  {
   "cell_type": "code",
   "execution_count": 4,
   "id": "add4280f",
   "metadata": {},
   "outputs": [
    {
     "name": "stdout",
     "output_type": "stream",
     "text": [
      "4\n",
      "5\n"
     ]
    }
   ],
   "source": [
    "print(e.a)\n",
    "e.a += 1\n",
    "print(e.a)"
   ]
  },
  {
   "cell_type": "markdown",
   "id": "a74ed82f",
   "metadata": {
    "slideshow": {
     "slide_type": "slide"
    }
   },
   "source": [
    "It doesn't change `a` on the class"
   ]
  },
  {
   "cell_type": "code",
   "execution_count": 5,
   "id": "2e66f96a",
   "metadata": {},
   "outputs": [
    {
     "name": "stdout",
     "output_type": "stream",
     "text": [
      "4\n"
     ]
    }
   ],
   "source": [
    "print(Example.a)"
   ]
  },
  {
   "cell_type": "markdown",
   "id": "188e891b",
   "metadata": {
    "slideshow": {
     "slide_type": "slide"
    }
   },
   "source": [
    "And now changing it on the class won't touch the value on the instance"
   ]
  },
  {
   "cell_type": "code",
   "execution_count": 6,
   "id": "6f2b16b3",
   "metadata": {},
   "outputs": [
    {
     "name": "stdout",
     "output_type": "stream",
     "text": [
      "Class    \"a\" 99\n",
      "Instance \"a\" 5\n"
     ]
    }
   ],
   "source": [
    "Example.a = 99\n",
    "print(f'Class    \"a\" {Example.a}')\n",
    "print(f'Instance \"a\" {e.a}')"
   ]
  },
  {
   "cell_type": "markdown",
   "id": "39c0e4bb",
   "metadata": {
    "slideshow": {
     "slide_type": "slide"
    }
   },
   "source": [
    "If we add a new value to the class, the instance will get it"
   ]
  },
  {
   "cell_type": "code",
   "execution_count": 7,
   "id": "70b3728c",
   "metadata": {},
   "outputs": [
    {
     "name": "stdout",
     "output_type": "stream",
     "text": [
      "Class    \"b\" 12\n",
      "Instance \"b\" 12\n"
     ]
    }
   ],
   "source": [
    "Example.b = 12\n",
    "print(f'Class    \"b\" {Example.b}')\n",
    "print(f'Instance \"b\" {e.b}')"
   ]
  },
  {
   "cell_type": "markdown",
   "id": "fbd2177f",
   "metadata": {
    "slideshow": {
     "slide_type": "slide"
    }
   },
   "source": [
    "But not the other way round"
   ]
  },
  {
   "cell_type": "code",
   "execution_count": 8,
   "id": "5dd8c57a",
   "metadata": {},
   "outputs": [
    {
     "name": "stdout",
     "output_type": "stream",
     "text": [
      "Instance has \"c\" True\n",
      "Instance \"c\" -1\n",
      "Class has \"c\" False\n"
     ]
    },
    {
     "ename": "AttributeError",
     "evalue": "type object 'Example' has no attribute 'c'",
     "output_type": "error",
     "traceback": [
      "\u001b[0;31m---------------------------------------------------------------------------\u001b[0m",
      "\u001b[0;31mAttributeError\u001b[0m                            Traceback (most recent call last)",
      "\u001b[0;32m/var/folders/3c/74720f_907b07qy3vwcklsg00000gp/T/ipykernel_84396/545715870.py\u001b[0m in \u001b[0;36m<module>\u001b[0;34m\u001b[0m\n\u001b[1;32m      3\u001b[0m \u001b[0mprint\u001b[0m\u001b[0;34m(\u001b[0m\u001b[0;34mf'Instance \"c\" {e.c}'\u001b[0m\u001b[0;34m)\u001b[0m\u001b[0;34m\u001b[0m\u001b[0;34m\u001b[0m\u001b[0m\n\u001b[1;32m      4\u001b[0m \u001b[0mprint\u001b[0m\u001b[0;34m(\u001b[0m\u001b[0;34mf'Class has \"c\" {hasattr(Example, \"c\")}'\u001b[0m\u001b[0;34m)\u001b[0m\u001b[0;34m\u001b[0m\u001b[0;34m\u001b[0m\u001b[0m\n\u001b[0;32m----> 5\u001b[0;31m \u001b[0mprint\u001b[0m\u001b[0;34m(\u001b[0m\u001b[0;34mf'Class    \"c\" {Example.c}'\u001b[0m\u001b[0;34m)\u001b[0m\u001b[0;34m\u001b[0m\u001b[0;34m\u001b[0m\u001b[0m\n\u001b[0m",
      "\u001b[0;31mAttributeError\u001b[0m: type object 'Example' has no attribute 'c'"
     ]
    }
   ],
   "source": [
    "e.c = -1\n",
    "print(f'Instance has \"c\" {hasattr(e, \"c\")}')\n",
    "print(f'Instance \"c\" {e.c}')\n",
    "print(f'Class has \"c\" {hasattr(Example, \"c\")}')\n",
    "print(f'Class    \"c\" {Example.c}')"
   ]
  },
  {
   "cell_type": "markdown",
   "id": "a621a356",
   "metadata": {
    "slideshow": {
     "slide_type": "slide"
    }
   },
   "source": [
    "### Using methods\n",
    "\n",
    "We can call the method on the instance:"
   ]
  },
  {
   "cell_type": "code",
   "execution_count": 10,
   "id": "82181464",
   "metadata": {},
   "outputs": [
    {
     "data": {
      "text/plain": [
       "'The parameters were <__main__.Example object at 0x1033ed070> and 4'"
      ]
     },
     "execution_count": 10,
     "metadata": {},
     "output_type": "execute_result"
    }
   ],
   "source": [
    "e.f(4)"
   ]
  },
  {
   "cell_type": "markdown",
   "id": "8dc3fffa",
   "metadata": {
    "slideshow": {
     "slide_type": "slide"
    }
   },
   "source": [
    "Or via the class, although then we need to pass in the instance (`self`) explicitly"
   ]
  },
  {
   "cell_type": "code",
   "execution_count": 11,
   "id": "4a37bd59",
   "metadata": {},
   "outputs": [
    {
     "data": {
      "text/plain": [
       "'The parameters were <__main__.Example object at 0x1033ed070> and 4'"
      ]
     },
     "execution_count": 11,
     "metadata": {},
     "output_type": "execute_result"
    }
   ],
   "source": [
    "Example.f(e, 4)"
   ]
  },
  {
   "cell_type": "markdown",
   "id": "8d44298e",
   "metadata": {
    "slideshow": {
     "slide_type": "slide"
    }
   },
   "source": [
    "and there's nothing special about `self`"
   ]
  },
  {
   "cell_type": "code",
   "execution_count": 12,
   "id": "6325b528",
   "metadata": {},
   "outputs": [
    {
     "data": {
      "text/plain": [
       "'The parameters were not an instance and 4'"
      ]
     },
     "execution_count": 12,
     "metadata": {},
     "output_type": "execute_result"
    }
   ],
   "source": [
    "Example.f('not an instance', 4)"
   ]
  },
  {
   "cell_type": "markdown",
   "id": "28e004ea",
   "metadata": {
    "slideshow": {
     "slide_type": "slide"
    }
   },
   "source": [
    "So we shouldn't be surprised that on the class it's a function, but on the instance it's a method, which gets passed the instance as its first argument"
   ]
  },
  {
   "cell_type": "code",
   "execution_count": 13,
   "id": "45907380",
   "metadata": {},
   "outputs": [
    {
     "name": "stdout",
     "output_type": "stream",
     "text": [
      "Example.f is a <class 'function'>\n",
      "e.f is a <class 'method'>\n"
     ]
    }
   ],
   "source": [
    "print(f'Example.f is a {type(Example.f)}')\n",
    "print(f'e.f is a {type(e.f)}')"
   ]
  },
  {
   "cell_type": "markdown",
   "id": "7e70f520",
   "metadata": {
    "slideshow": {
     "slide_type": "slide"
    }
   },
   "source": [
    "**Aside** In Python, all methods are functions, and there's nothing special about the name `self`."
   ]
  },
  {
   "cell_type": "code",
   "execution_count": 14,
   "id": "e61efd27",
   "metadata": {},
   "outputs": [
    {
     "name": "stdout",
     "output_type": "stream",
     "text": [
      "Class has \"double\" True\n",
      "Instance has \"double\" True\n",
      "Example.double is a <class 'function'>\n",
      "e.double is a <class 'method'>\n",
      "e.double(3) is 6\n"
     ]
    }
   ],
   "source": [
    "def double(self, x):\n",
    "    return x + x\n",
    "\n",
    "Example.double = double\n",
    "print(f'Class has \"double\" {hasattr(Example, \"double\")}')\n",
    "print(f'Instance has \"double\" {hasattr(e, \"double\")}')\n",
    "print(f'Example.double is a {type(Example.double)}')\n",
    "print(f'e.double is a {type(e.double)}')\n",
    "print(f'e.double(3) is {e.double(3)}')"
   ]
  },
  {
   "cell_type": "markdown",
   "id": "fa0fab1f",
   "metadata": {},
   "source": [
    "Contrariwise, in Ruby, all functions are methods:\n",
    "\n",
    "```ruby\n",
    "irb(main):005:1* def fn(a)\n",
    "irb(main):006:1*   puts \"self is #{self} #{self.inspect}\"\n",
    "irb(main):007:0> end\n",
    "=> :fn\n",
    "irb(main):008:0> fn(1)\n",
    "self is main main\n",
    "=> nil\n",
    "```"
   ]
  },
  {
   "cell_type": "markdown",
   "id": "4c4d54ab",
   "metadata": {},
   "source": [
    "So it seems natural to me that in Python we have to specify the `self` argument explicitly, as it's not special *to the function*.\n",
    "However, in Ruby, as all functions are methods, there's always a `self`, so there's no need to put it in the argument list.\n",
    "\n",
    "**End of aside**"
   ]
  },
  {
   "cell_type": "code",
   "execution_count": null,
   "id": "b2a5f497",
   "metadata": {},
   "outputs": [],
   "source": []
  },
  {
   "cell_type": "code",
   "execution_count": null,
   "id": "8b37765d",
   "metadata": {},
   "outputs": [],
   "source": []
  },
  {
   "cell_type": "markdown",
   "id": "4ae6ee58",
   "metadata": {
    "slideshow": {
     "slide_type": "slide"
    }
   },
   "source": [
    "### Can we define a class without `class`?"
   ]
  },
  {
   "cell_type": "markdown",
   "id": "f2ca246b",
   "metadata": {},
   "source": [
    "Can we create a class by some other mechanism?"
   ]
  },
  {
   "cell_type": "markdown",
   "id": "ba8c84f5",
   "metadata": {},
   "source": [
    "We've already used the `type` callable:"
   ]
  },
  {
   "cell_type": "code",
   "execution_count": 16,
   "id": "b482ac26",
   "metadata": {},
   "outputs": [
    {
     "data": {
      "text/plain": [
       "type"
      ]
     },
     "execution_count": 16,
     "metadata": {},
     "output_type": "execute_result"
    }
   ],
   "source": [
    "type(Example)"
   ]
  },
  {
   "cell_type": "markdown",
   "id": "ea4dcfee",
   "metadata": {},
   "source": [
    "(Although I would have guessed a class would be of type \"class\")"
   ]
  },
  {
   "cell_type": "markdown",
   "id": "4f21d8ef",
   "metadata": {},
   "source": [
    "and of course"
   ]
  },
  {
   "cell_type": "code",
   "execution_count": 19,
   "id": "43c5f39b",
   "metadata": {},
   "outputs": [
    {
     "name": "stdout",
     "output_type": "stream",
     "text": [
      "<class 'int'>\n",
      "<class 'str'>\n"
     ]
    }
   ],
   "source": [
    "print(type(1))\n",
    "print(type('2'))"
   ]
  },
  {
   "cell_type": "markdown",
   "id": "cc31445a",
   "metadata": {},
   "source": [
    "While it looks like a function, interestingly it isn't"
   ]
  },
  {
   "cell_type": "markdown",
   "id": "ece4cdbd",
   "metadata": {},
   "source": [
    "If we ask for `help(type)`, we see:\n",
    "```\n",
    "Help on class type in module builtins:\n",
    "\n",
    "class type(object)\n",
    " |  type(object_or_name, bases, dict)\n",
    " |  type(object) -> the object's type\n",
    " |  type(name, bases, dict) -> a new type\n",
    " ...\n",
    "```"
   ]
  },
  {
   "cell_type": "markdown",
   "id": "e938adf9",
   "metadata": {},
   "source": [
    "So we've been using the first of those, `type(object) -> the object's type`.\n",
    "\n",
    "and now we want the second, `type(name, bases, dict) -> a new type`"
   ]
  },
  {
   "cell_type": "code",
   "execution_count": 24,
   "id": "18c27e2c",
   "metadata": {},
   "outputs": [],
   "source": [
    "EmptyClass = type('EmptyClass', (), {})"
   ]
  },
  {
   "cell_type": "code",
   "execution_count": 25,
   "id": "10fe579d",
   "metadata": {},
   "outputs": [
    {
     "name": "stdout",
     "output_type": "stream",
     "text": [
      "<class 'type'>\n",
      "<class '__main__.EmptyClass'>\n"
     ]
    }
   ],
   "source": [
    "print(type(EmptyClass))\n",
    "print(repr(EmptyClass))"
   ]
  },
  {
   "cell_type": "code",
   "execution_count": 27,
   "id": "16aa25fd",
   "metadata": {
    "slideshow": {
     "slide_type": "slide"
    }
   },
   "outputs": [
    {
     "name": "stdout",
     "output_type": "stream",
     "text": [
      "<class '__main__.EmptyClass'>\n",
      "<__main__.EmptyClass object at 0x1034d9b50>\n"
     ]
    }
   ],
   "source": [
    "ec = EmptyClass()\n",
    "print(type(ec))\n",
    "print(repr(ec))"
   ]
  },
  {
   "cell_type": "code",
   "execution_count": 28,
   "id": "e3534a41",
   "metadata": {},
   "outputs": [],
   "source": [
    "def function_f(self, p):\n",
    "    \"\"\"A function we shall use as a method that takes a single argument\"\"\"\n",
    "    return f'The parameters were {self} and {p}'\n",
    "\n",
    "ByHand = type('ByHand', (), {'f': function_f, 'a': 3})"
   ]
  },
  {
   "cell_type": "code",
   "execution_count": 30,
   "id": "b859c8a0",
   "metadata": {},
   "outputs": [
    {
     "name": "stdout",
     "output_type": "stream",
     "text": [
      "<__main__.ByHand object at 0x1034d9a60>\n",
      "3\n",
      "The parameters were <__main__.ByHand object at 0x1034d9a60> and 2\n"
     ]
    }
   ],
   "source": [
    "bh = ByHand()\n",
    "print(bh)\n",
    "print(bh.a)\n",
    "print(bh.f(2))"
   ]
  },
  {
   "cell_type": "code",
   "execution_count": 35,
   "id": "2bb0529b",
   "metadata": {
    "slideshow": {
     "slide_type": "slide"
    }
   },
   "outputs": [],
   "source": [
    "from collections import ChainMap\n",
    "def make_a_class(name, value_dict, method_dict):\n",
    "    cls = type(name, (), dict(ChainMap(value_dict, method_dict)))\n",
    "    return cls"
   ]
  },
  {
   "cell_type": "code",
   "execution_count": 36,
   "id": "7746691f",
   "metadata": {
    "slideshow": {
     "slide_type": "slide"
    }
   },
   "outputs": [
    {
     "name": "stdout",
     "output_type": "stream",
     "text": [
      "Class <class '__main__.ByHand'>\n",
      "Class value a 3\n",
      "Class function The parameters were None and fred\n"
     ]
    }
   ],
   "source": [
    "C = make_a_class('ByHand', {'a': 3}, {'f': function_f})\n",
    "print(f'Class {C!r}')\n",
    "print(f'Class value a {C.a!r}')\n",
    "print(f'Class function {C.f(None, \"fred\")}')"
   ]
  },
  {
   "cell_type": "code",
   "execution_count": 38,
   "id": "fb6e8cdb",
   "metadata": {},
   "outputs": [
    {
     "name": "stdout",
     "output_type": "stream",
     "text": [
      "Instance <__main__.ByHand object at 0x1034a86a0>\n",
      "Instance vaue a 3\n",
      "Instance function The parameters were <__main__.ByHand object at 0x1034a86a0> and fred\n"
     ]
    }
   ],
   "source": [
    "o = C()\n",
    "print(f'Instance {o!r}')\n",
    "print(f'Instance vaue a {o.a!r}')\n",
    "print(f'Instance function {o.f(\"fred\")}')"
   ]
  },
  {
   "cell_type": "code",
   "execution_count": null,
   "id": "afc9b07a",
   "metadata": {},
   "outputs": [],
   "source": []
  },
  {
   "cell_type": "markdown",
   "id": "d5e98d7e",
   "metadata": {
    "slideshow": {
     "slide_type": "slide"
    }
   },
   "source": [
    "### Can we construct an instance by hand?"
   ]
  },
  {
   "cell_type": "markdown",
   "id": "072f4fa3",
   "metadata": {},
   "source": [
    "Can we create an empty object and add things to it?"
   ]
  },
  {
   "cell_type": "code",
   "execution_count": null,
   "id": "bf2c4fd1",
   "metadata": {
    "slideshow": {
     "slide_type": "slide"
    }
   },
   "outputs": [],
   "source": [
    "o = object()"
   ]
  },
  {
   "cell_type": "code",
   "execution_count": null,
   "id": "e7f4baf1",
   "metadata": {},
   "outputs": [],
   "source": [
    "o.a = 1"
   ]
  },
  {
   "cell_type": "markdown",
   "id": "5ac12dfa",
   "metadata": {},
   "source": [
    "So that won't work"
   ]
  },
  {
   "cell_type": "markdown",
   "id": "646cd465",
   "metadata": {
    "slideshow": {
     "slide_type": "slide"
    }
   },
   "source": [
    "So we probably still have to use `type` to get to an empty mutable object"
   ]
  },
  {
   "cell_type": "code",
   "execution_count": null,
   "id": "602e8864",
   "metadata": {},
   "outputs": [],
   "source": [
    "eo_class = type('empty_object', (), {})\n",
    "eo = eo_class()\n",
    "print(type(eo))"
   ]
  },
  {
   "cell_type": "markdown",
   "id": "2d8ec86a",
   "metadata": {
    "slideshow": {
     "slide_type": "slide"
    }
   },
   "source": [
    "And we know we can do"
   ]
  },
  {
   "cell_type": "code",
   "execution_count": null,
   "id": "161897d4",
   "metadata": {},
   "outputs": [],
   "source": [
    "eo.a = 1\n",
    "print(eo.a)"
   ]
  },
  {
   "cell_type": "code",
   "execution_count": null,
   "id": "65a18519",
   "metadata": {},
   "outputs": [],
   "source": [
    "eo.a = eo.a + 1\n",
    "print(eo.a)"
   ]
  },
  {
   "cell_type": "markdown",
   "id": "d8da873d",
   "metadata": {
    "slideshow": {
     "slide_type": "slide"
    }
   },
   "source": [
    "Can we add a function *to the object* and have it be a method?"
   ]
  },
  {
   "cell_type": "code",
   "execution_count": null,
   "id": "ddf18d69",
   "metadata": {},
   "outputs": [],
   "source": [
    "def maybe_a_method(self, x):\n",
    "    print(f'Maybe a method on {self} and {x}')\n",
    "    \n",
    "eo.f = maybe_a_method\n",
    "print(eo.f(1))"
   ]
  },
  {
   "cell_type": "code",
   "execution_count": null,
   "id": "00da5567",
   "metadata": {},
   "outputs": [],
   "source": [
    "print(type(eo.f))"
   ]
  },
  {
   "cell_type": "markdown",
   "id": "2d473ecb",
   "metadata": {
    "slideshow": {
     "slide_type": "slide"
    }
   },
   "source": [
    "Normally, when we ask an instance for a method (`eo.f`), it gets looked up in the instance, isn't found there,\n",
    "and is looked up in the class, which says\n",
    "\"I know what you're doing, that's a function you're looking up on me, so you must want a method back\""
   ]
  },
  {
   "cell_type": "code",
   "execution_count": null,
   "id": "aa326772",
   "metadata": {
    "slideshow": {
     "slide_type": "slide"
    }
   },
   "outputs": [],
   "source": [
    "class NoMethods: pass\n",
    "def not_a_method(self): return 'Aha!'\n",
    "NoMethods.f = not_a_method\n",
    "nm = NoMethods()\n",
    "\n",
    "print(type(f))\n",
    "print(type(NoMethods.f))\n",
    "print(type(nm.f))\n",
    "print(nm.f())"
   ]
  },
  {
   "cell_type": "markdown",
   "id": "831f5c5d",
   "metadata": {
    "slideshow": {
     "slide_type": "slide"
    }
   },
   "source": [
    "But when our empty object is created from an empty class, with no methods.\n",
    "Luckily there is a way:"
   ]
  },
  {
   "cell_type": "code",
   "execution_count": null,
   "id": "59504902",
   "metadata": {},
   "outputs": [],
   "source": [
    "eo.f = not_a_method.__get__(eo, eo_class)\n",
    "print(type(eo.f))\n",
    "print(eo.f())"
   ]
  },
  {
   "cell_type": "markdown",
   "id": "74434cde",
   "metadata": {},
   "source": [
    "I don't propose to explain that (but am grateful to https://stackoverflow.com/a/46757134 for the example!).\n",
    "\n",
    "If you want to learn more, then this is using the power of *descriptors*, which are at the heart of Python's attribute access\n",
    "\n",
    "See the HOWTO at https://docs.python.org/3/howto/descriptor.html"
   ]
  },
  {
   "cell_type": "markdown",
   "id": "7f59f0eb",
   "metadata": {
    "slideshow": {
     "slide_type": "slide"
    }
   },
   "source": [
    "There is also a more \"understandable\" way to do this.\n",
    "\n",
    "Since we're wanting to \"bind\" the function to the object\n",
    "(so that when we call it, the `self` argument is automatically put in),\n",
    "we might be surprised to find out that there's a callable to do that:"
   ]
  },
  {
   "cell_type": "code",
   "execution_count": null,
   "id": "7b71a901",
   "metadata": {},
   "outputs": [],
   "source": [
    "import types\n",
    "eo.f = types.MethodType(not_a_method, eo)\n",
    "print(type(eo.f))\n",
    "print(eo.f())"
   ]
  },
  {
   "cell_type": "code",
   "execution_count": null,
   "id": "57bab528",
   "metadata": {},
   "outputs": [],
   "source": []
  },
  {
   "cell_type": "code",
   "execution_count": null,
   "id": "8307dfeb",
   "metadata": {
    "slideshow": {
     "slide_type": "slide"
    }
   },
   "outputs": [],
   "source": [
    "def pretend_instance(class_name, variable_dict, function_list):\n",
    "    eo_class = type(class_name, (), variable_dict)\n",
    "    eo = eo_class()\n",
    "    for f in function_list:\n",
    "        setattr(eo, f.__name__, types.MethodType(f, eo))\n",
    "    return eo"
   ]
  },
  {
   "cell_type": "code",
   "execution_count": null,
   "id": "43fdac0b",
   "metadata": {},
   "outputs": [],
   "source": [
    "x = pretend_instance('ClassName', {'var': 3}, [not_a_method])\n",
    "print(type(x))\n",
    "print(x.var)\n",
    "print(x.not_a_method())"
   ]
  },
  {
   "cell_type": "code",
   "execution_count": null,
   "id": "8254a73a",
   "metadata": {},
   "outputs": [],
   "source": []
  },
  {
   "cell_type": "code",
   "execution_count": null,
   "id": "d77a7ce9",
   "metadata": {},
   "outputs": [],
   "source": []
  },
  {
   "cell_type": "code",
   "execution_count": null,
   "id": "730a21aa",
   "metadata": {},
   "outputs": [],
   "source": []
  },
  {
   "cell_type": "code",
   "execution_count": null,
   "id": "13b11957",
   "metadata": {},
   "outputs": [],
   "source": []
  },
  {
   "cell_type": "code",
   "execution_count": null,
   "id": "7cfcfb6c",
   "metadata": {},
   "outputs": [],
   "source": []
  },
  {
   "cell_type": "code",
   "execution_count": null,
   "id": "c45160df",
   "metadata": {
    "slideshow": {
     "slide_type": "slide"
    }
   },
   "outputs": [],
   "source": [
    "def bare_f(self, arg):\n",
    "    return f'f called with {self!r} and {arg!r}'\n",
    "print(type(bare_f))"
   ]
  },
  {
   "cell_type": "code",
   "execution_count": null,
   "id": "853bc050",
   "metadata": {},
   "outputs": [],
   "source": [
    "fn.f = bare_f\n",
    "fn.a = 3\n",
    "print(f'Calling f {fn.f(None, \"fred\")}')\n",
    "print(f'Value a {fn.a}')"
   ]
  },
  {
   "cell_type": "code",
   "execution_count": null,
   "id": "2d8ba163",
   "metadata": {},
   "outputs": [],
   "source": [
    "fn.f(ByHand2, 'fred')"
   ]
  },
  {
   "cell_type": "code",
   "execution_count": null,
   "id": "2ffae707",
   "metadata": {},
   "outputs": [],
   "source": [
    "make_a_ByHand_class.__call__()"
   ]
  },
  {
   "cell_type": "code",
   "execution_count": null,
   "id": "7f54cd9e",
   "metadata": {},
   "outputs": [],
   "source": [
    "print(f'fn.__call__() {fn.__call__()!r}')\n",
    "print(f'fn.f.__call__(1,2) {fn.f.__call__(1,2)!r}')"
   ]
  },
  {
   "cell_type": "markdown",
   "id": "51fb85ee",
   "metadata": {},
   "source": [
    "Any Python object with a `__call__` method may be called, and that is sufficient for an object to \"act like\" a function."
   ]
  },
  {
   "cell_type": "code",
   "execution_count": null,
   "id": "8ced8f62",
   "metadata": {},
   "outputs": [],
   "source": []
  },
  {
   "cell_type": "code",
   "execution_count": null,
   "id": "df457fcd",
   "metadata": {},
   "outputs": [],
   "source": []
  },
  {
   "cell_type": "code",
   "execution_count": null,
   "id": "d716d4a0",
   "metadata": {},
   "outputs": [],
   "source": []
  },
  {
   "cell_type": "markdown",
   "id": "3749d751",
   "metadata": {
    "slideshow": {
     "slide_type": "slide"
    }
   },
   "source": [
    "### Can we create a function without using `def`?"
   ]
  },
  {
   "cell_type": "markdown",
   "id": "cce5ae26",
   "metadata": {
    "slideshow": {
     "slide_type": "slide"
    }
   },
   "source": [
    "Well, there is lambda"
   ]
  },
  {
   "cell_type": "code",
   "execution_count": null,
   "id": "f7f55f13",
   "metadata": {},
   "outputs": [],
   "source": [
    "lamb = lambda x: x + 1\n",
    "\n",
    "lamb(2)"
   ]
  },
  {
   "cell_type": "markdown",
   "id": "42d5af04",
   "metadata": {
    "slideshow": {
     "slide_type": "slide"
    }
   },
   "source": [
    "although\n",
    "\n",
    "1. That's another keyword\n",
    "2. It's very limited in what it can do\n",
    "\n",
    "> An anonymous inline function consisting of a single expression which is evaluated when the function is called"
   ]
  },
  {
   "cell_type": "markdown",
   "id": "fa5ad02e",
   "metadata": {
    "slideshow": {
     "slide_type": "slide"
    }
   },
   "source": [
    "There is also `types.FunctionType`, which is similar in idea to our use of `type` to create classes.\n",
    "\n",
    "(unfortunately, it's signature is implementation specific and may even change between Python versions)"
   ]
  },
  {
   "cell_type": "markdown",
   "id": "f8cbfadc",
   "metadata": {
    "slideshow": {
     "slide_type": "slide"
    }
   },
   "source": [
    "```python\n",
    ">>> help(types.FunctionType)\n",
    "Help on class function in module builtins:\n",
    "\n",
    "class function(object)\n",
    " |  function(code, globals, name=None, argdefs=None, closure=None)\n",
    " |\n",
    " |  Create a function object.\n",
    " |\n",
    " |  code\n",
    " |    a code object\n",
    " |  globals\n",
    " |    the globals dictionary\n",
    " |  name\n",
    " |    a string that overrides the name from the code object\n",
    " |  argdefs\n",
    " |    a tuple that specifies the default argument values\n",
    " |  closure\n",
    " |    a tuple that supplies the bindings for free variables\n",
    " ```"
   ]
  },
  {
   "cell_type": "markdown",
   "id": "f940a285",
   "metadata": {
    "slideshow": {
     "slide_type": "slide"
    }
   },
   "source": [
    "We can get a code object from an existing function"
   ]
  },
  {
   "cell_type": "code",
   "execution_count": null,
   "id": "d302c116",
   "metadata": {},
   "outputs": [],
   "source": [
    "print(lamb.__code__)"
   ]
  },
  {
   "cell_type": "code",
   "execution_count": null,
   "id": "bbe3392b",
   "metadata": {},
   "outputs": [],
   "source": [
    "import types\n",
    "lambish = types.FunctionType(lamb.__code__, globals())\n",
    "print(lambish(1))"
   ]
  },
  {
   "cell_type": "markdown",
   "id": "0f4ccda4",
   "metadata": {
    "slideshow": {
     "slide_type": "slide"
    }
   },
   "source": [
    "or we can create one with `compile`"
   ]
  },
  {
   "cell_type": "code",
   "execution_count": null,
   "id": "fba5f72a",
   "metadata": {},
   "outputs": [],
   "source": [
    "code = compile('print(4)', 'no-file', 'exec')\n",
    "compiled_fn = types.FunctionType(code, globals())\n",
    "print(compiled_fn())"
   ]
  },
  {
   "cell_type": "markdown",
   "id": "956edfc7",
   "metadata": {
    "slideshow": {
     "slide_type": "slide"
    }
   },
   "source": [
    "But how did `lambish` know about its argument?"
   ]
  },
  {
   "cell_type": "code",
   "execution_count": null,
   "id": "5531aa32",
   "metadata": {
    "slideshow": {
     "slide_type": "slide"
    }
   },
   "outputs": [],
   "source": [
    "print(dir(lamb.__code__))"
   ]
  },
  {
   "cell_type": "markdown",
   "id": "0725c218",
   "metadata": {},
   "source": [
    "The documentation for the `inspect` module tells us that `co_argcount` is the number of arguments, and `co_varnames` is a tuple of the names of the arguments and then the names of the local variables"
   ]
  },
  {
   "cell_type": "code",
   "execution_count": null,
   "id": "dfb2c949",
   "metadata": {
    "slideshow": {
     "slide_type": "slide"
    }
   },
   "outputs": [],
   "source": [
    "print(lamb.__code__.co_argcount)\n",
    "print(lamb.__code__.co_varnames)"
   ]
  },
  {
   "cell_type": "markdown",
   "id": "345b801b",
   "metadata": {
    "slideshow": {
     "slide_type": "slide"
    }
   },
   "source": [
    "But that't not mutable"
   ]
  },
  {
   "cell_type": "code",
   "execution_count": null,
   "id": "1e3556e0",
   "metadata": {},
   "outputs": [],
   "source": [
    "lamb.__code__.co_varnames = ('x', 'y')"
   ]
  },
  {
   "cell_type": "markdown",
   "id": "c5352120",
   "metadata": {
    "slideshow": {
     "slide_type": "slide"
    }
   },
   "source": [
    "Let's try looking at the \"inside\" of lambish"
   ]
  },
  {
   "cell_type": "code",
   "execution_count": null,
   "id": "e2d48c02",
   "metadata": {},
   "outputs": [],
   "source": [
    "import dis\n",
    "dis.dis(lambish)"
   ]
  },
  {
   "cell_type": "code",
   "execution_count": null,
   "id": "5cb758b5",
   "metadata": {},
   "outputs": [],
   "source": [
    "dis.dis(lamb.__code__)"
   ]
  },
  {
   "cell_type": "code",
   "execution_count": null,
   "id": "ef957d1a",
   "metadata": {},
   "outputs": [],
   "source": []
  },
  {
   "cell_type": "code",
   "execution_count": null,
   "id": "557f73c3",
   "metadata": {},
   "outputs": [],
   "source": []
  },
  {
   "cell_type": "code",
   "execution_count": null,
   "id": "00a9aac0",
   "metadata": {},
   "outputs": [],
   "source": []
  },
  {
   "cell_type": "code",
   "execution_count": null,
   "id": "3442425b",
   "metadata": {},
   "outputs": [],
   "source": []
  },
  {
   "cell_type": "markdown",
   "id": "8ba624f0",
   "metadata": {
    "slideshow": {
     "slide_type": "slide"
    }
   },
   "source": [
    "However, there is `signature` (which needs a callable as its argument)"
   ]
  },
  {
   "cell_type": "code",
   "execution_count": null,
   "id": "249e41ec",
   "metadata": {},
   "outputs": [],
   "source": [
    "print(inspect.signature(lambish))"
   ]
  },
  {
   "cell_type": "markdown",
   "id": "aa6c69db",
   "metadata": {},
   "source": [
    "and that actually returns an instance of class `Signature`"
   ]
  },
  {
   "cell_type": "code",
   "execution_count": null,
   "id": "24143336",
   "metadata": {},
   "outputs": [],
   "source": [
    "print(type(inspect.signature(lambish)))"
   ]
  },
  {
   "cell_type": "code",
   "execution_count": null,
   "id": "656f227a",
   "metadata": {},
   "outputs": [],
   "source": []
  },
  {
   "cell_type": "code",
   "execution_count": null,
   "id": "8a976510",
   "metadata": {},
   "outputs": [],
   "source": []
  },
  {
   "cell_type": "code",
   "execution_count": null,
   "id": "83f96f5d",
   "metadata": {},
   "outputs": [],
   "source": []
  },
  {
   "cell_type": "code",
   "execution_count": null,
   "id": "3dd160d1",
   "metadata": {},
   "outputs": [],
   "source": []
  },
  {
   "cell_type": "code",
   "execution_count": null,
   "id": "c00f9187",
   "metadata": {},
   "outputs": [],
   "source": [
    "import dis\n",
    "dis.dis(fn)"
   ]
  },
  {
   "cell_type": "code",
   "execution_count": null,
   "id": "04a6554d",
   "metadata": {},
   "outputs": [],
   "source": [
    "dis.dis(fn.__code__)"
   ]
  },
  {
   "cell_type": "code",
   "execution_count": null,
   "id": "2e17d97d",
   "metadata": {},
   "outputs": [],
   "source": [
    "dis.dis(bare_f)"
   ]
  },
  {
   "cell_type": "code",
   "execution_count": null,
   "id": "faf07454",
   "metadata": {},
   "outputs": [],
   "source": [
    "print(dir(fn))"
   ]
  },
  {
   "cell_type": "code",
   "execution_count": null,
   "id": "4e8edaa2",
   "metadata": {},
   "outputs": [],
   "source": [
    "print(fn.__dict__)"
   ]
  },
  {
   "cell_type": "code",
   "execution_count": null,
   "id": "1477984f",
   "metadata": {},
   "outputs": [],
   "source": [
    "print(fn.__call__)"
   ]
  },
  {
   "cell_type": "code",
   "execution_count": null,
   "id": "743c7fd4",
   "metadata": {},
   "outputs": [],
   "source": [
    "print(fn.__call__())"
   ]
  },
  {
   "cell_type": "code",
   "execution_count": null,
   "id": "22f07839",
   "metadata": {},
   "outputs": [],
   "source": [
    "print(dir(fn.f))"
   ]
  },
  {
   "cell_type": "code",
   "execution_count": null,
   "id": "300db9f4",
   "metadata": {},
   "outputs": [],
   "source": [
    "save = fn.__code__\n",
    "fn.__code__ = bare_f.__code__\n",
    "print(fn(None, 'fred'))\n",
    "fn.__code__ = save\n",
    "print(fn())"
   ]
  },
  {
   "cell_type": "markdown",
   "id": "18dd4759",
   "metadata": {},
   "source": [
    "-----------------"
   ]
  },
  {
   "cell_type": "code",
   "execution_count": null,
   "id": "a257c99e",
   "metadata": {},
   "outputs": [],
   "source": [
    "a = lambda s, x: f'Lambda over #{s} and #{x}'"
   ]
  },
  {
   "cell_type": "code",
   "execution_count": null,
   "id": "1ea25953",
   "metadata": {},
   "outputs": [],
   "source": [
    "print(a(1,2))"
   ]
  },
  {
   "cell_type": "code",
   "execution_count": null,
   "id": "e84c4907",
   "metadata": {},
   "outputs": [],
   "source": [
    "dis.dis(a)"
   ]
  },
  {
   "cell_type": "code",
   "execution_count": null,
   "id": "9d16c4af",
   "metadata": {},
   "outputs": [],
   "source": [
    "def lf(s,x):\n",
    "    pass\n",
    "\n",
    "lf.__code__ = a.__code__\n",
    "\n",
    "print(lf(1,2))"
   ]
  },
  {
   "cell_type": "code",
   "execution_count": null,
   "id": "dc58fa01",
   "metadata": {},
   "outputs": [],
   "source": [
    "lt = type('Function?', (), {})\n",
    "lt.__code__ = a.__code__"
   ]
  },
  {
   "cell_type": "code",
   "execution_count": null,
   "id": "1c7bcc46",
   "metadata": {},
   "outputs": [],
   "source": [
    "lt(1,2)"
   ]
  },
  {
   "cell_type": "code",
   "execution_count": null,
   "id": "c4cf4e28",
   "metadata": {},
   "outputs": [],
   "source": [
    "print(dir(lf))"
   ]
  },
  {
   "cell_type": "code",
   "execution_count": null,
   "id": "bd7925bd",
   "metadata": {},
   "outputs": [],
   "source": [
    "import inspect"
   ]
  },
  {
   "cell_type": "code",
   "execution_count": null,
   "id": "16c03ebf",
   "metadata": {},
   "outputs": [],
   "source": [
    "print(inspect.isfunction(fn))\n",
    "print(inspect.isfunction(fn.f))\n",
    "print(inspect.isfunction(x.not_a_method))\n",
    "print()\n",
    "print(inspect.ismethod(fn))\n",
    "print(inspect.ismethod(x.not_a_method))"
   ]
  },
  {
   "cell_type": "code",
   "execution_count": 9,
   "id": "4a161b69",
   "metadata": {},
   "outputs": [
    {
     "ename": "NameError",
     "evalue": "name 'inspect' is not defined",
     "output_type": "error",
     "traceback": [
      "\u001b[0;31m---------------------------------------------------------------------------\u001b[0m",
      "\u001b[0;31mNameError\u001b[0m                                 Traceback (most recent call last)",
      "\u001b[0;32m/var/folders/3c/74720f_907b07qy3vwcklsg00000gp/T/ipykernel_84396/849420896.py\u001b[0m in \u001b[0;36m<module>\u001b[0;34m\u001b[0m\n\u001b[0;32m----> 1\u001b[0;31m \u001b[0mprint\u001b[0m\u001b[0;34m(\u001b[0m\u001b[0minspect\u001b[0m\u001b[0;34m.\u001b[0m\u001b[0misclass\u001b[0m\u001b[0;34m(\u001b[0m\u001b[0mExample\u001b[0m\u001b[0;34m)\u001b[0m\u001b[0;34m)\u001b[0m\u001b[0;34m\u001b[0m\u001b[0;34m\u001b[0m\u001b[0m\n\u001b[0m\u001b[1;32m      2\u001b[0m \u001b[0mprint\u001b[0m\u001b[0;34m(\u001b[0m\u001b[0minspect\u001b[0m\u001b[0;34m.\u001b[0m\u001b[0misclass\u001b[0m\u001b[0;34m(\u001b[0m\u001b[0meo_class\u001b[0m\u001b[0;34m)\u001b[0m\u001b[0;34m)\u001b[0m\u001b[0;34m\u001b[0m\u001b[0;34m\u001b[0m\u001b[0m\n",
      "\u001b[0;31mNameError\u001b[0m: name 'inspect' is not defined"
     ]
    }
   ],
   "source": [
    "print(inspect.isclass(Example))\n",
    "print(inspect.isclass(eo_class))"
   ]
  },
  {
   "cell_type": "markdown",
   "id": "b8b2c45f",
   "metadata": {},
   "source": [
    "There's no point in asking if something is an instance, because everything is..."
   ]
  },
  {
   "cell_type": "code",
   "execution_count": null,
   "id": "1228abc1",
   "metadata": {},
   "outputs": [],
   "source": [
    "inspect.signature(not_a_method)"
   ]
  },
  {
   "cell_type": "code",
   "execution_count": null,
   "id": "329242df",
   "metadata": {},
   "outputs": [],
   "source": [
    "print(inspect.signature(bare_f))\n",
    "print(inspect.getsource(bare_f))"
   ]
  },
  {
   "cell_type": "code",
   "execution_count": null,
   "id": "ce02ab99",
   "metadata": {},
   "outputs": [],
   "source": []
  }
 ],
 "metadata": {
  "celltoolbar": "Slideshow",
  "kernelspec": {
   "display_name": "Python 3 (ipykernel)",
   "language": "python",
   "name": "python3"
  },
  "language_info": {
   "codemirror_mode": {
    "name": "ipython",
    "version": 3
   },
   "file_extension": ".py",
   "mimetype": "text/x-python",
   "name": "python",
   "nbconvert_exporter": "python",
   "pygments_lexer": "ipython3",
   "version": "3.9.1"
  }
 },
 "nbformat": 4,
 "nbformat_minor": 5
}
